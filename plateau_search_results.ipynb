{
  "nbformat": 4,
  "nbformat_minor": 0,
  "metadata": {
    "colab": {
      "provenance": [],
      "authorship_tag": "ABX9TyN0U0ugKTQlypR8r6Ctlthc",
      "include_colab_link": true
    },
    "kernelspec": {
      "name": "python3",
      "display_name": "Python 3"
    },
    "language_info": {
      "name": "python"
    },
    "gpuClass": "standard"
  },
  "cells": [
    {
      "cell_type": "markdown",
      "metadata": {
        "id": "view-in-github",
        "colab_type": "text"
      },
      "source": [
        "<a href=\"https://colab.research.google.com/github/sokanaid/CourseProject2022BiologicalMath/blob/main/plateau_search_results.ipynb\" target=\"_parent\"><img src=\"https://colab.research.google.com/assets/colab-badge.svg\" alt=\"Open In Colab\"/></a>"
      ]
    },
    {
      "cell_type": "markdown",
      "source": [
        "# Результаты поиска плато"
      ],
      "metadata": {
        "id": "k5xzevjMgstC"
      }
    },
    {
      "cell_type": "code",
      "source": [
        "import pandas as pd\n",
        "import os\n",
        "import matplotlib.pyplot as plt"
      ],
      "metadata": {
        "id": "iVviwUFPjbh6"
      },
      "execution_count": 191,
      "outputs": []
    },
    {
      "cell_type": "code",
      "source": [
        "from google.colab import drive\n",
        "drive.mount('/content/drive/')\n",
        "%cd /content/drive/MyDrive/sim_tables"
      ],
      "metadata": {
        "colab": {
          "base_uri": "https://localhost:8080/",
          "height": 967
        },
        "id": "7Q1j3GlVhjn8",
        "outputId": "bcabd6be-2958-4125-c83f-ac634fa353f0"
      },
      "execution_count": 192,
      "outputs": [
        {
          "output_type": "stream",
          "name": "stderr",
          "text": [
            "ERROR:root:Internal Python error in the inspect module.\n",
            "Below is the traceback from this internal error.\n",
            "\n"
          ]
        },
        {
          "output_type": "stream",
          "name": "stdout",
          "text": [
            "Drive already mounted at /content/drive/; to attempt to forcibly remount, call drive.mount(\"/content/drive/\", force_remount=True).\n",
            "Traceback (most recent call last):\n",
            "  File \"/usr/local/lib/python3.9/dist-packages/IPython/core/interactiveshell.py\", line 3326, in run_code\n",
            "    exec(code_obj, self.user_global_ns, self.user_ns)\n",
            "  File \"<ipython-input-192-0e4913ec1a0b>\", line 3, in <module>\n",
            "    get_ipython().run_line_magic('cd', '/content/drive/MyDrive/sim_tables')\n",
            "  File \"/usr/local/lib/python3.9/dist-packages/IPython/core/interactiveshell.py\", line 2314, in run_line_magic\n",
            "    result = fn(*args, **kwargs)\n",
            "  File \"<decorator-gen-85>\", line 2, in cd\n",
            "  File \"/usr/local/lib/python3.9/dist-packages/IPython/core/magic.py\", line 187, in <lambda>\n",
            "    call = lambda f, *a, **k: f(*a, **k)\n",
            "  File \"/usr/local/lib/python3.9/dist-packages/IPython/core/magics/osm.py\", line 334, in cd\n",
            "    oldcwd = os.getcwd()\n",
            "OSError: [Errno 107] Transport endpoint is not connected\n",
            "\n",
            "During handling of the above exception, another exception occurred:\n",
            "\n",
            "Traceback (most recent call last):\n",
            "  File \"/usr/local/lib/python3.9/dist-packages/IPython/core/interactiveshell.py\", line 2040, in showtraceback\n",
            "    stb = value._render_traceback_()\n",
            "AttributeError: 'OSError' object has no attribute '_render_traceback_'\n",
            "\n",
            "During handling of the above exception, another exception occurred:\n",
            "\n",
            "Traceback (most recent call last):\n",
            "  File \"/usr/local/lib/python3.9/dist-packages/IPython/core/ultratb.py\", line 1101, in get_records\n",
            "    return _fixed_getinnerframes(etb, number_of_lines_of_context, tb_offset)\n",
            "  File \"/usr/local/lib/python3.9/dist-packages/IPython/core/ultratb.py\", line 319, in wrapped\n",
            "    return f(*args, **kwargs)\n",
            "  File \"/usr/local/lib/python3.9/dist-packages/IPython/core/ultratb.py\", line 353, in _fixed_getinnerframes\n",
            "    records = fix_frame_records_filenames(inspect.getinnerframes(etb, context))\n",
            "  File \"/usr/lib/python3.9/inspect.py\", line 1543, in getinnerframes\n",
            "    frameinfo = (tb.tb_frame,) + getframeinfo(tb, context)\n",
            "  File \"/usr/lib/python3.9/inspect.py\", line 1501, in getframeinfo\n",
            "    filename = getsourcefile(frame) or getfile(frame)\n",
            "  File \"/usr/lib/python3.9/inspect.py\", line 709, in getsourcefile\n",
            "    if getattr(getmodule(object, filename), '__loader__', None) is not None:\n",
            "  File \"/usr/lib/python3.9/inspect.py\", line 738, in getmodule\n",
            "    file = getabsfile(object, _filename)\n",
            "  File \"/usr/lib/python3.9/inspect.py\", line 722, in getabsfile\n",
            "    return os.path.normcase(os.path.abspath(_filename))\n",
            "  File \"/usr/lib/python3.9/posixpath.py\", line 380, in abspath\n",
            "    cwd = os.getcwd()\n",
            "OSError: [Errno 107] Transport endpoint is not connected\n"
          ]
        },
        {
          "output_type": "error",
          "ename": "OSError",
          "evalue": "ignored",
          "traceback": [
            "\u001b[0;31m---------------------------------------------------------------------------\u001b[0m"
          ]
        }
      ]
    },
    {
      "cell_type": "markdown",
      "source": [
        "## Чтение данных"
      ],
      "metadata": {
        "id": "JmuvxBRpii61"
      }
    },
    {
      "cell_type": "code",
      "source": [
        "def read_csv_file(directory_path, name):\n",
        "  file_path = os.path.join(directory_path, name + \".csv\")\n",
        "  print(\"read file \", file_path)\n",
        "  return pd.read_csv(file_path)"
      ],
      "metadata": {
        "id": "5-yhHC4bpjd2"
      },
      "execution_count": null,
      "outputs": []
    },
    {
      "cell_type": "code",
      "source": [
        "def read_description(directory_path, file_name = \"description.txt\", parse_params = False):\n",
        "  file_path = os.path.join(directory_path, file_name)\n",
        "  print(\"read description from file  \", file_path)\n",
        "  with open(file_path, 'r') as file:\n",
        "    if not parse_params:\n",
        "      return file.read()\n",
        "    result = {}\n",
        "    for line in file:\n",
        "      name, value = line.split('=')\n",
        "      value = value.strip(' \\t\\n\\r')\n",
        "      if value == 'TRUE':\n",
        "        value = True\n",
        "      elif value == 'FALSE':\n",
        "        value = False\n",
        "      else:\n",
        "        try:\n",
        "          value = float(value)\n",
        "        except:\n",
        "          try:\n",
        "            value = int(value)\n",
        "          except:\n",
        "            ...\n",
        "      result[name] = value\n",
        "    return result"
      ],
      "metadata": {
        "id": "FyY13zqWZwWZ"
      },
      "execution_count": null,
      "outputs": []
    },
    {
      "cell_type": "code",
      "execution_count": null,
      "metadata": {
        "id": "lZRSFxZEexkE"
      },
      "outputs": [],
      "source": [
        "def read_files(directory_path):\n",
        "  data = {}\n",
        "  # строковое описание параметров\n",
        "  data[\"description_str\"] = read_description(directory_path)\n",
        "  # описание параметров в виде словаря\n",
        "  data[\"params\"] =  read_description(directory_path, parse_params = True)\n",
        "  # численность популяции\n",
        "  data[\"population\"] = read_csv_file(directory_path, \"population\")\n",
        "  data[\"population\"].drop(data[\"population\"].tail(1).index, inplace=True)\n",
        "  data[\"population\"].rename(columns={\"Unnamed: 0\": 'epochs'}, inplace=True)\n",
        "  # результаты последовательных сглаживаний численности популяции\n",
        "  name = \"exp_pop10\"\n",
        "  data[name] = read_csv_file(directory_path, name)\n",
        "  data[name].rename(columns={\"Unnamed: 0\": 'epochs'}, inplace=True)\n",
        "  return data"
      ]
    },
    {
      "cell_type": "code",
      "source": [
        "# читаем все результаты симуляций из папок\n",
        "def read_all_simulations(directories_paths):\n",
        "  data = []\n",
        "  for directory_path in directories_paths:\n",
        "    for simulation_diractory_name in os.listdir(directory_path):\n",
        "      simulation_diractory_path = os.path.join(directory_path, simulation_diractory_name)\n",
        "      if os.path.isdir(simulation_diractory_path):\n",
        "        data.append(read_files(simulation_diractory_path))\n",
        "  return data"
      ],
      "metadata": {
        "id": "kH5kTHo1nSen"
      },
      "execution_count": null,
      "outputs": []
    },
    {
      "cell_type": "markdown",
      "source": [
        "## Построение графиков"
      ],
      "metadata": {
        "id": "efkq-dRg7EiT"
      }
    },
    {
      "cell_type": "markdown",
      "source": [
        "## Результаты симуляций"
      ],
      "metadata": {
        "id": "YMrR16TVlEg8"
      }
    },
    {
      "cell_type": "code",
      "source": [
        "directories = [\"/content/drive/MyDrive/sim_tables/kurkin_b=02_d=002\"]\n",
        "data = read_all_simulations(directories)"
      ],
      "metadata": {
        "id": "NVRrF9G6iONz"
      },
      "execution_count": null,
      "outputs": []
    },
    {
      "cell_type": "code",
      "source": [
        "data[0]"
      ],
      "metadata": {
        "id": "2RVjnhs5q6CR"
      },
      "execution_count": null,
      "outputs": []
    },
    {
      "cell_type": "code",
      "source": [
        "# ищем симуляции на которых не вышли на плато\n",
        "count = 0\n",
        "no_plateau_finding = 0\n",
        "for sim_data in data:\n",
        "  if sim_data[\"params\"][\"auto_stop_at_plateau\"] and not sim_data[\"params\"][\"found_plateau\"]:\n",
        "    print(sim_data[\"description_str\"])\n",
        "  elif sim_data[\"params\"][\"auto_stop_at_plateau\"]:\n",
        "    count+=1\n",
        "  else:\n",
        "    no_plateau_finding+=1\n",
        "\n",
        "print(\"successful: \", count)\n",
        "print(\"plateau not found: \", len(data) - count - no_plateau_finding)\n",
        "print(\"total: \", len(data) - no_plateau_finding)"
      ],
      "metadata": {
        "id": "QhK9rf8nqhHB"
      },
      "execution_count": null,
      "outputs": []
    },
    {
      "cell_type": "code",
      "source": [
        "# поиск симуляции с теми же параметрами, но без остановки на плато\n",
        "def find_pair_sim(sim_data, data):\n",
        "  if not sim_data[\"params\"][\"auto_stop_at_plateau\"]:\n",
        "    print(sim_data)\n",
        "    print(\"auto_stop_at_plateau = False\")\n",
        "    return\n",
        "  params = sim_data[\"params\"]\n",
        "  params.pop(\"realtime_limit_reached\", None)\n",
        "  params.pop(\"plateau_threshold\", None)\n",
        "  params[\"found_plateau\"] = False\n",
        "  params[\"auto_stop_at_plateau\"] = False\n",
        "  \n",
        "  pair_sim = None\n",
        "  for other_sim_data in data:\n",
        "    is_pair_sim = True\n",
        "    for param in params:\n",
        "      if other_sim_data[\"params\"][param]!=params[param]:\n",
        "        is_pair_sim = False\n",
        "        break\n",
        "    if is_pair_sim:\n",
        "      pair_sim = other_sim_data\n",
        "      break\n",
        "  if pair_sim is None:\n",
        "    print(\"pair not found params:\", sim_data[\"str_description\"])\n",
        "  return pair_sim"
      ],
      "metadata": {
        "id": "E3bo157dRt8D"
      },
      "execution_count": null,
      "outputs": []
    },
    {
      "cell_type": "code",
      "source": [
        "# найдем симуляции, для которых график без остановки на плато продолжил падать/ расти\n",
        "big_diff_count =0 \n",
        "for sim_data in data:\n",
        "  if not sim_data[\"params\"][\"auto_stop_at_plateau\"]:\n",
        "    continue\n",
        "  # ищем парную симуляцию без остановки на плато\n",
        "  pair_sim = find_pair_sim(sim_data, data)\n",
        "  \n",
        "  dif = int(sim_data[\"population\"].tail(1)['pop'])/int(pair_sim[\"population\"].tail(1)['pop'])\n",
        "  # TODO: взять среднее за последние 5 или посмотреть на динамику после остановки\n",
        "  # Проверим результаты вручную,если были выбрано недостаточное количество эпох для парной симуляции\n",
        "  # или данные парная симуляция начала расти/убывать после предполагаемого выхода на плато\n",
        "  if len(pair_sim[\"population\"])==len(sim_data[\"population\"]):\n",
        "    print(\"less epochs then need. params:\", sim_data[\"description_str\"])\n",
        "    print_pair(sim_data, pair_sim)\n",
        "  if dif > 1.05 or dif < 0.95:\n",
        "    print(\"big diff params:\", sim_data[\"description_str\"])\n",
        "    print_pair(sim_data, pair_sim)\n",
        "    count+=1\n",
        "print(\"count of simulations with ponesial wrong plateau :\", big_diff_count)"
      ],
      "metadata": {
        "id": "sZyXPgDJC6bK"
      },
      "execution_count": null,
      "outputs": []
    },
    {
      "cell_type": "code",
      "source": [
        "data_sim = None\n",
        "for i, data_p in enumerate(data):\n",
        "  if data_p[\"params\"][\"auto_stop_at_plateau\"]:\n",
        "    data_sim = data_p\n",
        "    break\n",
        "print(i)"
      ],
      "metadata": {
        "id": "A3MW1WeKTPXx"
      },
      "execution_count": null,
      "outputs": []
    },
    {
      "cell_type": "code",
      "source": [
        "data_sim"
      ],
      "metadata": {
        "id": "bLhapKXeUjEZ"
      },
      "execution_count": null,
      "outputs": []
    },
    {
      "cell_type": "code",
      "source": [],
      "metadata": {
        "id": "_Z_tZb9aTJqq"
      },
      "execution_count": null,
      "outputs": []
    },
    {
      "cell_type": "code",
      "source": [
        "def print_pair(data1, data2, x=\"time\"):\n",
        "  fig = plt.figure(figsize=(20, 10), dpi=80)\n",
        "  plt.axis('off')\n",
        "  plt.title(\"Simulation\" )\n",
        "  fig.tight_layout(pad=6.0,  h_pad=3, w_pad=3)\n",
        "  fig.patch.set_visible(False)\n",
        "  axes = fig.subplots(nrows=1, ncols=2)\n",
        "  for i, data in enumerate([data1, data2]):\n",
        "    print(\"i\", i)\n",
        "    print(data)\n",
        "    print(data[\"params\"]['auto_stop_at_plateau'])\n",
        "    axes[i].plot(data[\"population\"][x], data[\"population\"]['pop'], label=\"auto_stop_at_plateau=\" +str(data[\"params\"][\"auto_stop_at_plateau\"]))\n",
        "    axes[i].legend()\n",
        "    axes[i].set_xlabel(x)\n",
        "    axes[i].set_ylabel('pop')"
      ],
      "metadata": {
        "id": "mrt4CDHvqa5G"
      },
      "execution_count": null,
      "outputs": []
    },
    {
      "cell_type": "code",
      "source": [
        "pair_sim = find_pair_sim(data[0], data)\n",
        "print(\"pair_sim\", pair_sim)\n",
        "print_pair(data_sim, pair_sim)"
      ],
      "metadata": {
        "id": "gluanGj_S4nu"
      },
      "execution_count": null,
      "outputs": []
    }
  ]
}