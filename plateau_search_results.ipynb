{
  "nbformat": 4,
  "nbformat_minor": 0,
  "metadata": {
    "colab": {
      "provenance": [],
      "mount_file_id": "1uW9aBwM4BDahMnD9cYwZAeopX9HCHC4a",
      "authorship_tag": "ABX9TyNDJxyM0TJKAXoasDUJw0PF",
      "include_colab_link": true
    },
    "kernelspec": {
      "name": "python3",
      "display_name": "Python 3"
    },
    "language_info": {
      "name": "python"
    },
    "gpuClass": "standard"
  },
  "cells": [
    {
      "cell_type": "markdown",
      "metadata": {
        "id": "view-in-github",
        "colab_type": "text"
      },
      "source": [
        "<a href=\"https://colab.research.google.com/github/sokanaid/CourseProject2022BiologicalMath/blob/main/plateau_search_results.ipynb\" target=\"_parent\"><img src=\"https://colab.research.google.com/assets/colab-badge.svg\" alt=\"Open In Colab\"/></a>"
      ]
    },
    {
      "cell_type": "markdown",
      "source": [
        "# Результаты поиска плато"
      ],
      "metadata": {
        "id": "k5xzevjMgstC"
      }
    },
    {
      "cell_type": "code",
      "source": [
        "import pandas as pd\n",
        "import os\n",
        "import matplotlib.pyplot as plt"
      ],
      "metadata": {
        "id": "iVviwUFPjbh6"
      },
      "execution_count": 332,
      "outputs": []
    },
    {
      "cell_type": "code",
      "source": [
        "#from google.colab import drive\n",
        "#drive.mount('/content/drive/')\n",
        "#%cd /content/drive/MyDrive/sim_tables"
      ],
      "metadata": {
        "id": "7Q1j3GlVhjn8"
      },
      "execution_count": 333,
      "outputs": []
    },
    {
      "cell_type": "markdown",
      "source": [
        "## Чтение данных"
      ],
      "metadata": {
        "id": "JmuvxBRpii61"
      }
    },
    {
      "cell_type": "code",
      "source": [
        "def read_csv_file(directory_path, name):\n",
        "  file_path = os.path.join(directory_path, name + \".csv\")\n",
        "  # print(\"read file \", file_path)\n",
        "  return pd.read_csv(file_path)"
      ],
      "metadata": {
        "id": "5-yhHC4bpjd2"
      },
      "execution_count": 334,
      "outputs": []
    },
    {
      "cell_type": "code",
      "source": [
        "def read_description(directory_path, file_name = \"description.txt\", parse_params = False):\n",
        "  file_path = os.path.join(directory_path, file_name)\n",
        "  # print(\"read description from file  \", file_path)\n",
        "  with open(file_path, 'r') as file:\n",
        "    if not parse_params:\n",
        "      return file.read()\n",
        "    result = {}\n",
        "    for line in file:\n",
        "      name, value = line.split('=')\n",
        "      value = value.strip(' \\t\\n\\r')\n",
        "      if value == 'TRUE':\n",
        "        value = True\n",
        "      elif value == 'FALSE':\n",
        "        value = False\n",
        "      else:\n",
        "        try:\n",
        "          value = float(value)\n",
        "        except:\n",
        "          try:\n",
        "            value = int(value)\n",
        "          except:\n",
        "            ...\n",
        "      result[name] = value\n",
        "    return result"
      ],
      "metadata": {
        "id": "FyY13zqWZwWZ"
      },
      "execution_count": 335,
      "outputs": []
    },
    {
      "cell_type": "code",
      "execution_count": 336,
      "metadata": {
        "id": "lZRSFxZEexkE"
      },
      "outputs": [],
      "source": [
        "def read_files(directory_path):\n",
        "  data = {}\n",
        "  # строковое описание параметров\n",
        "  data[\"description_str\"] = read_description(directory_path)\n",
        "  # описание параметров в виде словаря\n",
        "  data[\"params\"] =  read_description(directory_path, parse_params = True)\n",
        "  # численность популяции\n",
        "  data[\"population\"] = read_csv_file(directory_path, \"population\")\n",
        "  data[\"population\"].drop(data[\"population\"].tail(1).index, inplace=True)\n",
        "  data[\"population\"].rename(columns={\"Unnamed: 0\": 'epochs'}, inplace=True)\n",
        "  # результаты последовательных сглаживаний численности популяции\n",
        "  name = \"exp_pop10\"\n",
        "  data[name] = read_csv_file(directory_path, name)\n",
        "  data[name].rename(columns={\"Unnamed: 0\": 'epochs'}, inplace=True)\n",
        "  return data"
      ]
    },
    {
      "cell_type": "code",
      "source": [
        "# читаем все результаты симуляций из папок\n",
        "def read_all_simulations(directories_paths):\n",
        "  data = []\n",
        "  for directory_path in directories_paths:\n",
        "    for simulation_diractory_name in os.listdir(directory_path):\n",
        "      simulation_diractory_path = os.path.join(directory_path, simulation_diractory_name)\n",
        "      if os.path.isdir(simulation_diractory_path):\n",
        "        data.append(read_files(simulation_diractory_path))\n",
        "  return data"
      ],
      "metadata": {
        "id": "kH5kTHo1nSen"
      },
      "execution_count": 337,
      "outputs": []
    },
    {
      "cell_type": "markdown",
      "source": [
        "## Построение графиков"
      ],
      "metadata": {
        "id": "efkq-dRg7EiT"
      }
    },
    {
      "cell_type": "code",
      "source": [
        "def print_pair(data1, data2, x=\"time\", color = 'b'):\n",
        "  fig = plt.figure(figsize=(20, 8), dpi=80)\n",
        "  plt.axis('off')\n",
        "  plt.title(\"Simulation\" )\n",
        "  fig.tight_layout(pad=6.0,  h_pad=3, w_pad=3)\n",
        "  fig.patch.set_visible(False)\n",
        "  axes = fig.subplots(nrows=1, ncols=2)\n",
        "  for i, data_ in enumerate([data1, data2]):\n",
        "    axes[i].plot(data_[\"population\"][x], data_[\"population\"]['pop'],color, label=\"auto_stop_at_plateau=\" +str(data_[\"params\"][\"auto_stop_at_plateau\"]))\n",
        "    axes[i].legend(loc=\"lower right\")\n",
        "    axes[i].set_xlabel(x)\n",
        "    axes[i].set_ylabel('pop')"
      ],
      "metadata": {
        "id": "mrt4CDHvqa5G"
      },
      "execution_count": 338,
      "outputs": []
    },
    {
      "cell_type": "markdown",
      "source": [
        "## Результаты симуляций"
      ],
      "metadata": {
        "id": "YMrR16TVlEg8"
      }
    },
    {
      "cell_type": "code",
      "source": [
        "directories = [\"/content/drive/MyDrive/sim_tables/kurkin_b=02_d=002\"]\n",
        "data = read_all_simulations(directories)"
      ],
      "metadata": {
        "id": "NVRrF9G6iONz"
      },
      "execution_count": 339,
      "outputs": []
    },
    {
      "cell_type": "code",
      "source": [
        "# ищем симуляции на которых не вышли на плато\n",
        "count = 0\n",
        "no_plateau_finding = 0\n",
        "for sim_data in data:\n",
        "  if sim_data[\"params\"][\"auto_stop_at_plateau\"] and not sim_data[\"params\"][\"found_plateau\"]:\n",
        "    print(sim_data[\"description_str\"])\n",
        "  elif sim_data[\"params\"][\"auto_stop_at_plateau\"]:\n",
        "    count+=1\n",
        "  else:\n",
        "    no_plateau_finding+=1\n",
        "\n",
        "print(\"successful: \", count)\n",
        "print(\"plateau not found: \", len(data) - count - no_plateau_finding)\n",
        "print(\"total: \", len(data) - no_plateau_finding)\n",
        "print(\"total simulations: \", len(data))"
      ],
      "metadata": {
        "id": "QhK9rf8nqhHB",
        "colab": {
          "base_uri": "https://localhost:8080/"
        },
        "outputId": "8a4966a1-018b-4ee0-b3f9-9d8cd337d4e8"
      },
      "execution_count": 341,
      "outputs": [
        {
          "output_type": "stream",
          "name": "stdout",
          "text": [
            "successful:  102\n",
            "plateau not found:  0\n",
            "total:  102\n",
            "total simulations:  204\n"
          ]
        }
      ]
    },
    {
      "cell_type": "code",
      "source": [
        "# поиск симуляции с теми же параметрами, но без остановки на плато\n",
        "def find_pair_sim(sim_data, data):\n",
        "  if not sim_data[\"params\"][\"auto_stop_at_plateau\"]:\n",
        "    print(sim_data)\n",
        "    print(\"auto_stop_at_plateau = False\")\n",
        "    return\n",
        "  params = sim_data[\"params\"].copy()\n",
        "  params.pop(\"realtime_limit_reached\", None)\n",
        "  params.pop(\"plateau_threshold\", None)\n",
        "  params[\"found_plateau\"] = False\n",
        "  params[\"auto_stop_at_plateau\"] = False\n",
        "  \n",
        "  pair_sim = None\n",
        "  for other_sim_data in data:\n",
        "    is_pair_sim = True\n",
        "    for param in params:\n",
        "      if other_sim_data[\"params\"][param]!=params[param]:\n",
        "        is_pair_sim = False\n",
        "        break\n",
        "    if is_pair_sim:\n",
        "      pair_sim = other_sim_data\n",
        "      break\n",
        "  if pair_sim is None:\n",
        "    print(\"pair not found params:\", sim_data[\"str_description\"])\n",
        "  return pair_sim"
      ],
      "metadata": {
        "id": "E3bo157dRt8D"
      },
      "execution_count": 342,
      "outputs": []
    },
    {
      "cell_type": "code",
      "source": [
        "# найдем симуляции, для которых график без остановки на плато продолжил падать/ расти\n",
        "big_diff_count =0 \n",
        "print(len(data))\n",
        "dif_arr = []\n",
        "for sim_data in data:\n",
        "  if not sim_data[\"params\"][\"auto_stop_at_plateau\"]:\n",
        "    continue\n",
        "  # ищем парную симуляцию без остановки на плато\n",
        "  pair_sim = find_pair_sim(sim_data, data)\n",
        "  # рассмотрим отношение средних численностей популяций последних 100 эпох парных симуляций\n",
        "  dif = int(sim_data[\"population\"].tail(100)['pop'].mean())/int(pair_sim[\"population\"].tail(100)['pop'].mean())\n",
        "  # Проверим результаты вручную,если были выбрано недостаточное количество эпох для парной симуляции\n",
        "  # или данные парная симуляция начала расти/убывать после предполагаемого выхода на плато\n",
        "  if len(pair_sim[\"population\"])==len(sim_data[\"population\"]):\n",
        "    print(\"less epochs then need. params:\", sim_data[\"description_str\"])\n",
        "    print_pair(sim_data, pair_sim)\n",
        "  if dif > 1.05 or dif < 0.95:\n",
        "    print(\"big diff params:\", sim_data[\"description_str\"])\n",
        "    print_pair(sim_data, pair_sim, color = 'r')\n",
        "    count+=1\n",
        "  dif_arr.append(dif)\n",
        "print(\"count of simulations with ponesial wrong plateau :\", big_diff_count)\n",
        "print(\"dif description:\")\n",
        "pd.DataFrame(dif_arr).describe()\n"
      ],
      "metadata": {
        "id": "sZyXPgDJC6bK",
        "colab": {
          "base_uri": "https://localhost:8080/",
          "height": 357
        },
        "outputId": "cbcb1548-9ca3-4ba8-ff5d-7d0b6be51e74"
      },
      "execution_count": 343,
      "outputs": [
        {
          "output_type": "stream",
          "name": "stdout",
          "text": [
            "204\n",
            "count of simulations with ponesial wrong plateau : 0\n",
            "dif description:\n"
          ]
        },
        {
          "output_type": "execute_result",
          "data": {
            "text/plain": [
              "                0\n",
              "count  102.000000\n",
              "mean     1.000354\n",
              "std      0.005712\n",
              "min      0.988454\n",
              "25%      0.996934\n",
              "50%      0.999705\n",
              "75%      1.002396\n",
              "max      1.017455"
            ],
            "text/html": [
              "\n",
              "  <div id=\"df-eae0e4ad-b739-4527-a169-59ea2cd5537d\">\n",
              "    <div class=\"colab-df-container\">\n",
              "      <div>\n",
              "<style scoped>\n",
              "    .dataframe tbody tr th:only-of-type {\n",
              "        vertical-align: middle;\n",
              "    }\n",
              "\n",
              "    .dataframe tbody tr th {\n",
              "        vertical-align: top;\n",
              "    }\n",
              "\n",
              "    .dataframe thead th {\n",
              "        text-align: right;\n",
              "    }\n",
              "</style>\n",
              "<table border=\"1\" class=\"dataframe\">\n",
              "  <thead>\n",
              "    <tr style=\"text-align: right;\">\n",
              "      <th></th>\n",
              "      <th>0</th>\n",
              "    </tr>\n",
              "  </thead>\n",
              "  <tbody>\n",
              "    <tr>\n",
              "      <th>count</th>\n",
              "      <td>102.000000</td>\n",
              "    </tr>\n",
              "    <tr>\n",
              "      <th>mean</th>\n",
              "      <td>1.000354</td>\n",
              "    </tr>\n",
              "    <tr>\n",
              "      <th>std</th>\n",
              "      <td>0.005712</td>\n",
              "    </tr>\n",
              "    <tr>\n",
              "      <th>min</th>\n",
              "      <td>0.988454</td>\n",
              "    </tr>\n",
              "    <tr>\n",
              "      <th>25%</th>\n",
              "      <td>0.996934</td>\n",
              "    </tr>\n",
              "    <tr>\n",
              "      <th>50%</th>\n",
              "      <td>0.999705</td>\n",
              "    </tr>\n",
              "    <tr>\n",
              "      <th>75%</th>\n",
              "      <td>1.002396</td>\n",
              "    </tr>\n",
              "    <tr>\n",
              "      <th>max</th>\n",
              "      <td>1.017455</td>\n",
              "    </tr>\n",
              "  </tbody>\n",
              "</table>\n",
              "</div>\n",
              "      <button class=\"colab-df-convert\" onclick=\"convertToInteractive('df-eae0e4ad-b739-4527-a169-59ea2cd5537d')\"\n",
              "              title=\"Convert this dataframe to an interactive table.\"\n",
              "              style=\"display:none;\">\n",
              "        \n",
              "  <svg xmlns=\"http://www.w3.org/2000/svg\" height=\"24px\"viewBox=\"0 0 24 24\"\n",
              "       width=\"24px\">\n",
              "    <path d=\"M0 0h24v24H0V0z\" fill=\"none\"/>\n",
              "    <path d=\"M18.56 5.44l.94 2.06.94-2.06 2.06-.94-2.06-.94-.94-2.06-.94 2.06-2.06.94zm-11 1L8.5 8.5l.94-2.06 2.06-.94-2.06-.94L8.5 2.5l-.94 2.06-2.06.94zm10 10l.94 2.06.94-2.06 2.06-.94-2.06-.94-.94-2.06-.94 2.06-2.06.94z\"/><path d=\"M17.41 7.96l-1.37-1.37c-.4-.4-.92-.59-1.43-.59-.52 0-1.04.2-1.43.59L10.3 9.45l-7.72 7.72c-.78.78-.78 2.05 0 2.83L4 21.41c.39.39.9.59 1.41.59.51 0 1.02-.2 1.41-.59l7.78-7.78 2.81-2.81c.8-.78.8-2.07 0-2.86zM5.41 20L4 18.59l7.72-7.72 1.47 1.35L5.41 20z\"/>\n",
              "  </svg>\n",
              "      </button>\n",
              "      \n",
              "  <style>\n",
              "    .colab-df-container {\n",
              "      display:flex;\n",
              "      flex-wrap:wrap;\n",
              "      gap: 12px;\n",
              "    }\n",
              "\n",
              "    .colab-df-convert {\n",
              "      background-color: #E8F0FE;\n",
              "      border: none;\n",
              "      border-radius: 50%;\n",
              "      cursor: pointer;\n",
              "      display: none;\n",
              "      fill: #1967D2;\n",
              "      height: 32px;\n",
              "      padding: 0 0 0 0;\n",
              "      width: 32px;\n",
              "    }\n",
              "\n",
              "    .colab-df-convert:hover {\n",
              "      background-color: #E2EBFA;\n",
              "      box-shadow: 0px 1px 2px rgba(60, 64, 67, 0.3), 0px 1px 3px 1px rgba(60, 64, 67, 0.15);\n",
              "      fill: #174EA6;\n",
              "    }\n",
              "\n",
              "    [theme=dark] .colab-df-convert {\n",
              "      background-color: #3B4455;\n",
              "      fill: #D2E3FC;\n",
              "    }\n",
              "\n",
              "    [theme=dark] .colab-df-convert:hover {\n",
              "      background-color: #434B5C;\n",
              "      box-shadow: 0px 1px 3px 1px rgba(0, 0, 0, 0.15);\n",
              "      filter: drop-shadow(0px 1px 2px rgba(0, 0, 0, 0.3));\n",
              "      fill: #FFFFFF;\n",
              "    }\n",
              "  </style>\n",
              "\n",
              "      <script>\n",
              "        const buttonEl =\n",
              "          document.querySelector('#df-eae0e4ad-b739-4527-a169-59ea2cd5537d button.colab-df-convert');\n",
              "        buttonEl.style.display =\n",
              "          google.colab.kernel.accessAllowed ? 'block' : 'none';\n",
              "\n",
              "        async function convertToInteractive(key) {\n",
              "          const element = document.querySelector('#df-eae0e4ad-b739-4527-a169-59ea2cd5537d');\n",
              "          const dataTable =\n",
              "            await google.colab.kernel.invokeFunction('convertToInteractive',\n",
              "                                                     [key], {});\n",
              "          if (!dataTable) return;\n",
              "\n",
              "          const docLinkHtml = 'Like what you see? Visit the ' +\n",
              "            '<a target=\"_blank\" href=https://colab.research.google.com/notebooks/data_table.ipynb>data table notebook</a>'\n",
              "            + ' to learn more about interactive tables.';\n",
              "          element.innerHTML = '';\n",
              "          dataTable['output_type'] = 'display_data';\n",
              "          await google.colab.output.renderOutput(dataTable, element);\n",
              "          const docLink = document.createElement('div');\n",
              "          docLink.innerHTML = docLinkHtml;\n",
              "          element.appendChild(docLink);\n",
              "        }\n",
              "      </script>\n",
              "    </div>\n",
              "  </div>\n",
              "  "
            ]
          },
          "metadata": {},
          "execution_count": 343
        }
      ]
    }
  ]
}