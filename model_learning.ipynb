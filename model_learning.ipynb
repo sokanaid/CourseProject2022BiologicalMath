{
  "nbformat": 4,
  "nbformat_minor": 0,
  "metadata": {
    "colab": {
      "provenance": [],
      "mount_file_id": "1R-WQjylOiBv8JOw3LKHUr65pyb-m5BBZ",
      "authorship_tag": "ABX9TyNwjN+4oq+kvvir/q3xY9KK",
      "include_colab_link": true
    },
    "kernelspec": {
      "name": "python3",
      "display_name": "Python 3"
    },
    "language_info": {
      "name": "python"
    }
  },
  "cells": [
    {
      "cell_type": "markdown",
      "metadata": {
        "id": "view-in-github",
        "colab_type": "text"
      },
      "source": [
        "<a href=\"https://colab.research.google.com/github/sokanaid/CourseProject2022BiologicalMath/blob/main/model_learning.ipynb\" target=\"_parent\"><img src=\"https://colab.research.google.com/assets/colab-badge.svg\" alt=\"Open In Colab\"/></a>"
      ]
    },
    {
      "cell_type": "markdown",
      "source": [
        "# Обучение моделей предсказания числинности на плато"
      ],
      "metadata": {
        "id": "8q4sZqnAqK-C"
      }
    },
    {
      "cell_type": "code",
      "source": [
        "import pandas as pd\n",
        "import os\n",
        "import numpy as np\n",
        "from sklearn.model_selection import train_test_split\n",
        "from sklearn.preprocessing import StandardScaler\n",
        "np.random.seed(0)"
      ],
      "metadata": {
        "id": "fUvv7Jjwqsop"
      },
      "execution_count": 2,
      "outputs": []
    },
    {
      "cell_type": "code",
      "source": [
        "from google.colab import drive\n",
        "drive.mount('/content/drive/')\n",
        "%cd /content/drive/MyDrive/sim_tables"
      ],
      "metadata": {
        "colab": {
          "base_uri": "https://localhost:8080/"
        },
        "id": "vYatDe6xquQf",
        "outputId": "5195479a-0683-4396-eb11-2b5eacf0ebf5"
      },
      "execution_count": 3,
      "outputs": [
        {
          "output_type": "stream",
          "name": "stdout",
          "text": [
            "Mounted at /content/drive/\n",
            "/content/drive/MyDrive/sim_tables\n"
          ]
        }
      ]
    },
    {
      "cell_type": "markdown",
      "source": [
        "## Подготовка датасета"
      ],
      "metadata": {
        "id": "4TfO8MRgqXLB"
      }
    },
    {
      "cell_type": "code",
      "execution_count": 67,
      "metadata": {
        "id": "VLwNq1o7qIk7"
      },
      "outputs": [],
      "source": [
        "file_name = \"/content/drive/MyDrive/sim_tables/data_set.csv\"\n",
        "sim_frame = pd.read_csv(file_name, sep='\\t').drop(\"Unnamed: 0\", axis = 1)"
      ]
    },
    {
      "cell_type": "code",
      "source": [
        "sim_frame.info()"
      ],
      "metadata": {
        "colab": {
          "base_uri": "https://localhost:8080/"
        },
        "id": "2cg8GYjhrFII",
        "outputId": "fa12ee61-99a0-4dfb-9d6d-b5181368e1c7"
      },
      "execution_count": 68,
      "outputs": [
        {
          "output_type": "stream",
          "name": "stdout",
          "text": [
            "<class 'pandas.core.frame.DataFrame'>\n",
            "RangeIndex: 290525 entries, 0 to 290524\n",
            "Data columns (total 9 columns):\n",
            " #   Column         Non-Null Count   Dtype  \n",
            "---  ------         --------------   -----  \n",
            " 0   b              290525 non-null  float64\n",
            " 1   d              290525 non-null  float64\n",
            " 2   death_r        290525 non-null  float64\n",
            " 3   dd             290525 non-null  float64\n",
            " 4   sd_b           290525 non-null  float64\n",
            " 5   sd_d           290525 non-null  float64\n",
            " 6   area_length_x  290525 non-null  float64\n",
            " 7   initial_pop    290525 non-null  float64\n",
            " 8   plateau_pop    290525 non-null  float64\n",
            "dtypes: float64(9)\n",
            "memory usage: 19.9 MB\n"
          ]
        }
      ]
    },
    {
      "cell_type": "code",
      "source": [
        "print(\"total count of simulations:\", len(sim_frame))\n",
        "df = sim_frame[sim_frame[\"area_length_x\"]==100.0].drop(\"area_length_x\", axis = 1)\n",
        "df1 = df.drop_duplicates(subset=['b', 'd', 'death_r', 'dd', 'sd_b', 'sd_d', 'initial_pop']).reset_index(drop=True)\n",
        "print(\"total count of simulations to use in learning:\", len(df))"
      ],
      "metadata": {
        "colab": {
          "base_uri": "https://localhost:8080/"
        },
        "id": "ekXdmgCrrPjc",
        "outputId": "93373805-7239-412a-ab55-6597155b50b2"
      },
      "execution_count": 69,
      "outputs": [
        {
          "output_type": "stream",
          "name": "stdout",
          "text": [
            "total count of simulations: 290525\n",
            "total count of simulations to use in learning: 221711\n"
          ]
        }
      ]
    },
    {
      "cell_type": "code",
      "source": [
        "# рапределение размеров в изначальном датасете\n",
        "sim_frame[\"area_length_x\"].value_counts()"
      ],
      "metadata": {
        "colab": {
          "base_uri": "https://localhost:8080/"
        },
        "id": "OeaO884Lroxs",
        "outputId": "d202b28d-0b66-41ef-f690-99f3eeeaaeed"
      },
      "execution_count": 70,
      "outputs": [
        {
          "output_type": "execute_result",
          "data": {
            "text/plain": [
              "  100.00    221711\n",
              "1,100.00      3127\n",
              "3,100.00      2345\n",
              "2,100.00      2345\n",
              "4,100.00      2345\n",
              "2,500.00      2343\n",
              "3,300.00      2343\n",
              "3,500.00      2343\n",
              "2,300.00      2343\n",
              "  300.00      2343\n",
              "1,700.00      2343\n",
              "3,900.00      2343\n",
              "2,900.00      2343\n",
              "4,300.00      2343\n",
              "4,500.00      2343\n",
              "  500.00      2343\n",
              "1,900.00      2343\n",
              "3,700.00      2343\n",
              "5,100.00      2343\n",
              "2,700.00      2343\n",
              "  700.00      2343\n",
              "  900.00      2343\n",
              "4,700.00      2343\n",
              "1,300.00      2343\n",
              "1,500.00      2343\n",
              "5,700.00      2342\n",
              "5,500.00      2342\n",
              "4,900.00      2342\n",
              "5,900.00      2342\n",
              "5,300.00      2342\n",
              "2,600.00        14\n",
              "1,600.00        14\n",
              "3,600.00        14\n",
              "  600.00        14\n",
              "4,600.00        13\n",
              "5,600.00        13\n",
              "Name: area_length_x, dtype: int64"
            ]
          },
          "metadata": {},
          "execution_count": 70
        }
      ]
    },
    {
      "cell_type": "code",
      "source": [
        "pd.options.display.float_format = '{:20,.2f}'.format"
      ],
      "metadata": {
        "id": "11MkBDDzcpVh"
      },
      "execution_count": 71,
      "outputs": []
    },
    {
      "cell_type": "code",
      "source": [
        "# распределение параметров\n",
        "for column in list(df.columns.values):\n",
        "  print(column)\n",
        "  print(df[column].describe())"
      ],
      "metadata": {
        "colab": {
          "base_uri": "https://localhost:8080/"
        },
        "id": "yI5QAOaesF66",
        "outputId": "97f710af-c215-44b2-86a3-18fc177d04d0"
      },
      "execution_count": 72,
      "outputs": [
        {
          "output_type": "stream",
          "name": "stdout",
          "text": [
            "b\n",
            "count             221,711.00\n",
            "mean                    0.67\n",
            "std                     0.23\n",
            "min                     0.10\n",
            "25%                     0.55\n",
            "50%                     0.75\n",
            "75%                     0.85\n",
            "max                     0.95\n",
            "Name: b, dtype: float64\n",
            "d\n",
            "count             221,711.00\n",
            "mean                    0.36\n",
            "std                     0.22\n",
            "min                     0.10\n",
            "25%                     0.20\n",
            "50%                     0.30\n",
            "75%                     0.50\n",
            "max                     0.90\n",
            "Name: d, dtype: float64\n",
            "death_r\n",
            "count             221,711.00\n",
            "mean                    5.36\n",
            "std                     2.96\n",
            "min                     0.10\n",
            "25%                     3.00\n",
            "50%                     5.00\n",
            "75%                     8.00\n",
            "max                    10.00\n",
            "Name: death_r, dtype: float64\n",
            "dd\n",
            "count             221,711.00\n",
            "mean                    0.55\n",
            "std                     0.29\n",
            "min                     0.10\n",
            "25%                     0.30\n",
            "50%                     0.55\n",
            "75%                     0.80\n",
            "max                     1.00\n",
            "Name: dd, dtype: float64\n",
            "sd_b\n",
            "count             221,711.00\n",
            "mean                    0.73\n",
            "std                     0.17\n",
            "min                     0.50\n",
            "25%                     0.60\n",
            "50%                     0.75\n",
            "75%                     0.90\n",
            "max                     1.00\n",
            "Name: sd_b, dtype: float64\n",
            "sd_d\n",
            "count             221,711.00\n",
            "mean                    0.73\n",
            "std                     0.17\n",
            "min                     0.50\n",
            "25%                     0.60\n",
            "50%                     0.75\n",
            "75%                     0.90\n",
            "max                     1.00\n",
            "Name: sd_d, dtype: float64\n",
            "initial_pop\n",
            "count             221,711.00\n",
            "mean                   49.06\n",
            "std                    40.65\n",
            "min                     1.00\n",
            "25%                     1.00\n",
            "50%                    50.00\n",
            "75%                   100.00\n",
            "max                   100.00\n",
            "Name: initial_pop, dtype: float64\n",
            "plateau_pop\n",
            "count             221,711.00\n",
            "mean                  134.51\n",
            "std                   757.02\n",
            "min                     0.00\n",
            "25%                     0.00\n",
            "50%                     0.00\n",
            "75%                     0.00\n",
            "max                34,227.56\n",
            "Name: plateau_pop, dtype: float64\n"
          ]
        }
      ]
    },
    {
      "cell_type": "code",
      "source": [
        "df[\"plateau_pop\"].describe()"
      ],
      "metadata": {
        "colab": {
          "base_uri": "https://localhost:8080/"
        },
        "id": "gBhWUrkbcyV7",
        "outputId": "5ff97451-2529-447a-e3a3-8ccdf13e3e04"
      },
      "execution_count": 73,
      "outputs": [
        {
          "output_type": "execute_result",
          "data": {
            "text/plain": [
              "count             221,711.00\n",
              "mean                  134.51\n",
              "std                   757.02\n",
              "min                     0.00\n",
              "25%                     0.00\n",
              "50%                     0.00\n",
              "75%                     0.00\n",
              "max                34,227.56\n",
              "Name: plateau_pop, dtype: float64"
            ]
          },
          "metadata": {},
          "execution_count": 73
        }
      ]
    },
    {
      "cell_type": "code",
      "source": [
        "X = df.drop(\"plateau_pop\", axis =1)\n",
        "y = df[\"plateau_pop\"]"
      ],
      "metadata": {
        "id": "h9seP6ygtRH2"
      },
      "execution_count": 74,
      "outputs": []
    },
    {
      "cell_type": "code",
      "source": [
        "X.head()"
      ],
      "metadata": {
        "colab": {
          "base_uri": "https://localhost:8080/",
          "height": 206
        },
        "id": "sD4cpFtavqz_",
        "outputId": "f6982363-21ff-416e-c786-7ed1669ca9e5"
      },
      "execution_count": 75,
      "outputs": [
        {
          "output_type": "execute_result",
          "data": {
            "text/plain": [
              "                     b                    d              death_r  \\\n",
              "0                 0.35                 0.10                 3.00   \n",
              "1                 0.45                 0.30                 7.00   \n",
              "2                 0.95                 0.80                 9.00   \n",
              "3                 0.35                 0.20                 1.00   \n",
              "4                 0.35                 0.20                 6.00   \n",
              "\n",
              "                    dd                 sd_b                 sd_d  \\\n",
              "0                 0.90                 0.50                 0.65   \n",
              "1                 0.70                 0.95                 0.80   \n",
              "2                 0.20                 0.80                 0.95   \n",
              "3                 0.60                 0.80                 0.65   \n",
              "4                 0.10                 0.65                 0.65   \n",
              "\n",
              "           initial_pop  \n",
              "0               100.00  \n",
              "1                 1.00  \n",
              "2                 1.00  \n",
              "3                 1.00  \n",
              "4                 1.00  "
            ],
            "text/html": [
              "\n",
              "  <div id=\"df-41034956-99d2-4737-b57a-9edb7b8b8c9e\">\n",
              "    <div class=\"colab-df-container\">\n",
              "      <div>\n",
              "<style scoped>\n",
              "    .dataframe tbody tr th:only-of-type {\n",
              "        vertical-align: middle;\n",
              "    }\n",
              "\n",
              "    .dataframe tbody tr th {\n",
              "        vertical-align: top;\n",
              "    }\n",
              "\n",
              "    .dataframe thead th {\n",
              "        text-align: right;\n",
              "    }\n",
              "</style>\n",
              "<table border=\"1\" class=\"dataframe\">\n",
              "  <thead>\n",
              "    <tr style=\"text-align: right;\">\n",
              "      <th></th>\n",
              "      <th>b</th>\n",
              "      <th>d</th>\n",
              "      <th>death_r</th>\n",
              "      <th>dd</th>\n",
              "      <th>sd_b</th>\n",
              "      <th>sd_d</th>\n",
              "      <th>initial_pop</th>\n",
              "    </tr>\n",
              "  </thead>\n",
              "  <tbody>\n",
              "    <tr>\n",
              "      <th>0</th>\n",
              "      <td>0.35</td>\n",
              "      <td>0.10</td>\n",
              "      <td>3.00</td>\n",
              "      <td>0.90</td>\n",
              "      <td>0.50</td>\n",
              "      <td>0.65</td>\n",
              "      <td>100.00</td>\n",
              "    </tr>\n",
              "    <tr>\n",
              "      <th>1</th>\n",
              "      <td>0.45</td>\n",
              "      <td>0.30</td>\n",
              "      <td>7.00</td>\n",
              "      <td>0.70</td>\n",
              "      <td>0.95</td>\n",
              "      <td>0.80</td>\n",
              "      <td>1.00</td>\n",
              "    </tr>\n",
              "    <tr>\n",
              "      <th>2</th>\n",
              "      <td>0.95</td>\n",
              "      <td>0.80</td>\n",
              "      <td>9.00</td>\n",
              "      <td>0.20</td>\n",
              "      <td>0.80</td>\n",
              "      <td>0.95</td>\n",
              "      <td>1.00</td>\n",
              "    </tr>\n",
              "    <tr>\n",
              "      <th>3</th>\n",
              "      <td>0.35</td>\n",
              "      <td>0.20</td>\n",
              "      <td>1.00</td>\n",
              "      <td>0.60</td>\n",
              "      <td>0.80</td>\n",
              "      <td>0.65</td>\n",
              "      <td>1.00</td>\n",
              "    </tr>\n",
              "    <tr>\n",
              "      <th>4</th>\n",
              "      <td>0.35</td>\n",
              "      <td>0.20</td>\n",
              "      <td>6.00</td>\n",
              "      <td>0.10</td>\n",
              "      <td>0.65</td>\n",
              "      <td>0.65</td>\n",
              "      <td>1.00</td>\n",
              "    </tr>\n",
              "  </tbody>\n",
              "</table>\n",
              "</div>\n",
              "      <button class=\"colab-df-convert\" onclick=\"convertToInteractive('df-41034956-99d2-4737-b57a-9edb7b8b8c9e')\"\n",
              "              title=\"Convert this dataframe to an interactive table.\"\n",
              "              style=\"display:none;\">\n",
              "        \n",
              "  <svg xmlns=\"http://www.w3.org/2000/svg\" height=\"24px\"viewBox=\"0 0 24 24\"\n",
              "       width=\"24px\">\n",
              "    <path d=\"M0 0h24v24H0V0z\" fill=\"none\"/>\n",
              "    <path d=\"M18.56 5.44l.94 2.06.94-2.06 2.06-.94-2.06-.94-.94-2.06-.94 2.06-2.06.94zm-11 1L8.5 8.5l.94-2.06 2.06-.94-2.06-.94L8.5 2.5l-.94 2.06-2.06.94zm10 10l.94 2.06.94-2.06 2.06-.94-2.06-.94-.94-2.06-.94 2.06-2.06.94z\"/><path d=\"M17.41 7.96l-1.37-1.37c-.4-.4-.92-.59-1.43-.59-.52 0-1.04.2-1.43.59L10.3 9.45l-7.72 7.72c-.78.78-.78 2.05 0 2.83L4 21.41c.39.39.9.59 1.41.59.51 0 1.02-.2 1.41-.59l7.78-7.78 2.81-2.81c.8-.78.8-2.07 0-2.86zM5.41 20L4 18.59l7.72-7.72 1.47 1.35L5.41 20z\"/>\n",
              "  </svg>\n",
              "      </button>\n",
              "      \n",
              "  <style>\n",
              "    .colab-df-container {\n",
              "      display:flex;\n",
              "      flex-wrap:wrap;\n",
              "      gap: 12px;\n",
              "    }\n",
              "\n",
              "    .colab-df-convert {\n",
              "      background-color: #E8F0FE;\n",
              "      border: none;\n",
              "      border-radius: 50%;\n",
              "      cursor: pointer;\n",
              "      display: none;\n",
              "      fill: #1967D2;\n",
              "      height: 32px;\n",
              "      padding: 0 0 0 0;\n",
              "      width: 32px;\n",
              "    }\n",
              "\n",
              "    .colab-df-convert:hover {\n",
              "      background-color: #E2EBFA;\n",
              "      box-shadow: 0px 1px 2px rgba(60, 64, 67, 0.3), 0px 1px 3px 1px rgba(60, 64, 67, 0.15);\n",
              "      fill: #174EA6;\n",
              "    }\n",
              "\n",
              "    [theme=dark] .colab-df-convert {\n",
              "      background-color: #3B4455;\n",
              "      fill: #D2E3FC;\n",
              "    }\n",
              "\n",
              "    [theme=dark] .colab-df-convert:hover {\n",
              "      background-color: #434B5C;\n",
              "      box-shadow: 0px 1px 3px 1px rgba(0, 0, 0, 0.15);\n",
              "      filter: drop-shadow(0px 1px 2px rgba(0, 0, 0, 0.3));\n",
              "      fill: #FFFFFF;\n",
              "    }\n",
              "  </style>\n",
              "\n",
              "      <script>\n",
              "        const buttonEl =\n",
              "          document.querySelector('#df-41034956-99d2-4737-b57a-9edb7b8b8c9e button.colab-df-convert');\n",
              "        buttonEl.style.display =\n",
              "          google.colab.kernel.accessAllowed ? 'block' : 'none';\n",
              "\n",
              "        async function convertToInteractive(key) {\n",
              "          const element = document.querySelector('#df-41034956-99d2-4737-b57a-9edb7b8b8c9e');\n",
              "          const dataTable =\n",
              "            await google.colab.kernel.invokeFunction('convertToInteractive',\n",
              "                                                     [key], {});\n",
              "          if (!dataTable) return;\n",
              "\n",
              "          const docLinkHtml = 'Like what you see? Visit the ' +\n",
              "            '<a target=\"_blank\" href=https://colab.research.google.com/notebooks/data_table.ipynb>data table notebook</a>'\n",
              "            + ' to learn more about interactive tables.';\n",
              "          element.innerHTML = '';\n",
              "          dataTable['output_type'] = 'display_data';\n",
              "          await google.colab.output.renderOutput(dataTable, element);\n",
              "          const docLink = document.createElement('div');\n",
              "          docLink.innerHTML = docLinkHtml;\n",
              "          element.appendChild(docLink);\n",
              "        }\n",
              "      </script>\n",
              "    </div>\n",
              "  </div>\n",
              "  "
            ]
          },
          "metadata": {},
          "execution_count": 75
        }
      ]
    },
    {
      "cell_type": "code",
      "source": [
        "y.head()"
      ],
      "metadata": {
        "colab": {
          "base_uri": "https://localhost:8080/"
        },
        "id": "glt0z0HBwCx6",
        "outputId": "438686d2-eec8-49d8-f41b-a133757fa25c"
      },
      "execution_count": 76,
      "outputs": [
        {
          "output_type": "execute_result",
          "data": {
            "text/plain": [
              "0                   0.00\n",
              "1                   0.00\n",
              "2                   0.00\n",
              "3                   0.00\n",
              "4                   0.00\n",
              "Name: plateau_pop, dtype: float64"
            ]
          },
          "metadata": {},
          "execution_count": 76
        }
      ]
    },
    {
      "cell_type": "code",
      "source": [
        "X_train, X_t, y_train, y_t = train_test_split(X, y, test_size=0.3, random_state = 3)\n",
        "X_train"
      ],
      "metadata": {
        "colab": {
          "base_uri": "https://localhost:8080/",
          "height": 424
        },
        "id": "sPBYCmF2wW5I",
        "outputId": "0de67582-dacf-49cb-861a-1a6d53d859bd"
      },
      "execution_count": 77,
      "outputs": [
        {
          "output_type": "execute_result",
          "data": {
            "text/plain": [
              "                          b                    d              death_r  \\\n",
              "91131                  0.85                 0.80                 6.00   \n",
              "136496                 0.35                 0.20                 3.00   \n",
              "55046                  0.95                 0.20                 6.00   \n",
              "9357                   0.35                 0.20                 9.00   \n",
              "202309                 0.75                 0.30                 9.00   \n",
              "...                     ...                  ...                  ...   \n",
              "62976                  0.75                 0.60                 1.00   \n",
              "249107                 0.95                 0.10                 6.00   \n",
              "101002                 0.35                 0.20                 2.00   \n",
              "259791                 0.75                 0.20                 6.00   \n",
              "93726                  0.75                 0.50                 6.00   \n",
              "\n",
              "                         dd                 sd_b                 sd_d  \\\n",
              "91131                  0.90                 0.80                 0.80   \n",
              "136496                 0.40                 0.80                 0.50   \n",
              "55046                  0.10                 0.50                 0.95   \n",
              "9357                   0.20                 0.80                 0.95   \n",
              "202309                 0.90                 0.95                 0.80   \n",
              "...                     ...                  ...                  ...   \n",
              "62976                  0.30                 0.80                 0.95   \n",
              "249107                 0.10                 0.50                 0.95   \n",
              "101002                 0.70                 0.95                 0.80   \n",
              "259791                 0.30                 0.50                 0.50   \n",
              "93726                  0.10                 0.50                 0.50   \n",
              "\n",
              "                initial_pop  \n",
              "91131                100.00  \n",
              "136496                50.00  \n",
              "55046                 50.00  \n",
              "9357                  50.00  \n",
              "202309                50.00  \n",
              "...                     ...  \n",
              "62976                  1.00  \n",
              "249107                 1.00  \n",
              "101002               100.00  \n",
              "259791                50.00  \n",
              "93726                100.00  \n",
              "\n",
              "[155197 rows x 7 columns]"
            ],
            "text/html": [
              "\n",
              "  <div id=\"df-5fb385bc-68f4-44e5-80e8-e084587918cb\">\n",
              "    <div class=\"colab-df-container\">\n",
              "      <div>\n",
              "<style scoped>\n",
              "    .dataframe tbody tr th:only-of-type {\n",
              "        vertical-align: middle;\n",
              "    }\n",
              "\n",
              "    .dataframe tbody tr th {\n",
              "        vertical-align: top;\n",
              "    }\n",
              "\n",
              "    .dataframe thead th {\n",
              "        text-align: right;\n",
              "    }\n",
              "</style>\n",
              "<table border=\"1\" class=\"dataframe\">\n",
              "  <thead>\n",
              "    <tr style=\"text-align: right;\">\n",
              "      <th></th>\n",
              "      <th>b</th>\n",
              "      <th>d</th>\n",
              "      <th>death_r</th>\n",
              "      <th>dd</th>\n",
              "      <th>sd_b</th>\n",
              "      <th>sd_d</th>\n",
              "      <th>initial_pop</th>\n",
              "    </tr>\n",
              "  </thead>\n",
              "  <tbody>\n",
              "    <tr>\n",
              "      <th>91131</th>\n",
              "      <td>0.85</td>\n",
              "      <td>0.80</td>\n",
              "      <td>6.00</td>\n",
              "      <td>0.90</td>\n",
              "      <td>0.80</td>\n",
              "      <td>0.80</td>\n",
              "      <td>100.00</td>\n",
              "    </tr>\n",
              "    <tr>\n",
              "      <th>136496</th>\n",
              "      <td>0.35</td>\n",
              "      <td>0.20</td>\n",
              "      <td>3.00</td>\n",
              "      <td>0.40</td>\n",
              "      <td>0.80</td>\n",
              "      <td>0.50</td>\n",
              "      <td>50.00</td>\n",
              "    </tr>\n",
              "    <tr>\n",
              "      <th>55046</th>\n",
              "      <td>0.95</td>\n",
              "      <td>0.20</td>\n",
              "      <td>6.00</td>\n",
              "      <td>0.10</td>\n",
              "      <td>0.50</td>\n",
              "      <td>0.95</td>\n",
              "      <td>50.00</td>\n",
              "    </tr>\n",
              "    <tr>\n",
              "      <th>9357</th>\n",
              "      <td>0.35</td>\n",
              "      <td>0.20</td>\n",
              "      <td>9.00</td>\n",
              "      <td>0.20</td>\n",
              "      <td>0.80</td>\n",
              "      <td>0.95</td>\n",
              "      <td>50.00</td>\n",
              "    </tr>\n",
              "    <tr>\n",
              "      <th>202309</th>\n",
              "      <td>0.75</td>\n",
              "      <td>0.30</td>\n",
              "      <td>9.00</td>\n",
              "      <td>0.90</td>\n",
              "      <td>0.95</td>\n",
              "      <td>0.80</td>\n",
              "      <td>50.00</td>\n",
              "    </tr>\n",
              "    <tr>\n",
              "      <th>...</th>\n",
              "      <td>...</td>\n",
              "      <td>...</td>\n",
              "      <td>...</td>\n",
              "      <td>...</td>\n",
              "      <td>...</td>\n",
              "      <td>...</td>\n",
              "      <td>...</td>\n",
              "    </tr>\n",
              "    <tr>\n",
              "      <th>62976</th>\n",
              "      <td>0.75</td>\n",
              "      <td>0.60</td>\n",
              "      <td>1.00</td>\n",
              "      <td>0.30</td>\n",
              "      <td>0.80</td>\n",
              "      <td>0.95</td>\n",
              "      <td>1.00</td>\n",
              "    </tr>\n",
              "    <tr>\n",
              "      <th>249107</th>\n",
              "      <td>0.95</td>\n",
              "      <td>0.10</td>\n",
              "      <td>6.00</td>\n",
              "      <td>0.10</td>\n",
              "      <td>0.50</td>\n",
              "      <td>0.95</td>\n",
              "      <td>1.00</td>\n",
              "    </tr>\n",
              "    <tr>\n",
              "      <th>101002</th>\n",
              "      <td>0.35</td>\n",
              "      <td>0.20</td>\n",
              "      <td>2.00</td>\n",
              "      <td>0.70</td>\n",
              "      <td>0.95</td>\n",
              "      <td>0.80</td>\n",
              "      <td>100.00</td>\n",
              "    </tr>\n",
              "    <tr>\n",
              "      <th>259791</th>\n",
              "      <td>0.75</td>\n",
              "      <td>0.20</td>\n",
              "      <td>6.00</td>\n",
              "      <td>0.30</td>\n",
              "      <td>0.50</td>\n",
              "      <td>0.50</td>\n",
              "      <td>50.00</td>\n",
              "    </tr>\n",
              "    <tr>\n",
              "      <th>93726</th>\n",
              "      <td>0.75</td>\n",
              "      <td>0.50</td>\n",
              "      <td>6.00</td>\n",
              "      <td>0.10</td>\n",
              "      <td>0.50</td>\n",
              "      <td>0.50</td>\n",
              "      <td>100.00</td>\n",
              "    </tr>\n",
              "  </tbody>\n",
              "</table>\n",
              "<p>155197 rows × 7 columns</p>\n",
              "</div>\n",
              "      <button class=\"colab-df-convert\" onclick=\"convertToInteractive('df-5fb385bc-68f4-44e5-80e8-e084587918cb')\"\n",
              "              title=\"Convert this dataframe to an interactive table.\"\n",
              "              style=\"display:none;\">\n",
              "        \n",
              "  <svg xmlns=\"http://www.w3.org/2000/svg\" height=\"24px\"viewBox=\"0 0 24 24\"\n",
              "       width=\"24px\">\n",
              "    <path d=\"M0 0h24v24H0V0z\" fill=\"none\"/>\n",
              "    <path d=\"M18.56 5.44l.94 2.06.94-2.06 2.06-.94-2.06-.94-.94-2.06-.94 2.06-2.06.94zm-11 1L8.5 8.5l.94-2.06 2.06-.94-2.06-.94L8.5 2.5l-.94 2.06-2.06.94zm10 10l.94 2.06.94-2.06 2.06-.94-2.06-.94-.94-2.06-.94 2.06-2.06.94z\"/><path d=\"M17.41 7.96l-1.37-1.37c-.4-.4-.92-.59-1.43-.59-.52 0-1.04.2-1.43.59L10.3 9.45l-7.72 7.72c-.78.78-.78 2.05 0 2.83L4 21.41c.39.39.9.59 1.41.59.51 0 1.02-.2 1.41-.59l7.78-7.78 2.81-2.81c.8-.78.8-2.07 0-2.86zM5.41 20L4 18.59l7.72-7.72 1.47 1.35L5.41 20z\"/>\n",
              "  </svg>\n",
              "      </button>\n",
              "      \n",
              "  <style>\n",
              "    .colab-df-container {\n",
              "      display:flex;\n",
              "      flex-wrap:wrap;\n",
              "      gap: 12px;\n",
              "    }\n",
              "\n",
              "    .colab-df-convert {\n",
              "      background-color: #E8F0FE;\n",
              "      border: none;\n",
              "      border-radius: 50%;\n",
              "      cursor: pointer;\n",
              "      display: none;\n",
              "      fill: #1967D2;\n",
              "      height: 32px;\n",
              "      padding: 0 0 0 0;\n",
              "      width: 32px;\n",
              "    }\n",
              "\n",
              "    .colab-df-convert:hover {\n",
              "      background-color: #E2EBFA;\n",
              "      box-shadow: 0px 1px 2px rgba(60, 64, 67, 0.3), 0px 1px 3px 1px rgba(60, 64, 67, 0.15);\n",
              "      fill: #174EA6;\n",
              "    }\n",
              "\n",
              "    [theme=dark] .colab-df-convert {\n",
              "      background-color: #3B4455;\n",
              "      fill: #D2E3FC;\n",
              "    }\n",
              "\n",
              "    [theme=dark] .colab-df-convert:hover {\n",
              "      background-color: #434B5C;\n",
              "      box-shadow: 0px 1px 3px 1px rgba(0, 0, 0, 0.15);\n",
              "      filter: drop-shadow(0px 1px 2px rgba(0, 0, 0, 0.3));\n",
              "      fill: #FFFFFF;\n",
              "    }\n",
              "  </style>\n",
              "\n",
              "      <script>\n",
              "        const buttonEl =\n",
              "          document.querySelector('#df-5fb385bc-68f4-44e5-80e8-e084587918cb button.colab-df-convert');\n",
              "        buttonEl.style.display =\n",
              "          google.colab.kernel.accessAllowed ? 'block' : 'none';\n",
              "\n",
              "        async function convertToInteractive(key) {\n",
              "          const element = document.querySelector('#df-5fb385bc-68f4-44e5-80e8-e084587918cb');\n",
              "          const dataTable =\n",
              "            await google.colab.kernel.invokeFunction('convertToInteractive',\n",
              "                                                     [key], {});\n",
              "          if (!dataTable) return;\n",
              "\n",
              "          const docLinkHtml = 'Like what you see? Visit the ' +\n",
              "            '<a target=\"_blank\" href=https://colab.research.google.com/notebooks/data_table.ipynb>data table notebook</a>'\n",
              "            + ' to learn more about interactive tables.';\n",
              "          element.innerHTML = '';\n",
              "          dataTable['output_type'] = 'display_data';\n",
              "          await google.colab.output.renderOutput(dataTable, element);\n",
              "          const docLink = document.createElement('div');\n",
              "          docLink.innerHTML = docLinkHtml;\n",
              "          element.appendChild(docLink);\n",
              "        }\n",
              "      </script>\n",
              "    </div>\n",
              "  </div>\n",
              "  "
            ]
          },
          "metadata": {},
          "execution_count": 77
        }
      ]
    },
    {
      "cell_type": "code",
      "source": [
        "X_test,X_val, y_test, y_val = train_test_split(X_t, y_t, test_size=0.4, random_state = 3)\n",
        "X_val"
      ],
      "metadata": {
        "colab": {
          "base_uri": "https://localhost:8080/",
          "height": 424
        },
        "id": "8Kzi1lbkxmQm",
        "outputId": "ca738fd4-df68-4e38-c66d-d001bf7a62e7"
      },
      "execution_count": 78,
      "outputs": [
        {
          "output_type": "execute_result",
          "data": {
            "text/plain": [
              "                          b                    d              death_r  \\\n",
              "108079                 0.95                 0.50                 9.00   \n",
              "88856                  0.75                 0.40                 1.00   \n",
              "184608                 0.75                 0.70                 8.00   \n",
              "142507                 0.35                 0.10                 0.10   \n",
              "56300                  0.75                 0.40                 7.00   \n",
              "...                     ...                  ...                  ...   \n",
              "237398                 0.55                 0.30                10.00   \n",
              "192025                 0.25                 0.10                 1.00   \n",
              "159130                 0.85                 0.20                 5.00   \n",
              "225534                 0.35                 0.20                 7.00   \n",
              "1508                   0.35                 0.20                 3.00   \n",
              "\n",
              "                         dd                 sd_b                 sd_d  \\\n",
              "108079                 0.60                 0.95                 0.80   \n",
              "88856                  0.50                 0.65                 0.95   \n",
              "184608                 0.70                 0.50                 0.95   \n",
              "142507                 0.90                 0.50                 0.95   \n",
              "56300                  0.10                 0.50                 0.95   \n",
              "...                     ...                  ...                  ...   \n",
              "237398                 0.20                 0.50                 0.80   \n",
              "192025                 0.80                 0.95                 0.95   \n",
              "159130                 0.30                 0.80                 0.95   \n",
              "225534                 0.60                 0.95                 0.50   \n",
              "1508                   0.20                 0.95                 0.80   \n",
              "\n",
              "                initial_pop  \n",
              "108079               100.00  \n",
              "88856                100.00  \n",
              "184608                 1.00  \n",
              "142507                 1.00  \n",
              "56300                  1.00  \n",
              "...                     ...  \n",
              "237398               100.00  \n",
              "192025               100.00  \n",
              "159130                50.00  \n",
              "225534               100.00  \n",
              "1508                  50.00  \n",
              "\n",
              "[26606 rows x 7 columns]"
            ],
            "text/html": [
              "\n",
              "  <div id=\"df-e179d62d-57aa-48e6-b87d-0d467e3a3c47\">\n",
              "    <div class=\"colab-df-container\">\n",
              "      <div>\n",
              "<style scoped>\n",
              "    .dataframe tbody tr th:only-of-type {\n",
              "        vertical-align: middle;\n",
              "    }\n",
              "\n",
              "    .dataframe tbody tr th {\n",
              "        vertical-align: top;\n",
              "    }\n",
              "\n",
              "    .dataframe thead th {\n",
              "        text-align: right;\n",
              "    }\n",
              "</style>\n",
              "<table border=\"1\" class=\"dataframe\">\n",
              "  <thead>\n",
              "    <tr style=\"text-align: right;\">\n",
              "      <th></th>\n",
              "      <th>b</th>\n",
              "      <th>d</th>\n",
              "      <th>death_r</th>\n",
              "      <th>dd</th>\n",
              "      <th>sd_b</th>\n",
              "      <th>sd_d</th>\n",
              "      <th>initial_pop</th>\n",
              "    </tr>\n",
              "  </thead>\n",
              "  <tbody>\n",
              "    <tr>\n",
              "      <th>108079</th>\n",
              "      <td>0.95</td>\n",
              "      <td>0.50</td>\n",
              "      <td>9.00</td>\n",
              "      <td>0.60</td>\n",
              "      <td>0.95</td>\n",
              "      <td>0.80</td>\n",
              "      <td>100.00</td>\n",
              "    </tr>\n",
              "    <tr>\n",
              "      <th>88856</th>\n",
              "      <td>0.75</td>\n",
              "      <td>0.40</td>\n",
              "      <td>1.00</td>\n",
              "      <td>0.50</td>\n",
              "      <td>0.65</td>\n",
              "      <td>0.95</td>\n",
              "      <td>100.00</td>\n",
              "    </tr>\n",
              "    <tr>\n",
              "      <th>184608</th>\n",
              "      <td>0.75</td>\n",
              "      <td>0.70</td>\n",
              "      <td>8.00</td>\n",
              "      <td>0.70</td>\n",
              "      <td>0.50</td>\n",
              "      <td>0.95</td>\n",
              "      <td>1.00</td>\n",
              "    </tr>\n",
              "    <tr>\n",
              "      <th>142507</th>\n",
              "      <td>0.35</td>\n",
              "      <td>0.10</td>\n",
              "      <td>0.10</td>\n",
              "      <td>0.90</td>\n",
              "      <td>0.50</td>\n",
              "      <td>0.95</td>\n",
              "      <td>1.00</td>\n",
              "    </tr>\n",
              "    <tr>\n",
              "      <th>56300</th>\n",
              "      <td>0.75</td>\n",
              "      <td>0.40</td>\n",
              "      <td>7.00</td>\n",
              "      <td>0.10</td>\n",
              "      <td>0.50</td>\n",
              "      <td>0.95</td>\n",
              "      <td>1.00</td>\n",
              "    </tr>\n",
              "    <tr>\n",
              "      <th>...</th>\n",
              "      <td>...</td>\n",
              "      <td>...</td>\n",
              "      <td>...</td>\n",
              "      <td>...</td>\n",
              "      <td>...</td>\n",
              "      <td>...</td>\n",
              "      <td>...</td>\n",
              "    </tr>\n",
              "    <tr>\n",
              "      <th>237398</th>\n",
              "      <td>0.55</td>\n",
              "      <td>0.30</td>\n",
              "      <td>10.00</td>\n",
              "      <td>0.20</td>\n",
              "      <td>0.50</td>\n",
              "      <td>0.80</td>\n",
              "      <td>100.00</td>\n",
              "    </tr>\n",
              "    <tr>\n",
              "      <th>192025</th>\n",
              "      <td>0.25</td>\n",
              "      <td>0.10</td>\n",
              "      <td>1.00</td>\n",
              "      <td>0.80</td>\n",
              "      <td>0.95</td>\n",
              "      <td>0.95</td>\n",
              "      <td>100.00</td>\n",
              "    </tr>\n",
              "    <tr>\n",
              "      <th>159130</th>\n",
              "      <td>0.85</td>\n",
              "      <td>0.20</td>\n",
              "      <td>5.00</td>\n",
              "      <td>0.30</td>\n",
              "      <td>0.80</td>\n",
              "      <td>0.95</td>\n",
              "      <td>50.00</td>\n",
              "    </tr>\n",
              "    <tr>\n",
              "      <th>225534</th>\n",
              "      <td>0.35</td>\n",
              "      <td>0.20</td>\n",
              "      <td>7.00</td>\n",
              "      <td>0.60</td>\n",
              "      <td>0.95</td>\n",
              "      <td>0.50</td>\n",
              "      <td>100.00</td>\n",
              "    </tr>\n",
              "    <tr>\n",
              "      <th>1508</th>\n",
              "      <td>0.35</td>\n",
              "      <td>0.20</td>\n",
              "      <td>3.00</td>\n",
              "      <td>0.20</td>\n",
              "      <td>0.95</td>\n",
              "      <td>0.80</td>\n",
              "      <td>50.00</td>\n",
              "    </tr>\n",
              "  </tbody>\n",
              "</table>\n",
              "<p>26606 rows × 7 columns</p>\n",
              "</div>\n",
              "      <button class=\"colab-df-convert\" onclick=\"convertToInteractive('df-e179d62d-57aa-48e6-b87d-0d467e3a3c47')\"\n",
              "              title=\"Convert this dataframe to an interactive table.\"\n",
              "              style=\"display:none;\">\n",
              "        \n",
              "  <svg xmlns=\"http://www.w3.org/2000/svg\" height=\"24px\"viewBox=\"0 0 24 24\"\n",
              "       width=\"24px\">\n",
              "    <path d=\"M0 0h24v24H0V0z\" fill=\"none\"/>\n",
              "    <path d=\"M18.56 5.44l.94 2.06.94-2.06 2.06-.94-2.06-.94-.94-2.06-.94 2.06-2.06.94zm-11 1L8.5 8.5l.94-2.06 2.06-.94-2.06-.94L8.5 2.5l-.94 2.06-2.06.94zm10 10l.94 2.06.94-2.06 2.06-.94-2.06-.94-.94-2.06-.94 2.06-2.06.94z\"/><path d=\"M17.41 7.96l-1.37-1.37c-.4-.4-.92-.59-1.43-.59-.52 0-1.04.2-1.43.59L10.3 9.45l-7.72 7.72c-.78.78-.78 2.05 0 2.83L4 21.41c.39.39.9.59 1.41.59.51 0 1.02-.2 1.41-.59l7.78-7.78 2.81-2.81c.8-.78.8-2.07 0-2.86zM5.41 20L4 18.59l7.72-7.72 1.47 1.35L5.41 20z\"/>\n",
              "  </svg>\n",
              "      </button>\n",
              "      \n",
              "  <style>\n",
              "    .colab-df-container {\n",
              "      display:flex;\n",
              "      flex-wrap:wrap;\n",
              "      gap: 12px;\n",
              "    }\n",
              "\n",
              "    .colab-df-convert {\n",
              "      background-color: #E8F0FE;\n",
              "      border: none;\n",
              "      border-radius: 50%;\n",
              "      cursor: pointer;\n",
              "      display: none;\n",
              "      fill: #1967D2;\n",
              "      height: 32px;\n",
              "      padding: 0 0 0 0;\n",
              "      width: 32px;\n",
              "    }\n",
              "\n",
              "    .colab-df-convert:hover {\n",
              "      background-color: #E2EBFA;\n",
              "      box-shadow: 0px 1px 2px rgba(60, 64, 67, 0.3), 0px 1px 3px 1px rgba(60, 64, 67, 0.15);\n",
              "      fill: #174EA6;\n",
              "    }\n",
              "\n",
              "    [theme=dark] .colab-df-convert {\n",
              "      background-color: #3B4455;\n",
              "      fill: #D2E3FC;\n",
              "    }\n",
              "\n",
              "    [theme=dark] .colab-df-convert:hover {\n",
              "      background-color: #434B5C;\n",
              "      box-shadow: 0px 1px 3px 1px rgba(0, 0, 0, 0.15);\n",
              "      filter: drop-shadow(0px 1px 2px rgba(0, 0, 0, 0.3));\n",
              "      fill: #FFFFFF;\n",
              "    }\n",
              "  </style>\n",
              "\n",
              "      <script>\n",
              "        const buttonEl =\n",
              "          document.querySelector('#df-e179d62d-57aa-48e6-b87d-0d467e3a3c47 button.colab-df-convert');\n",
              "        buttonEl.style.display =\n",
              "          google.colab.kernel.accessAllowed ? 'block' : 'none';\n",
              "\n",
              "        async function convertToInteractive(key) {\n",
              "          const element = document.querySelector('#df-e179d62d-57aa-48e6-b87d-0d467e3a3c47');\n",
              "          const dataTable =\n",
              "            await google.colab.kernel.invokeFunction('convertToInteractive',\n",
              "                                                     [key], {});\n",
              "          if (!dataTable) return;\n",
              "\n",
              "          const docLinkHtml = 'Like what you see? Visit the ' +\n",
              "            '<a target=\"_blank\" href=https://colab.research.google.com/notebooks/data_table.ipynb>data table notebook</a>'\n",
              "            + ' to learn more about interactive tables.';\n",
              "          element.innerHTML = '';\n",
              "          dataTable['output_type'] = 'display_data';\n",
              "          await google.colab.output.renderOutput(dataTable, element);\n",
              "          const docLink = document.createElement('div');\n",
              "          docLink.innerHTML = docLinkHtml;\n",
              "          element.appendChild(docLink);\n",
              "        }\n",
              "      </script>\n",
              "    </div>\n",
              "  </div>\n",
              "  "
            ]
          },
          "metadata": {},
          "execution_count": 78
        }
      ]
    },
    {
      "cell_type": "code",
      "source": [
        "print(\"train len\", len(y_train))\n",
        "print(\"test len \", len(y_t))\n",
        "print(\"val len \", len(y_val))\n"
      ],
      "metadata": {
        "colab": {
          "base_uri": "https://localhost:8080/"
        },
        "id": "sJrxZcIhx-r7",
        "outputId": "83eb40dc-7401-445f-a35e-137d5a766b56"
      },
      "execution_count": 79,
      "outputs": [
        {
          "output_type": "stream",
          "name": "stdout",
          "text": [
            "train len 155197\n",
            "test len  66514\n",
            "val len  26606\n"
          ]
        }
      ]
    },
    {
      "cell_type": "code",
      "source": [
        "# нормализация данных\n",
        "scaler = StandardScaler()\n",
        "scaler.fit(X_train)\n",
        "X_train = pd.DataFrame(scaler.transform(X_train), columns = X_train.columns)\n",
        "X_test = pd.DataFrame(scaler.transform(X_test), columns = X_test.columns)\n",
        "X_val = pd.DataFrame(scaler.transform(X_val), columns = X_val.columns)\n",
        "X_train"
      ],
      "metadata": {
        "colab": {
          "base_uri": "https://localhost:8080/",
          "height": 424
        },
        "id": "PMO4-XHayT4x",
        "outputId": "c5fac4b0-1ffd-42e8-ce88-57f932d413ea"
      },
      "execution_count": 80,
      "outputs": [
        {
          "output_type": "execute_result",
          "data": {
            "text/plain": [
              "                          b                    d              death_r  \\\n",
              "0                      0.77                 1.98                 0.22   \n",
              "1                     -1.42                -0.73                -0.80   \n",
              "2                      1.21                -0.73                 0.22   \n",
              "3                     -1.42                -0.73                 1.23   \n",
              "4                      0.33                -0.28                 1.23   \n",
              "...                     ...                  ...                  ...   \n",
              "155192                 0.33                 1.07                -1.47   \n",
              "155193                 1.21                -1.19                 0.22   \n",
              "155194                -1.42                -0.73                -1.14   \n",
              "155195                 0.33                -0.73                 0.22   \n",
              "155196                 0.33                 0.62                 0.22   \n",
              "\n",
              "                         dd                 sd_b                 sd_d  \\\n",
              "0                      1.22                 0.45                 0.45   \n",
              "1                     -0.52                 0.45                -1.34   \n",
              "2                     -1.56                -1.34                 1.34   \n",
              "3                     -1.22                 0.45                 1.34   \n",
              "4                      1.22                 1.34                 0.45   \n",
              "...                     ...                  ...                  ...   \n",
              "155192                -0.87                 0.45                 1.34   \n",
              "155193                -1.56                -1.34                 1.34   \n",
              "155194                 0.52                 1.34                 0.45   \n",
              "155195                -0.87                -1.34                -1.34   \n",
              "155196                -1.56                -1.34                -1.34   \n",
              "\n",
              "                initial_pop  \n",
              "0                      1.25  \n",
              "1                      0.02  \n",
              "2                      0.02  \n",
              "3                      0.02  \n",
              "4                      0.02  \n",
              "...                     ...  \n",
              "155192                -1.18  \n",
              "155193                -1.18  \n",
              "155194                 1.25  \n",
              "155195                 0.02  \n",
              "155196                 1.25  \n",
              "\n",
              "[155197 rows x 7 columns]"
            ],
            "text/html": [
              "\n",
              "  <div id=\"df-68b4e6a1-6ae3-4223-86fc-6a9cd01dc435\">\n",
              "    <div class=\"colab-df-container\">\n",
              "      <div>\n",
              "<style scoped>\n",
              "    .dataframe tbody tr th:only-of-type {\n",
              "        vertical-align: middle;\n",
              "    }\n",
              "\n",
              "    .dataframe tbody tr th {\n",
              "        vertical-align: top;\n",
              "    }\n",
              "\n",
              "    .dataframe thead th {\n",
              "        text-align: right;\n",
              "    }\n",
              "</style>\n",
              "<table border=\"1\" class=\"dataframe\">\n",
              "  <thead>\n",
              "    <tr style=\"text-align: right;\">\n",
              "      <th></th>\n",
              "      <th>b</th>\n",
              "      <th>d</th>\n",
              "      <th>death_r</th>\n",
              "      <th>dd</th>\n",
              "      <th>sd_b</th>\n",
              "      <th>sd_d</th>\n",
              "      <th>initial_pop</th>\n",
              "    </tr>\n",
              "  </thead>\n",
              "  <tbody>\n",
              "    <tr>\n",
              "      <th>0</th>\n",
              "      <td>0.77</td>\n",
              "      <td>1.98</td>\n",
              "      <td>0.22</td>\n",
              "      <td>1.22</td>\n",
              "      <td>0.45</td>\n",
              "      <td>0.45</td>\n",
              "      <td>1.25</td>\n",
              "    </tr>\n",
              "    <tr>\n",
              "      <th>1</th>\n",
              "      <td>-1.42</td>\n",
              "      <td>-0.73</td>\n",
              "      <td>-0.80</td>\n",
              "      <td>-0.52</td>\n",
              "      <td>0.45</td>\n",
              "      <td>-1.34</td>\n",
              "      <td>0.02</td>\n",
              "    </tr>\n",
              "    <tr>\n",
              "      <th>2</th>\n",
              "      <td>1.21</td>\n",
              "      <td>-0.73</td>\n",
              "      <td>0.22</td>\n",
              "      <td>-1.56</td>\n",
              "      <td>-1.34</td>\n",
              "      <td>1.34</td>\n",
              "      <td>0.02</td>\n",
              "    </tr>\n",
              "    <tr>\n",
              "      <th>3</th>\n",
              "      <td>-1.42</td>\n",
              "      <td>-0.73</td>\n",
              "      <td>1.23</td>\n",
              "      <td>-1.22</td>\n",
              "      <td>0.45</td>\n",
              "      <td>1.34</td>\n",
              "      <td>0.02</td>\n",
              "    </tr>\n",
              "    <tr>\n",
              "      <th>4</th>\n",
              "      <td>0.33</td>\n",
              "      <td>-0.28</td>\n",
              "      <td>1.23</td>\n",
              "      <td>1.22</td>\n",
              "      <td>1.34</td>\n",
              "      <td>0.45</td>\n",
              "      <td>0.02</td>\n",
              "    </tr>\n",
              "    <tr>\n",
              "      <th>...</th>\n",
              "      <td>...</td>\n",
              "      <td>...</td>\n",
              "      <td>...</td>\n",
              "      <td>...</td>\n",
              "      <td>...</td>\n",
              "      <td>...</td>\n",
              "      <td>...</td>\n",
              "    </tr>\n",
              "    <tr>\n",
              "      <th>155192</th>\n",
              "      <td>0.33</td>\n",
              "      <td>1.07</td>\n",
              "      <td>-1.47</td>\n",
              "      <td>-0.87</td>\n",
              "      <td>0.45</td>\n",
              "      <td>1.34</td>\n",
              "      <td>-1.18</td>\n",
              "    </tr>\n",
              "    <tr>\n",
              "      <th>155193</th>\n",
              "      <td>1.21</td>\n",
              "      <td>-1.19</td>\n",
              "      <td>0.22</td>\n",
              "      <td>-1.56</td>\n",
              "      <td>-1.34</td>\n",
              "      <td>1.34</td>\n",
              "      <td>-1.18</td>\n",
              "    </tr>\n",
              "    <tr>\n",
              "      <th>155194</th>\n",
              "      <td>-1.42</td>\n",
              "      <td>-0.73</td>\n",
              "      <td>-1.14</td>\n",
              "      <td>0.52</td>\n",
              "      <td>1.34</td>\n",
              "      <td>0.45</td>\n",
              "      <td>1.25</td>\n",
              "    </tr>\n",
              "    <tr>\n",
              "      <th>155195</th>\n",
              "      <td>0.33</td>\n",
              "      <td>-0.73</td>\n",
              "      <td>0.22</td>\n",
              "      <td>-0.87</td>\n",
              "      <td>-1.34</td>\n",
              "      <td>-1.34</td>\n",
              "      <td>0.02</td>\n",
              "    </tr>\n",
              "    <tr>\n",
              "      <th>155196</th>\n",
              "      <td>0.33</td>\n",
              "      <td>0.62</td>\n",
              "      <td>0.22</td>\n",
              "      <td>-1.56</td>\n",
              "      <td>-1.34</td>\n",
              "      <td>-1.34</td>\n",
              "      <td>1.25</td>\n",
              "    </tr>\n",
              "  </tbody>\n",
              "</table>\n",
              "<p>155197 rows × 7 columns</p>\n",
              "</div>\n",
              "      <button class=\"colab-df-convert\" onclick=\"convertToInteractive('df-68b4e6a1-6ae3-4223-86fc-6a9cd01dc435')\"\n",
              "              title=\"Convert this dataframe to an interactive table.\"\n",
              "              style=\"display:none;\">\n",
              "        \n",
              "  <svg xmlns=\"http://www.w3.org/2000/svg\" height=\"24px\"viewBox=\"0 0 24 24\"\n",
              "       width=\"24px\">\n",
              "    <path d=\"M0 0h24v24H0V0z\" fill=\"none\"/>\n",
              "    <path d=\"M18.56 5.44l.94 2.06.94-2.06 2.06-.94-2.06-.94-.94-2.06-.94 2.06-2.06.94zm-11 1L8.5 8.5l.94-2.06 2.06-.94-2.06-.94L8.5 2.5l-.94 2.06-2.06.94zm10 10l.94 2.06.94-2.06 2.06-.94-2.06-.94-.94-2.06-.94 2.06-2.06.94z\"/><path d=\"M17.41 7.96l-1.37-1.37c-.4-.4-.92-.59-1.43-.59-.52 0-1.04.2-1.43.59L10.3 9.45l-7.72 7.72c-.78.78-.78 2.05 0 2.83L4 21.41c.39.39.9.59 1.41.59.51 0 1.02-.2 1.41-.59l7.78-7.78 2.81-2.81c.8-.78.8-2.07 0-2.86zM5.41 20L4 18.59l7.72-7.72 1.47 1.35L5.41 20z\"/>\n",
              "  </svg>\n",
              "      </button>\n",
              "      \n",
              "  <style>\n",
              "    .colab-df-container {\n",
              "      display:flex;\n",
              "      flex-wrap:wrap;\n",
              "      gap: 12px;\n",
              "    }\n",
              "\n",
              "    .colab-df-convert {\n",
              "      background-color: #E8F0FE;\n",
              "      border: none;\n",
              "      border-radius: 50%;\n",
              "      cursor: pointer;\n",
              "      display: none;\n",
              "      fill: #1967D2;\n",
              "      height: 32px;\n",
              "      padding: 0 0 0 0;\n",
              "      width: 32px;\n",
              "    }\n",
              "\n",
              "    .colab-df-convert:hover {\n",
              "      background-color: #E2EBFA;\n",
              "      box-shadow: 0px 1px 2px rgba(60, 64, 67, 0.3), 0px 1px 3px 1px rgba(60, 64, 67, 0.15);\n",
              "      fill: #174EA6;\n",
              "    }\n",
              "\n",
              "    [theme=dark] .colab-df-convert {\n",
              "      background-color: #3B4455;\n",
              "      fill: #D2E3FC;\n",
              "    }\n",
              "\n",
              "    [theme=dark] .colab-df-convert:hover {\n",
              "      background-color: #434B5C;\n",
              "      box-shadow: 0px 1px 3px 1px rgba(0, 0, 0, 0.15);\n",
              "      filter: drop-shadow(0px 1px 2px rgba(0, 0, 0, 0.3));\n",
              "      fill: #FFFFFF;\n",
              "    }\n",
              "  </style>\n",
              "\n",
              "      <script>\n",
              "        const buttonEl =\n",
              "          document.querySelector('#df-68b4e6a1-6ae3-4223-86fc-6a9cd01dc435 button.colab-df-convert');\n",
              "        buttonEl.style.display =\n",
              "          google.colab.kernel.accessAllowed ? 'block' : 'none';\n",
              "\n",
              "        async function convertToInteractive(key) {\n",
              "          const element = document.querySelector('#df-68b4e6a1-6ae3-4223-86fc-6a9cd01dc435');\n",
              "          const dataTable =\n",
              "            await google.colab.kernel.invokeFunction('convertToInteractive',\n",
              "                                                     [key], {});\n",
              "          if (!dataTable) return;\n",
              "\n",
              "          const docLinkHtml = 'Like what you see? Visit the ' +\n",
              "            '<a target=\"_blank\" href=https://colab.research.google.com/notebooks/data_table.ipynb>data table notebook</a>'\n",
              "            + ' to learn more about interactive tables.';\n",
              "          element.innerHTML = '';\n",
              "          dataTable['output_type'] = 'display_data';\n",
              "          await google.colab.output.renderOutput(dataTable, element);\n",
              "          const docLink = document.createElement('div');\n",
              "          docLink.innerHTML = docLinkHtml;\n",
              "          element.appendChild(docLink);\n",
              "        }\n",
              "      </script>\n",
              "    </div>\n",
              "  </div>\n",
              "  "
            ]
          },
          "metadata": {},
          "execution_count": 80
        }
      ]
    },
    {
      "cell_type": "code",
      "source": [
        "scaler_y = StandardScaler()\n",
        "scaler_y.fit(y_train.to_frame())\n",
        "y_train = scaler_y.transform(y_train.to_frame())\n",
        "y_test = scaler_y.transform(y_test.to_frame())\n",
        "y_val = scaler_y.transform(y_val.to_frame())\n",
        "y_train"
      ],
      "metadata": {
        "colab": {
          "base_uri": "https://localhost:8080/"
        },
        "id": "fpEOQhC-0YYz",
        "outputId": "70128647-3710-42fb-a44f-ea2d266eac9c"
      },
      "execution_count": 81,
      "outputs": [
        {
          "output_type": "execute_result",
          "data": {
            "text/plain": [
              "array([[-0.17736242],\n",
              "       [-0.17736242],\n",
              "       [ 0.64752227],\n",
              "       ...,\n",
              "       [-0.17736242],\n",
              "       [-0.17736242],\n",
              "       [-0.17736242]])"
            ]
          },
          "metadata": {},
          "execution_count": 81
        }
      ]
    },
    {
      "cell_type": "markdown",
      "source": [
        "## Обучение моделей"
      ],
      "metadata": {
        "id": "bkNUQsl942oJ"
      }
    },
    {
      "cell_type": "markdown",
      "source": [
        "### Линейные регрессии"
      ],
      "metadata": {
        "id": "ctDDy7AB6J2c"
      }
    },
    {
      "cell_type": "code",
      "source": [
        "from sklearn.linear_model import LinearRegression\n",
        "from sklearn.metrics import mean_squared_error\n",
        "model = LinearRegression()\n",
        "model = model.fit(X_train, y_train)\n",
        "print(model.score(X_train, y_train))\n",
        "print(model.score(X_test, y_test))\n",
        "print(\"MSE на тренировочной выборке:\")\n",
        "print(mean_squared_error(scaler_y.inverse_transform(y_train), scaler_y.inverse_transform(model.predict(X_train))))\n",
        "print(\"MSE на тестовой выборке:\")\n",
        "print(mean_squared_error(scaler_y.inverse_transform(y_test), scaler_y.inverse_transform(model.predict(X_test))))\n",
        "model.coef_"
      ],
      "metadata": {
        "colab": {
          "base_uri": "https://localhost:8080/"
        },
        "id": "6UbPuIjS40V_",
        "outputId": "34dfeffd-a22c-41d7-ccea-83d1e5bb020b"
      },
      "execution_count": 82,
      "outputs": [
        {
          "output_type": "stream",
          "name": "stdout",
          "text": [
            "0.09731184782514135\n",
            "0.09932698616161295\n",
            "MSE на тренировочной выборке:\n",
            "512047.05769567395\n",
            "MSE на тестовой выборке:\n",
            "520263.5109154538\n"
          ]
        },
        {
          "output_type": "execute_result",
          "data": {
            "text/plain": [
              "array([[ 0.12849659, -0.18237533, -0.21857941, -0.14586917,  0.00920277,\n",
              "        -0.00915099, -0.05258099]])"
            ]
          },
          "metadata": {},
          "execution_count": 82
        }
      ]
    },
    {
      "cell_type": "code",
      "source": [
        "from sklearn import linear_model\n",
        "clf = linear_model.Lasso(alpha=10)\n",
        "clf.fit(X_train,y_train)\n",
        "print('a:',clf.intercept_)\n",
        "print( \"b: \",pd.DataFrame({\"name\":X_train.columns.values, \"coef\":clf.coef_}))\n",
        "print(clf.score(X_train, y_train))\n",
        "print(clf.score(X_test, y_test))\n"
      ],
      "metadata": {
        "colab": {
          "base_uri": "https://localhost:8080/"
        },
        "id": "h5xiSs0h5ACB",
        "outputId": "60bc45d4-205a-43e5-e746-cf1cd4866535"
      },
      "execution_count": 83,
      "outputs": [
        {
          "output_type": "stream",
          "name": "stdout",
          "text": [
            "a: [1.08048535e-17]\n",
            "b:            name                 coef\n",
            "0            b                 0.00\n",
            "1            d                -0.00\n",
            "2      death_r                -0.00\n",
            "3           dd                -0.00\n",
            "4         sd_b                 0.00\n",
            "5         sd_d                -0.00\n",
            "6  initial_pop                -0.00\n",
            "0.0\n",
            "-3.423290443627103e-05\n"
          ]
        }
      ]
    },
    {
      "cell_type": "code",
      "source": [
        "from sklearn.linear_model import Ridge\n",
        "import numpy as np\n",
        "clf1 = Ridge(alpha=10)\n",
        "clf1.fit(X_train,y_train)\n",
        "print('a:',clf1.intercept_)\n",
        "print(clf1.score(X_train, y_train))\n",
        "print(clf1.score(X_test, y_test))\n",
        "print(\"MSE на тренировочной выборке:\")\n",
        "print(mean_squared_error(scaler_y.inverse_transform(y_train), scaler_y.inverse_transform(clf1.predict(X_train))))\n",
        "print(\"MSE на тестовой выборке:\")\n",
        "print(mean_squared_error(scaler_y.inverse_transform(y_test), scaler_y.inverse_transform(clf1.predict(X_test))))\n",
        "clf1.coef_"
      ],
      "metadata": {
        "colab": {
          "base_uri": "https://localhost:8080/"
        },
        "id": "lZ_p4_x95RjT",
        "outputId": "8f7cf525-c739-4fe8-b62a-303c70fe0374"
      },
      "execution_count": 85,
      "outputs": [
        {
          "output_type": "stream",
          "name": "stdout",
          "text": [
            "a: [-3.40308811e-17]\n",
            "0.09731184709113061\n",
            "0.09932680093682311\n",
            "MSE на тренировочной выборке:\n",
            "512047.0581120392\n",
            "MSE на тестовой выборке:\n",
            "520263.61790844455\n"
          ]
        },
        {
          "output_type": "execute_result",
          "data": {
            "text/plain": [
              "array([[ 0.1284759 , -0.18235349, -0.21856473, -0.14585975,  0.00920224,\n",
              "        -0.00915045, -0.05257793]])"
            ]
          },
          "metadata": {},
          "execution_count": 85
        }
      ]
    },
    {
      "cell_type": "markdown",
      "source": [
        "### Решающие деревья"
      ],
      "metadata": {
        "id": "y0b_efAf6Nsp"
      }
    },
    {
      "cell_type": "code",
      "source": [
        "X_test,X_val, y_test, y_val = train_test_split(X_t, y_t, test_size=0.4, random_state = 3)\n",
        "X_test,X_val, y_test, y_val = train_test_split(X_t, y_t, test_size=0.4, random_state = 3)"
      ],
      "metadata": {
        "id": "UFjetPVNPPfo"
      },
      "execution_count": 86,
      "outputs": []
    },
    {
      "cell_type": "code",
      "source": [
        "from sklearn.ensemble import RandomForestRegressor\n",
        "rf = RandomForestRegressor(n_estimators = 300, max_features = 'sqrt', max_depth = 10, min_samples_leaf=10, random_state = 18)\n",
        "rf.fit(X_train, y_train)\n",
        "print(rf.score(X_train, y_train))\n",
        "print(rf.score(X_test, y_test))\n",
        "print(\"MSE на тренировочной выборке:\")\n",
        "print(mean_squared_error(y_train, rf.predict(X_train)))\n",
        "print(\"MSE на тестовой выборке:\")\n",
        "print(mean_squared_error(y_test, rf.predict(X_test)))"
      ],
      "metadata": {
        "id": "AiUGbZoj6Vd7",
        "colab": {
          "base_uri": "https://localhost:8080/"
        },
        "outputId": "99759ca1-8ab1-4882-e3ce-4c15f7c46f69"
      },
      "execution_count": 93,
      "outputs": [
        {
          "output_type": "stream",
          "name": "stderr",
          "text": [
            "<ipython-input-93-1d075720a40a>:3: DataConversionWarning: A column-vector y was passed when a 1d array was expected. Please change the shape of y to (n_samples,), for example using ravel().\n",
            "  rf.fit(X_train, y_train)\n"
          ]
        },
        {
          "output_type": "stream",
          "name": "stdout",
          "text": [
            "0.8572756724092407\n",
            "-0.03306120576049576\n",
            "MSE на тренировочной выборке:\n",
            "0.14272432759075918\n",
            "MSE на тестовой выборке:\n",
            "596736.042538905\n"
          ]
        }
      ]
    },
    {
      "cell_type": "code",
      "source": [
        "from sklearn.ensemble import BaggingRegressor\n",
        "br = BaggingRegressor(n_estimators = 50, random_state = 18)\n",
        "br.fit(X_train, y_train)\n",
        "print(br.score(X_train, y_train))\n",
        "print(br.score(X_test, y_test))\n",
        "print(\"MSE на тренировочной выборке:\")\n",
        "print(mean_squared_error(y_train, br.predict(X_train)))\n",
        "print(\"MSE на тестовой выборке:\")\n",
        "print(mean_squared_error(y_test, br.predict(X_test)))"
      ],
      "metadata": {
        "id": "qnt1rEHSTq2E",
        "outputId": "83ce32ba-fc14-4d2c-c6cc-222757c0a22d",
        "colab": {
          "base_uri": "https://localhost:8080/"
        }
      },
      "execution_count": 100,
      "outputs": [
        {
          "output_type": "stream",
          "name": "stderr",
          "text": [
            "/usr/local/lib/python3.9/dist-packages/sklearn/ensemble/_bagging.py:508: DataConversionWarning: A column-vector y was passed when a 1d array was expected. Please change the shape of y to (n_samples, ), for example using ravel().\n",
            "  return column_or_1d(y, warn=True)\n"
          ]
        },
        {
          "output_type": "stream",
          "name": "stdout",
          "text": [
            "0.9896448666958134\n",
            "-0.033067260497136486\n",
            "MSE на тренировочной выборке:\n",
            "0.010355133304186536\n",
            "MSE на тестовой выборке:\n",
            "596739.5399885832\n"
          ]
        }
      ]
    },
    {
      "cell_type": "markdown",
      "source": [
        "### обучение нейронной модели"
      ],
      "metadata": {
        "id": "7adbBGS3SF84"
      }
    },
    {
      "cell_type": "code",
      "source": [],
      "metadata": {
        "id": "gAy5VzJ8R_m2"
      },
      "execution_count": null,
      "outputs": []
    }
  ]
}