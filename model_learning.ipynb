{
  "nbformat": 4,
  "nbformat_minor": 0,
  "metadata": {
    "colab": {
      "provenance": [],
      "mount_file_id": "1R-WQjylOiBv8JOw3LKHUr65pyb-m5BBZ",
      "authorship_tag": "ABX9TyNW9+4uOaWcom6BXUjxYnWZ",
      "include_colab_link": true
    },
    "kernelspec": {
      "name": "python3",
      "display_name": "Python 3"
    },
    "language_info": {
      "name": "python"
    }
  },
  "cells": [
    {
      "cell_type": "markdown",
      "metadata": {
        "id": "view-in-github",
        "colab_type": "text"
      },
      "source": [
        "<a href=\"https://colab.research.google.com/github/sokanaid/CourseProject2022BiologicalMath/blob/main/model_learning.ipynb\" target=\"_parent\"><img src=\"https://colab.research.google.com/assets/colab-badge.svg\" alt=\"Open In Colab\"/></a>"
      ]
    },
    {
      "cell_type": "markdown",
      "source": [
        "# Обучение моделей предсказания числинности на плато"
      ],
      "metadata": {
        "id": "8q4sZqnAqK-C"
      }
    },
    {
      "cell_type": "code",
      "source": [
        "import pandas as pd\n",
        "import os\n",
        "import numpy as np\n",
        "from sklearn.model_selection import train_test_split\n",
        "from sklearn.preprocessing import StandardScaler\n",
        "np.random.seed(0)"
      ],
      "metadata": {
        "id": "fUvv7Jjwqsop"
      },
      "execution_count": 6,
      "outputs": []
    },
    {
      "cell_type": "code",
      "source": [
        "!pip install wandb"
      ],
      "metadata": {
        "id": "oM5gk5DYOPZ4",
        "outputId": "5e91fee4-8af8-4bca-ca75-0040305f4fb3",
        "colab": {
          "base_uri": "https://localhost:8080/"
        }
      },
      "execution_count": 208,
      "outputs": [
        {
          "output_type": "stream",
          "name": "stdout",
          "text": [
            "Looking in indexes: https://pypi.org/simple, https://us-python.pkg.dev/colab-wheels/public/simple/\n",
            "Requirement already satisfied: wandb in /usr/local/lib/python3.9/dist-packages (0.14.2)\n",
            "Requirement already satisfied: pathtools in /usr/local/lib/python3.9/dist-packages (from wandb) (0.1.2)\n",
            "Requirement already satisfied: docker-pycreds>=0.4.0 in /usr/local/lib/python3.9/dist-packages (from wandb) (0.4.0)\n",
            "Requirement already satisfied: setuptools in /usr/local/lib/python3.9/dist-packages (from wandb) (67.6.1)\n",
            "Requirement already satisfied: requests<3,>=2.0.0 in /usr/local/lib/python3.9/dist-packages (from wandb) (2.27.1)\n",
            "Requirement already satisfied: Click!=8.0.0,>=7.0 in /usr/local/lib/python3.9/dist-packages (from wandb) (8.1.3)\n",
            "Requirement already satisfied: appdirs>=1.4.3 in /usr/local/lib/python3.9/dist-packages (from wandb) (1.4.4)\n",
            "Requirement already satisfied: GitPython!=3.1.29,>=1.0.0 in /usr/local/lib/python3.9/dist-packages (from wandb) (3.1.31)\n",
            "Requirement already satisfied: psutil>=5.0.0 in /usr/local/lib/python3.9/dist-packages (from wandb) (5.9.4)\n",
            "Requirement already satisfied: typing-extensions in /usr/local/lib/python3.9/dist-packages (from wandb) (4.5.0)\n",
            "Requirement already satisfied: PyYAML in /usr/local/lib/python3.9/dist-packages (from wandb) (6.0)\n",
            "Requirement already satisfied: setproctitle in /usr/local/lib/python3.9/dist-packages (from wandb) (1.3.2)\n",
            "Requirement already satisfied: protobuf!=4.21.0,<5,>=3.15.0 in /usr/local/lib/python3.9/dist-packages (from wandb) (3.20.3)\n",
            "Requirement already satisfied: sentry-sdk>=1.0.0 in /usr/local/lib/python3.9/dist-packages (from wandb) (1.19.1)\n",
            "Requirement already satisfied: six>=1.4.0 in /usr/local/lib/python3.9/dist-packages (from docker-pycreds>=0.4.0->wandb) (1.16.0)\n",
            "Requirement already satisfied: gitdb<5,>=4.0.1 in /usr/local/lib/python3.9/dist-packages (from GitPython!=3.1.29,>=1.0.0->wandb) (4.0.10)\n",
            "Requirement already satisfied: urllib3<1.27,>=1.21.1 in /usr/local/lib/python3.9/dist-packages (from requests<3,>=2.0.0->wandb) (1.26.15)\n",
            "Requirement already satisfied: charset-normalizer~=2.0.0 in /usr/local/lib/python3.9/dist-packages (from requests<3,>=2.0.0->wandb) (2.0.12)\n",
            "Requirement already satisfied: idna<4,>=2.5 in /usr/local/lib/python3.9/dist-packages (from requests<3,>=2.0.0->wandb) (3.4)\n",
            "Requirement already satisfied: certifi>=2017.4.17 in /usr/local/lib/python3.9/dist-packages (from requests<3,>=2.0.0->wandb) (2022.12.7)\n",
            "Requirement already satisfied: smmap<6,>=3.0.1 in /usr/local/lib/python3.9/dist-packages (from gitdb<5,>=4.0.1->GitPython!=3.1.29,>=1.0.0->wandb) (5.0.0)\n"
          ]
        }
      ]
    },
    {
      "cell_type": "code",
      "source": [
        "!pip3 install pytorch_lightning torchmetrics"
      ],
      "metadata": {
        "colab": {
          "base_uri": "https://localhost:8080/"
        },
        "id": "j5f0fha6_W7R",
        "outputId": "79bae07a-5136-4628-9d1c-2de6a7f3b418"
      },
      "execution_count": 190,
      "outputs": [
        {
          "output_type": "stream",
          "name": "stdout",
          "text": [
            "Looking in indexes: https://pypi.org/simple, https://us-python.pkg.dev/colab-wheels/public/simple/\n",
            "Requirement already satisfied: wget in /usr/local/lib/python3.9/dist-packages (3.2)\n",
            "Looking in indexes: https://pypi.org/simple, https://us-python.pkg.dev/colab-wheels/public/simple/\n",
            "Requirement already satisfied: wandb in /usr/local/lib/python3.9/dist-packages (0.14.2)\n",
            "Requirement already satisfied: pathtools in /usr/local/lib/python3.9/dist-packages (from wandb) (0.1.2)\n",
            "Requirement already satisfied: docker-pycreds>=0.4.0 in /usr/local/lib/python3.9/dist-packages (from wandb) (0.4.0)\n",
            "Requirement already satisfied: setuptools in /usr/local/lib/python3.9/dist-packages (from wandb) (67.6.1)\n",
            "Requirement already satisfied: requests<3,>=2.0.0 in /usr/local/lib/python3.9/dist-packages (from wandb) (2.27.1)\n",
            "Requirement already satisfied: Click!=8.0.0,>=7.0 in /usr/local/lib/python3.9/dist-packages (from wandb) (8.1.3)\n",
            "Requirement already satisfied: appdirs>=1.4.3 in /usr/local/lib/python3.9/dist-packages (from wandb) (1.4.4)\n",
            "Requirement already satisfied: GitPython!=3.1.29,>=1.0.0 in /usr/local/lib/python3.9/dist-packages (from wandb) (3.1.31)\n",
            "Requirement already satisfied: psutil>=5.0.0 in /usr/local/lib/python3.9/dist-packages (from wandb) (5.9.4)\n",
            "Requirement already satisfied: typing-extensions in /usr/local/lib/python3.9/dist-packages (from wandb) (4.5.0)\n",
            "Requirement already satisfied: PyYAML in /usr/local/lib/python3.9/dist-packages (from wandb) (6.0)\n",
            "Requirement already satisfied: setproctitle in /usr/local/lib/python3.9/dist-packages (from wandb) (1.3.2)\n",
            "Requirement already satisfied: protobuf!=4.21.0,<5,>=3.15.0 in /usr/local/lib/python3.9/dist-packages (from wandb) (3.20.3)\n",
            "Requirement already satisfied: sentry-sdk>=1.0.0 in /usr/local/lib/python3.9/dist-packages (from wandb) (1.19.1)\n",
            "Requirement already satisfied: six>=1.4.0 in /usr/local/lib/python3.9/dist-packages (from docker-pycreds>=0.4.0->wandb) (1.16.0)\n",
            "Requirement already satisfied: gitdb<5,>=4.0.1 in /usr/local/lib/python3.9/dist-packages (from GitPython!=3.1.29,>=1.0.0->wandb) (4.0.10)\n",
            "Requirement already satisfied: urllib3<1.27,>=1.21.1 in /usr/local/lib/python3.9/dist-packages (from requests<3,>=2.0.0->wandb) (1.26.15)\n",
            "Requirement already satisfied: charset-normalizer~=2.0.0 in /usr/local/lib/python3.9/dist-packages (from requests<3,>=2.0.0->wandb) (2.0.12)\n",
            "Requirement already satisfied: idna<4,>=2.5 in /usr/local/lib/python3.9/dist-packages (from requests<3,>=2.0.0->wandb) (3.4)\n",
            "Requirement already satisfied: certifi>=2017.4.17 in /usr/local/lib/python3.9/dist-packages (from requests<3,>=2.0.0->wandb) (2022.12.7)\n",
            "Requirement already satisfied: smmap<6,>=3.0.1 in /usr/local/lib/python3.9/dist-packages (from gitdb<5,>=4.0.1->GitPython!=3.1.29,>=1.0.0->wandb) (5.0.0)\n",
            "Looking in indexes: https://pypi.org/simple, https://us-python.pkg.dev/colab-wheels/public/simple/\n",
            "Requirement already satisfied: pytorch_lightning in /usr/local/lib/python3.9/dist-packages (2.0.1)\n",
            "Requirement already satisfied: torchmetrics in /usr/local/lib/python3.9/dist-packages (0.11.4)\n",
            "Requirement already satisfied: numpy>=1.17.2 in /usr/local/lib/python3.9/dist-packages (from pytorch_lightning) (1.22.4)\n",
            "Requirement already satisfied: PyYAML>=5.4 in /usr/local/lib/python3.9/dist-packages (from pytorch_lightning) (6.0)\n",
            "Requirement already satisfied: torch>=1.11.0 in /usr/local/lib/python3.9/dist-packages (from pytorch_lightning) (2.0.0+cu118)\n",
            "Requirement already satisfied: fsspec[http]>2021.06.0 in /usr/local/lib/python3.9/dist-packages (from pytorch_lightning) (2023.3.0)\n",
            "Requirement already satisfied: tqdm>=4.57.0 in /usr/local/lib/python3.9/dist-packages (from pytorch_lightning) (4.65.0)\n",
            "Requirement already satisfied: typing-extensions>=4.0.0 in /usr/local/lib/python3.9/dist-packages (from pytorch_lightning) (4.5.0)\n",
            "Requirement already satisfied: packaging>=17.1 in /usr/local/lib/python3.9/dist-packages (from pytorch_lightning) (23.0)\n",
            "Requirement already satisfied: lightning-utilities>=0.7.0 in /usr/local/lib/python3.9/dist-packages (from pytorch_lightning) (0.8.0)\n",
            "Requirement already satisfied: requests in /usr/local/lib/python3.9/dist-packages (from fsspec[http]>2021.06.0->pytorch_lightning) (2.27.1)\n",
            "Requirement already satisfied: aiohttp!=4.0.0a0,!=4.0.0a1 in /usr/local/lib/python3.9/dist-packages (from fsspec[http]>2021.06.0->pytorch_lightning) (3.8.4)\n",
            "Requirement already satisfied: networkx in /usr/local/lib/python3.9/dist-packages (from torch>=1.11.0->pytorch_lightning) (3.0)\n",
            "Requirement already satisfied: triton==2.0.0 in /usr/local/lib/python3.9/dist-packages (from torch>=1.11.0->pytorch_lightning) (2.0.0)\n",
            "Requirement already satisfied: jinja2 in /usr/local/lib/python3.9/dist-packages (from torch>=1.11.0->pytorch_lightning) (3.1.2)\n",
            "Requirement already satisfied: sympy in /usr/local/lib/python3.9/dist-packages (from torch>=1.11.0->pytorch_lightning) (1.11.1)\n",
            "Requirement already satisfied: filelock in /usr/local/lib/python3.9/dist-packages (from torch>=1.11.0->pytorch_lightning) (3.10.7)\n",
            "Requirement already satisfied: lit in /usr/local/lib/python3.9/dist-packages (from triton==2.0.0->torch>=1.11.0->pytorch_lightning) (16.0.0)\n",
            "Requirement already satisfied: cmake in /usr/local/lib/python3.9/dist-packages (from triton==2.0.0->torch>=1.11.0->pytorch_lightning) (3.25.2)\n",
            "Requirement already satisfied: frozenlist>=1.1.1 in /usr/local/lib/python3.9/dist-packages (from aiohttp!=4.0.0a0,!=4.0.0a1->fsspec[http]>2021.06.0->pytorch_lightning) (1.3.3)\n",
            "Requirement already satisfied: attrs>=17.3.0 in /usr/local/lib/python3.9/dist-packages (from aiohttp!=4.0.0a0,!=4.0.0a1->fsspec[http]>2021.06.0->pytorch_lightning) (22.2.0)\n",
            "Requirement already satisfied: yarl<2.0,>=1.0 in /usr/local/lib/python3.9/dist-packages (from aiohttp!=4.0.0a0,!=4.0.0a1->fsspec[http]>2021.06.0->pytorch_lightning) (1.8.2)\n",
            "Requirement already satisfied: async-timeout<5.0,>=4.0.0a3 in /usr/local/lib/python3.9/dist-packages (from aiohttp!=4.0.0a0,!=4.0.0a1->fsspec[http]>2021.06.0->pytorch_lightning) (4.0.2)\n",
            "Requirement already satisfied: multidict<7.0,>=4.5 in /usr/local/lib/python3.9/dist-packages (from aiohttp!=4.0.0a0,!=4.0.0a1->fsspec[http]>2021.06.0->pytorch_lightning) (6.0.4)\n",
            "Requirement already satisfied: charset-normalizer<4.0,>=2.0 in /usr/local/lib/python3.9/dist-packages (from aiohttp!=4.0.0a0,!=4.0.0a1->fsspec[http]>2021.06.0->pytorch_lightning) (2.0.12)\n",
            "Requirement already satisfied: aiosignal>=1.1.2 in /usr/local/lib/python3.9/dist-packages (from aiohttp!=4.0.0a0,!=4.0.0a1->fsspec[http]>2021.06.0->pytorch_lightning) (1.3.1)\n",
            "Requirement already satisfied: MarkupSafe>=2.0 in /usr/local/lib/python3.9/dist-packages (from jinja2->torch>=1.11.0->pytorch_lightning) (2.1.2)\n",
            "Requirement already satisfied: urllib3<1.27,>=1.21.1 in /usr/local/lib/python3.9/dist-packages (from requests->fsspec[http]>2021.06.0->pytorch_lightning) (1.26.15)\n",
            "Requirement already satisfied: idna<4,>=2.5 in /usr/local/lib/python3.9/dist-packages (from requests->fsspec[http]>2021.06.0->pytorch_lightning) (3.4)\n",
            "Requirement already satisfied: certifi>=2017.4.17 in /usr/local/lib/python3.9/dist-packages (from requests->fsspec[http]>2021.06.0->pytorch_lightning) (2022.12.7)\n",
            "Requirement already satisfied: mpmath>=0.19 in /usr/local/lib/python3.9/dist-packages (from sympy->torch>=1.11.0->pytorch_lightning) (1.3.0)\n"
          ]
        }
      ]
    },
    {
      "cell_type": "code",
      "source": [
        "import torch.nn as nn\n",
        "import torch\n",
        "import torch.nn.functional as F\n",
        "import math\n",
        "import os\n",
        "import random\n",
        "import sys\n",
        "import torchvision.transforms as T\n",
        "import matplotlib.pyplot as plt\n",
        "import numpy as np\n",
        "import pytorch_lightning as pl\n",
        "import torch\n",
        "import torchvision\n",
        "import torchvision.transforms as transforms\n",
        "from PIL import Image\n",
        "from pytorch_lightning.loggers import WandbLogger\n",
        "from torch import nn\n",
        "from torch.nn import functional as F\n",
        "from torch.utils.data import DataLoader,TensorDataset\n",
        "from torchmetrics.functional import accuracy\n",
        "from torchvision.datasets import ImageFolder\n",
        "from tqdm import tqdm\n",
        "import PIL\n",
        "from torchmetrics.functional import accuracy\n",
        "from wandb.beta.workflows import use_model"
      ],
      "metadata": {
        "id": "kRFtFOTL73RQ"
      },
      "execution_count": 199,
      "outputs": []
    },
    {
      "cell_type": "code",
      "source": [
        "from google.colab import drive\n",
        "drive.mount('/content/drive/')\n",
        "%cd /content/drive/MyDrive/sim_tables"
      ],
      "metadata": {
        "colab": {
          "base_uri": "https://localhost:8080/"
        },
        "id": "vYatDe6xquQf",
        "outputId": "b7374bbe-3ea1-4b6e-9fdb-1d13a42635d9"
      },
      "execution_count": 7,
      "outputs": [
        {
          "output_type": "stream",
          "name": "stdout",
          "text": [
            "Mounted at /content/drive/\n",
            "/content/drive/MyDrive/sim_tables\n"
          ]
        }
      ]
    },
    {
      "cell_type": "code",
      "source": [
        "def seed_everything(seed):\n",
        "    # Фискирует максимум сидов.\n",
        "    # Это понадобится, чтобы сравнение оптимизаторов было корректным\n",
        "    random.seed(seed)\n",
        "    os.environ[\"PYTHONHASHSEED\"] = str(seed)\n",
        "    np.random.seed(seed)\n",
        "    torch.manual_seed(seed)\n",
        "    torch.cuda.manual_seed(seed)\n",
        "    torch.backends.cudnn.deterministic = True\n",
        "\n",
        "\n",
        "seed_everything(123456)"
      ],
      "metadata": {
        "id": "sRrt4rfeA1yg"
      },
      "execution_count": 8,
      "outputs": []
    },
    {
      "cell_type": "markdown",
      "source": [
        "## Подготовка датасета"
      ],
      "metadata": {
        "id": "4TfO8MRgqXLB"
      }
    },
    {
      "cell_type": "code",
      "execution_count": 158,
      "metadata": {
        "id": "VLwNq1o7qIk7"
      },
      "outputs": [],
      "source": [
        "file_name = \"/content/drive/MyDrive/sim_tables/data_set.csv\"\n",
        "sim_frame = pd.read_csv(file_name, sep='\\t').drop(\"Unnamed: 0\", axis = 1)"
      ]
    },
    {
      "cell_type": "code",
      "source": [
        "sim_frame.info()"
      ],
      "metadata": {
        "colab": {
          "base_uri": "https://localhost:8080/"
        },
        "id": "2cg8GYjhrFII",
        "outputId": "558ad77f-af6b-428a-a25e-06656a44d03d"
      },
      "execution_count": 159,
      "outputs": [
        {
          "output_type": "stream",
          "name": "stdout",
          "text": [
            "<class 'pandas.core.frame.DataFrame'>\n",
            "RangeIndex: 290525 entries, 0 to 290524\n",
            "Data columns (total 9 columns):\n",
            " #   Column         Non-Null Count   Dtype  \n",
            "---  ------         --------------   -----  \n",
            " 0   b              290525 non-null  float64\n",
            " 1   d              290525 non-null  float64\n",
            " 2   death_r        290525 non-null  float64\n",
            " 3   dd             290525 non-null  float64\n",
            " 4   sd_b           290525 non-null  float64\n",
            " 5   sd_d           290525 non-null  float64\n",
            " 6   area_length_x  290525 non-null  float64\n",
            " 7   initial_pop    290525 non-null  float64\n",
            " 8   plateau_pop    290525 non-null  float64\n",
            "dtypes: float64(9)\n",
            "memory usage: 19.9 MB\n"
          ]
        }
      ]
    },
    {
      "cell_type": "code",
      "source": [
        "print(\"total count of simulations:\", len(sim_frame))\n",
        "df = sim_frame[sim_frame[\"area_length_x\"]==100.0].drop(\"area_length_x\", axis = 1)\n",
        "df1 = df.drop_duplicates(subset=['b', 'd', 'death_r', 'dd', 'sd_b', 'sd_d', 'initial_pop']).reset_index(drop=True)\n",
        "print(\"total count of simulations to use in learning:\", len(df))"
      ],
      "metadata": {
        "colab": {
          "base_uri": "https://localhost:8080/"
        },
        "id": "ekXdmgCrrPjc",
        "outputId": "d8c6ca68-411a-4e36-8ee0-b7959dffbdac"
      },
      "execution_count": 160,
      "outputs": [
        {
          "output_type": "stream",
          "name": "stdout",
          "text": [
            "total count of simulations: 290525\n",
            "total count of simulations to use in learning: 221711\n"
          ]
        }
      ]
    },
    {
      "cell_type": "code",
      "source": [
        "# рапределение размеров в изначальном датасете\n",
        "sim_frame[\"area_length_x\"].value_counts()"
      ],
      "metadata": {
        "colab": {
          "base_uri": "https://localhost:8080/"
        },
        "id": "OeaO884Lroxs",
        "outputId": "0ec83a01-e8f3-4d56-d947-28d8249078f0"
      },
      "execution_count": 161,
      "outputs": [
        {
          "output_type": "execute_result",
          "data": {
            "text/plain": [
              "  100.00    221711\n",
              "1,100.00      3127\n",
              "3,100.00      2345\n",
              "2,100.00      2345\n",
              "4,100.00      2345\n",
              "2,500.00      2343\n",
              "3,300.00      2343\n",
              "3,500.00      2343\n",
              "2,300.00      2343\n",
              "  300.00      2343\n",
              "1,700.00      2343\n",
              "3,900.00      2343\n",
              "2,900.00      2343\n",
              "4,300.00      2343\n",
              "4,500.00      2343\n",
              "  500.00      2343\n",
              "1,900.00      2343\n",
              "3,700.00      2343\n",
              "5,100.00      2343\n",
              "2,700.00      2343\n",
              "  700.00      2343\n",
              "  900.00      2343\n",
              "4,700.00      2343\n",
              "1,300.00      2343\n",
              "1,500.00      2343\n",
              "5,700.00      2342\n",
              "5,500.00      2342\n",
              "4,900.00      2342\n",
              "5,900.00      2342\n",
              "5,300.00      2342\n",
              "2,600.00        14\n",
              "1,600.00        14\n",
              "3,600.00        14\n",
              "  600.00        14\n",
              "4,600.00        13\n",
              "5,600.00        13\n",
              "Name: area_length_x, dtype: int64"
            ]
          },
          "metadata": {},
          "execution_count": 161
        }
      ]
    },
    {
      "cell_type": "code",
      "source": [
        "pd.options.display.float_format = '{:20,.2f}'.format"
      ],
      "metadata": {
        "id": "11MkBDDzcpVh"
      },
      "execution_count": 162,
      "outputs": []
    },
    {
      "cell_type": "code",
      "source": [
        "# распределение параметров\n",
        "for column in list(df.columns.values):\n",
        "  print(column)\n",
        "  print(df[column].describe())"
      ],
      "metadata": {
        "colab": {
          "base_uri": "https://localhost:8080/"
        },
        "id": "yI5QAOaesF66",
        "outputId": "820d6cff-8dc1-447e-c08a-8c04b693978a"
      },
      "execution_count": 163,
      "outputs": [
        {
          "output_type": "stream",
          "name": "stdout",
          "text": [
            "b\n",
            "count             221,711.00\n",
            "mean                    0.67\n",
            "std                     0.23\n",
            "min                     0.10\n",
            "25%                     0.55\n",
            "50%                     0.75\n",
            "75%                     0.85\n",
            "max                     0.95\n",
            "Name: b, dtype: float64\n",
            "d\n",
            "count             221,711.00\n",
            "mean                    0.36\n",
            "std                     0.22\n",
            "min                     0.10\n",
            "25%                     0.20\n",
            "50%                     0.30\n",
            "75%                     0.50\n",
            "max                     0.90\n",
            "Name: d, dtype: float64\n",
            "death_r\n",
            "count             221,711.00\n",
            "mean                    5.36\n",
            "std                     2.96\n",
            "min                     0.10\n",
            "25%                     3.00\n",
            "50%                     5.00\n",
            "75%                     8.00\n",
            "max                    10.00\n",
            "Name: death_r, dtype: float64\n",
            "dd\n",
            "count             221,711.00\n",
            "mean                    0.55\n",
            "std                     0.29\n",
            "min                     0.10\n",
            "25%                     0.30\n",
            "50%                     0.55\n",
            "75%                     0.80\n",
            "max                     1.00\n",
            "Name: dd, dtype: float64\n",
            "sd_b\n",
            "count             221,711.00\n",
            "mean                    0.73\n",
            "std                     0.17\n",
            "min                     0.50\n",
            "25%                     0.60\n",
            "50%                     0.75\n",
            "75%                     0.90\n",
            "max                     1.00\n",
            "Name: sd_b, dtype: float64\n",
            "sd_d\n",
            "count             221,711.00\n",
            "mean                    0.73\n",
            "std                     0.17\n",
            "min                     0.50\n",
            "25%                     0.60\n",
            "50%                     0.75\n",
            "75%                     0.90\n",
            "max                     1.00\n",
            "Name: sd_d, dtype: float64\n",
            "initial_pop\n",
            "count             221,711.00\n",
            "mean                   49.06\n",
            "std                    40.65\n",
            "min                     1.00\n",
            "25%                     1.00\n",
            "50%                    50.00\n",
            "75%                   100.00\n",
            "max                   100.00\n",
            "Name: initial_pop, dtype: float64\n",
            "plateau_pop\n",
            "count             221,711.00\n",
            "mean                  134.51\n",
            "std                   757.02\n",
            "min                     0.00\n",
            "25%                     0.00\n",
            "50%                     0.00\n",
            "75%                     0.00\n",
            "max                34,227.56\n",
            "Name: plateau_pop, dtype: float64\n"
          ]
        }
      ]
    },
    {
      "cell_type": "code",
      "source": [
        "df[\"plateau_pop\"].describe()"
      ],
      "metadata": {
        "colab": {
          "base_uri": "https://localhost:8080/"
        },
        "id": "gBhWUrkbcyV7",
        "outputId": "8fe766a0-bea8-417b-bc84-13ba280e8a9d"
      },
      "execution_count": 164,
      "outputs": [
        {
          "output_type": "execute_result",
          "data": {
            "text/plain": [
              "count             221,711.00\n",
              "mean                  134.51\n",
              "std                   757.02\n",
              "min                     0.00\n",
              "25%                     0.00\n",
              "50%                     0.00\n",
              "75%                     0.00\n",
              "max                34,227.56\n",
              "Name: plateau_pop, dtype: float64"
            ]
          },
          "metadata": {},
          "execution_count": 164
        }
      ]
    },
    {
      "cell_type": "code",
      "source": [
        "X = df.drop(\"plateau_pop\", axis =1)\n",
        "y = df[\"plateau_pop\"]"
      ],
      "metadata": {
        "id": "h9seP6ygtRH2"
      },
      "execution_count": 165,
      "outputs": []
    },
    {
      "cell_type": "code",
      "source": [
        "X.head()"
      ],
      "metadata": {
        "colab": {
          "base_uri": "https://localhost:8080/",
          "height": 0
        },
        "id": "sD4cpFtavqz_",
        "outputId": "8f5cef7b-9f38-4575-da04-c61ef788bb53"
      },
      "execution_count": 166,
      "outputs": [
        {
          "output_type": "execute_result",
          "data": {
            "text/plain": [
              "                     b                    d              death_r  \\\n",
              "0                 0.35                 0.10                 3.00   \n",
              "1                 0.45                 0.30                 7.00   \n",
              "2                 0.95                 0.80                 9.00   \n",
              "3                 0.35                 0.20                 1.00   \n",
              "4                 0.35                 0.20                 6.00   \n",
              "\n",
              "                    dd                 sd_b                 sd_d  \\\n",
              "0                 0.90                 0.50                 0.65   \n",
              "1                 0.70                 0.95                 0.80   \n",
              "2                 0.20                 0.80                 0.95   \n",
              "3                 0.60                 0.80                 0.65   \n",
              "4                 0.10                 0.65                 0.65   \n",
              "\n",
              "           initial_pop  \n",
              "0               100.00  \n",
              "1                 1.00  \n",
              "2                 1.00  \n",
              "3                 1.00  \n",
              "4                 1.00  "
            ],
            "text/html": [
              "\n",
              "  <div id=\"df-b7e3e927-e8ed-4e7d-88b1-87a819372f21\">\n",
              "    <div class=\"colab-df-container\">\n",
              "      <div>\n",
              "<style scoped>\n",
              "    .dataframe tbody tr th:only-of-type {\n",
              "        vertical-align: middle;\n",
              "    }\n",
              "\n",
              "    .dataframe tbody tr th {\n",
              "        vertical-align: top;\n",
              "    }\n",
              "\n",
              "    .dataframe thead th {\n",
              "        text-align: right;\n",
              "    }\n",
              "</style>\n",
              "<table border=\"1\" class=\"dataframe\">\n",
              "  <thead>\n",
              "    <tr style=\"text-align: right;\">\n",
              "      <th></th>\n",
              "      <th>b</th>\n",
              "      <th>d</th>\n",
              "      <th>death_r</th>\n",
              "      <th>dd</th>\n",
              "      <th>sd_b</th>\n",
              "      <th>sd_d</th>\n",
              "      <th>initial_pop</th>\n",
              "    </tr>\n",
              "  </thead>\n",
              "  <tbody>\n",
              "    <tr>\n",
              "      <th>0</th>\n",
              "      <td>0.35</td>\n",
              "      <td>0.10</td>\n",
              "      <td>3.00</td>\n",
              "      <td>0.90</td>\n",
              "      <td>0.50</td>\n",
              "      <td>0.65</td>\n",
              "      <td>100.00</td>\n",
              "    </tr>\n",
              "    <tr>\n",
              "      <th>1</th>\n",
              "      <td>0.45</td>\n",
              "      <td>0.30</td>\n",
              "      <td>7.00</td>\n",
              "      <td>0.70</td>\n",
              "      <td>0.95</td>\n",
              "      <td>0.80</td>\n",
              "      <td>1.00</td>\n",
              "    </tr>\n",
              "    <tr>\n",
              "      <th>2</th>\n",
              "      <td>0.95</td>\n",
              "      <td>0.80</td>\n",
              "      <td>9.00</td>\n",
              "      <td>0.20</td>\n",
              "      <td>0.80</td>\n",
              "      <td>0.95</td>\n",
              "      <td>1.00</td>\n",
              "    </tr>\n",
              "    <tr>\n",
              "      <th>3</th>\n",
              "      <td>0.35</td>\n",
              "      <td>0.20</td>\n",
              "      <td>1.00</td>\n",
              "      <td>0.60</td>\n",
              "      <td>0.80</td>\n",
              "      <td>0.65</td>\n",
              "      <td>1.00</td>\n",
              "    </tr>\n",
              "    <tr>\n",
              "      <th>4</th>\n",
              "      <td>0.35</td>\n",
              "      <td>0.20</td>\n",
              "      <td>6.00</td>\n",
              "      <td>0.10</td>\n",
              "      <td>0.65</td>\n",
              "      <td>0.65</td>\n",
              "      <td>1.00</td>\n",
              "    </tr>\n",
              "  </tbody>\n",
              "</table>\n",
              "</div>\n",
              "      <button class=\"colab-df-convert\" onclick=\"convertToInteractive('df-b7e3e927-e8ed-4e7d-88b1-87a819372f21')\"\n",
              "              title=\"Convert this dataframe to an interactive table.\"\n",
              "              style=\"display:none;\">\n",
              "        \n",
              "  <svg xmlns=\"http://www.w3.org/2000/svg\" height=\"24px\"viewBox=\"0 0 24 24\"\n",
              "       width=\"24px\">\n",
              "    <path d=\"M0 0h24v24H0V0z\" fill=\"none\"/>\n",
              "    <path d=\"M18.56 5.44l.94 2.06.94-2.06 2.06-.94-2.06-.94-.94-2.06-.94 2.06-2.06.94zm-11 1L8.5 8.5l.94-2.06 2.06-.94-2.06-.94L8.5 2.5l-.94 2.06-2.06.94zm10 10l.94 2.06.94-2.06 2.06-.94-2.06-.94-.94-2.06-.94 2.06-2.06.94z\"/><path d=\"M17.41 7.96l-1.37-1.37c-.4-.4-.92-.59-1.43-.59-.52 0-1.04.2-1.43.59L10.3 9.45l-7.72 7.72c-.78.78-.78 2.05 0 2.83L4 21.41c.39.39.9.59 1.41.59.51 0 1.02-.2 1.41-.59l7.78-7.78 2.81-2.81c.8-.78.8-2.07 0-2.86zM5.41 20L4 18.59l7.72-7.72 1.47 1.35L5.41 20z\"/>\n",
              "  </svg>\n",
              "      </button>\n",
              "      \n",
              "  <style>\n",
              "    .colab-df-container {\n",
              "      display:flex;\n",
              "      flex-wrap:wrap;\n",
              "      gap: 12px;\n",
              "    }\n",
              "\n",
              "    .colab-df-convert {\n",
              "      background-color: #E8F0FE;\n",
              "      border: none;\n",
              "      border-radius: 50%;\n",
              "      cursor: pointer;\n",
              "      display: none;\n",
              "      fill: #1967D2;\n",
              "      height: 32px;\n",
              "      padding: 0 0 0 0;\n",
              "      width: 32px;\n",
              "    }\n",
              "\n",
              "    .colab-df-convert:hover {\n",
              "      background-color: #E2EBFA;\n",
              "      box-shadow: 0px 1px 2px rgba(60, 64, 67, 0.3), 0px 1px 3px 1px rgba(60, 64, 67, 0.15);\n",
              "      fill: #174EA6;\n",
              "    }\n",
              "\n",
              "    [theme=dark] .colab-df-convert {\n",
              "      background-color: #3B4455;\n",
              "      fill: #D2E3FC;\n",
              "    }\n",
              "\n",
              "    [theme=dark] .colab-df-convert:hover {\n",
              "      background-color: #434B5C;\n",
              "      box-shadow: 0px 1px 3px 1px rgba(0, 0, 0, 0.15);\n",
              "      filter: drop-shadow(0px 1px 2px rgba(0, 0, 0, 0.3));\n",
              "      fill: #FFFFFF;\n",
              "    }\n",
              "  </style>\n",
              "\n",
              "      <script>\n",
              "        const buttonEl =\n",
              "          document.querySelector('#df-b7e3e927-e8ed-4e7d-88b1-87a819372f21 button.colab-df-convert');\n",
              "        buttonEl.style.display =\n",
              "          google.colab.kernel.accessAllowed ? 'block' : 'none';\n",
              "\n",
              "        async function convertToInteractive(key) {\n",
              "          const element = document.querySelector('#df-b7e3e927-e8ed-4e7d-88b1-87a819372f21');\n",
              "          const dataTable =\n",
              "            await google.colab.kernel.invokeFunction('convertToInteractive',\n",
              "                                                     [key], {});\n",
              "          if (!dataTable) return;\n",
              "\n",
              "          const docLinkHtml = 'Like what you see? Visit the ' +\n",
              "            '<a target=\"_blank\" href=https://colab.research.google.com/notebooks/data_table.ipynb>data table notebook</a>'\n",
              "            + ' to learn more about interactive tables.';\n",
              "          element.innerHTML = '';\n",
              "          dataTable['output_type'] = 'display_data';\n",
              "          await google.colab.output.renderOutput(dataTable, element);\n",
              "          const docLink = document.createElement('div');\n",
              "          docLink.innerHTML = docLinkHtml;\n",
              "          element.appendChild(docLink);\n",
              "        }\n",
              "      </script>\n",
              "    </div>\n",
              "  </div>\n",
              "  "
            ]
          },
          "metadata": {},
          "execution_count": 166
        }
      ]
    },
    {
      "cell_type": "code",
      "source": [
        "y.head()"
      ],
      "metadata": {
        "colab": {
          "base_uri": "https://localhost:8080/"
        },
        "id": "glt0z0HBwCx6",
        "outputId": "f1a1d088-b9ec-4ce1-88f9-98fc9384e5cb"
      },
      "execution_count": 167,
      "outputs": [
        {
          "output_type": "execute_result",
          "data": {
            "text/plain": [
              "0                   0.00\n",
              "1                   0.00\n",
              "2                   0.00\n",
              "3                   0.00\n",
              "4                   0.00\n",
              "Name: plateau_pop, dtype: float64"
            ]
          },
          "metadata": {},
          "execution_count": 167
        }
      ]
    },
    {
      "cell_type": "code",
      "source": [
        "X_train, X_t, y_train, y_t = train_test_split(X, y, test_size=0.3, random_state = 3)\n",
        "X_train"
      ],
      "metadata": {
        "colab": {
          "base_uri": "https://localhost:8080/",
          "height": 0
        },
        "id": "sPBYCmF2wW5I",
        "outputId": "20336ffd-94b1-463d-df97-7297b0749da5"
      },
      "execution_count": 168,
      "outputs": [
        {
          "output_type": "execute_result",
          "data": {
            "text/plain": [
              "                          b                    d              death_r  \\\n",
              "91131                  0.85                 0.80                 6.00   \n",
              "136496                 0.35                 0.20                 3.00   \n",
              "55046                  0.95                 0.20                 6.00   \n",
              "9357                   0.35                 0.20                 9.00   \n",
              "202309                 0.75                 0.30                 9.00   \n",
              "...                     ...                  ...                  ...   \n",
              "62976                  0.75                 0.60                 1.00   \n",
              "249107                 0.95                 0.10                 6.00   \n",
              "101002                 0.35                 0.20                 2.00   \n",
              "259791                 0.75                 0.20                 6.00   \n",
              "93726                  0.75                 0.50                 6.00   \n",
              "\n",
              "                         dd                 sd_b                 sd_d  \\\n",
              "91131                  0.90                 0.80                 0.80   \n",
              "136496                 0.40                 0.80                 0.50   \n",
              "55046                  0.10                 0.50                 0.95   \n",
              "9357                   0.20                 0.80                 0.95   \n",
              "202309                 0.90                 0.95                 0.80   \n",
              "...                     ...                  ...                  ...   \n",
              "62976                  0.30                 0.80                 0.95   \n",
              "249107                 0.10                 0.50                 0.95   \n",
              "101002                 0.70                 0.95                 0.80   \n",
              "259791                 0.30                 0.50                 0.50   \n",
              "93726                  0.10                 0.50                 0.50   \n",
              "\n",
              "                initial_pop  \n",
              "91131                100.00  \n",
              "136496                50.00  \n",
              "55046                 50.00  \n",
              "9357                  50.00  \n",
              "202309                50.00  \n",
              "...                     ...  \n",
              "62976                  1.00  \n",
              "249107                 1.00  \n",
              "101002               100.00  \n",
              "259791                50.00  \n",
              "93726                100.00  \n",
              "\n",
              "[155197 rows x 7 columns]"
            ],
            "text/html": [
              "\n",
              "  <div id=\"df-2222460e-cfb9-4c04-a3c9-800ee4badd11\">\n",
              "    <div class=\"colab-df-container\">\n",
              "      <div>\n",
              "<style scoped>\n",
              "    .dataframe tbody tr th:only-of-type {\n",
              "        vertical-align: middle;\n",
              "    }\n",
              "\n",
              "    .dataframe tbody tr th {\n",
              "        vertical-align: top;\n",
              "    }\n",
              "\n",
              "    .dataframe thead th {\n",
              "        text-align: right;\n",
              "    }\n",
              "</style>\n",
              "<table border=\"1\" class=\"dataframe\">\n",
              "  <thead>\n",
              "    <tr style=\"text-align: right;\">\n",
              "      <th></th>\n",
              "      <th>b</th>\n",
              "      <th>d</th>\n",
              "      <th>death_r</th>\n",
              "      <th>dd</th>\n",
              "      <th>sd_b</th>\n",
              "      <th>sd_d</th>\n",
              "      <th>initial_pop</th>\n",
              "    </tr>\n",
              "  </thead>\n",
              "  <tbody>\n",
              "    <tr>\n",
              "      <th>91131</th>\n",
              "      <td>0.85</td>\n",
              "      <td>0.80</td>\n",
              "      <td>6.00</td>\n",
              "      <td>0.90</td>\n",
              "      <td>0.80</td>\n",
              "      <td>0.80</td>\n",
              "      <td>100.00</td>\n",
              "    </tr>\n",
              "    <tr>\n",
              "      <th>136496</th>\n",
              "      <td>0.35</td>\n",
              "      <td>0.20</td>\n",
              "      <td>3.00</td>\n",
              "      <td>0.40</td>\n",
              "      <td>0.80</td>\n",
              "      <td>0.50</td>\n",
              "      <td>50.00</td>\n",
              "    </tr>\n",
              "    <tr>\n",
              "      <th>55046</th>\n",
              "      <td>0.95</td>\n",
              "      <td>0.20</td>\n",
              "      <td>6.00</td>\n",
              "      <td>0.10</td>\n",
              "      <td>0.50</td>\n",
              "      <td>0.95</td>\n",
              "      <td>50.00</td>\n",
              "    </tr>\n",
              "    <tr>\n",
              "      <th>9357</th>\n",
              "      <td>0.35</td>\n",
              "      <td>0.20</td>\n",
              "      <td>9.00</td>\n",
              "      <td>0.20</td>\n",
              "      <td>0.80</td>\n",
              "      <td>0.95</td>\n",
              "      <td>50.00</td>\n",
              "    </tr>\n",
              "    <tr>\n",
              "      <th>202309</th>\n",
              "      <td>0.75</td>\n",
              "      <td>0.30</td>\n",
              "      <td>9.00</td>\n",
              "      <td>0.90</td>\n",
              "      <td>0.95</td>\n",
              "      <td>0.80</td>\n",
              "      <td>50.00</td>\n",
              "    </tr>\n",
              "    <tr>\n",
              "      <th>...</th>\n",
              "      <td>...</td>\n",
              "      <td>...</td>\n",
              "      <td>...</td>\n",
              "      <td>...</td>\n",
              "      <td>...</td>\n",
              "      <td>...</td>\n",
              "      <td>...</td>\n",
              "    </tr>\n",
              "    <tr>\n",
              "      <th>62976</th>\n",
              "      <td>0.75</td>\n",
              "      <td>0.60</td>\n",
              "      <td>1.00</td>\n",
              "      <td>0.30</td>\n",
              "      <td>0.80</td>\n",
              "      <td>0.95</td>\n",
              "      <td>1.00</td>\n",
              "    </tr>\n",
              "    <tr>\n",
              "      <th>249107</th>\n",
              "      <td>0.95</td>\n",
              "      <td>0.10</td>\n",
              "      <td>6.00</td>\n",
              "      <td>0.10</td>\n",
              "      <td>0.50</td>\n",
              "      <td>0.95</td>\n",
              "      <td>1.00</td>\n",
              "    </tr>\n",
              "    <tr>\n",
              "      <th>101002</th>\n",
              "      <td>0.35</td>\n",
              "      <td>0.20</td>\n",
              "      <td>2.00</td>\n",
              "      <td>0.70</td>\n",
              "      <td>0.95</td>\n",
              "      <td>0.80</td>\n",
              "      <td>100.00</td>\n",
              "    </tr>\n",
              "    <tr>\n",
              "      <th>259791</th>\n",
              "      <td>0.75</td>\n",
              "      <td>0.20</td>\n",
              "      <td>6.00</td>\n",
              "      <td>0.30</td>\n",
              "      <td>0.50</td>\n",
              "      <td>0.50</td>\n",
              "      <td>50.00</td>\n",
              "    </tr>\n",
              "    <tr>\n",
              "      <th>93726</th>\n",
              "      <td>0.75</td>\n",
              "      <td>0.50</td>\n",
              "      <td>6.00</td>\n",
              "      <td>0.10</td>\n",
              "      <td>0.50</td>\n",
              "      <td>0.50</td>\n",
              "      <td>100.00</td>\n",
              "    </tr>\n",
              "  </tbody>\n",
              "</table>\n",
              "<p>155197 rows × 7 columns</p>\n",
              "</div>\n",
              "      <button class=\"colab-df-convert\" onclick=\"convertToInteractive('df-2222460e-cfb9-4c04-a3c9-800ee4badd11')\"\n",
              "              title=\"Convert this dataframe to an interactive table.\"\n",
              "              style=\"display:none;\">\n",
              "        \n",
              "  <svg xmlns=\"http://www.w3.org/2000/svg\" height=\"24px\"viewBox=\"0 0 24 24\"\n",
              "       width=\"24px\">\n",
              "    <path d=\"M0 0h24v24H0V0z\" fill=\"none\"/>\n",
              "    <path d=\"M18.56 5.44l.94 2.06.94-2.06 2.06-.94-2.06-.94-.94-2.06-.94 2.06-2.06.94zm-11 1L8.5 8.5l.94-2.06 2.06-.94-2.06-.94L8.5 2.5l-.94 2.06-2.06.94zm10 10l.94 2.06.94-2.06 2.06-.94-2.06-.94-.94-2.06-.94 2.06-2.06.94z\"/><path d=\"M17.41 7.96l-1.37-1.37c-.4-.4-.92-.59-1.43-.59-.52 0-1.04.2-1.43.59L10.3 9.45l-7.72 7.72c-.78.78-.78 2.05 0 2.83L4 21.41c.39.39.9.59 1.41.59.51 0 1.02-.2 1.41-.59l7.78-7.78 2.81-2.81c.8-.78.8-2.07 0-2.86zM5.41 20L4 18.59l7.72-7.72 1.47 1.35L5.41 20z\"/>\n",
              "  </svg>\n",
              "      </button>\n",
              "      \n",
              "  <style>\n",
              "    .colab-df-container {\n",
              "      display:flex;\n",
              "      flex-wrap:wrap;\n",
              "      gap: 12px;\n",
              "    }\n",
              "\n",
              "    .colab-df-convert {\n",
              "      background-color: #E8F0FE;\n",
              "      border: none;\n",
              "      border-radius: 50%;\n",
              "      cursor: pointer;\n",
              "      display: none;\n",
              "      fill: #1967D2;\n",
              "      height: 32px;\n",
              "      padding: 0 0 0 0;\n",
              "      width: 32px;\n",
              "    }\n",
              "\n",
              "    .colab-df-convert:hover {\n",
              "      background-color: #E2EBFA;\n",
              "      box-shadow: 0px 1px 2px rgba(60, 64, 67, 0.3), 0px 1px 3px 1px rgba(60, 64, 67, 0.15);\n",
              "      fill: #174EA6;\n",
              "    }\n",
              "\n",
              "    [theme=dark] .colab-df-convert {\n",
              "      background-color: #3B4455;\n",
              "      fill: #D2E3FC;\n",
              "    }\n",
              "\n",
              "    [theme=dark] .colab-df-convert:hover {\n",
              "      background-color: #434B5C;\n",
              "      box-shadow: 0px 1px 3px 1px rgba(0, 0, 0, 0.15);\n",
              "      filter: drop-shadow(0px 1px 2px rgba(0, 0, 0, 0.3));\n",
              "      fill: #FFFFFF;\n",
              "    }\n",
              "  </style>\n",
              "\n",
              "      <script>\n",
              "        const buttonEl =\n",
              "          document.querySelector('#df-2222460e-cfb9-4c04-a3c9-800ee4badd11 button.colab-df-convert');\n",
              "        buttonEl.style.display =\n",
              "          google.colab.kernel.accessAllowed ? 'block' : 'none';\n",
              "\n",
              "        async function convertToInteractive(key) {\n",
              "          const element = document.querySelector('#df-2222460e-cfb9-4c04-a3c9-800ee4badd11');\n",
              "          const dataTable =\n",
              "            await google.colab.kernel.invokeFunction('convertToInteractive',\n",
              "                                                     [key], {});\n",
              "          if (!dataTable) return;\n",
              "\n",
              "          const docLinkHtml = 'Like what you see? Visit the ' +\n",
              "            '<a target=\"_blank\" href=https://colab.research.google.com/notebooks/data_table.ipynb>data table notebook</a>'\n",
              "            + ' to learn more about interactive tables.';\n",
              "          element.innerHTML = '';\n",
              "          dataTable['output_type'] = 'display_data';\n",
              "          await google.colab.output.renderOutput(dataTable, element);\n",
              "          const docLink = document.createElement('div');\n",
              "          docLink.innerHTML = docLinkHtml;\n",
              "          element.appendChild(docLink);\n",
              "        }\n",
              "      </script>\n",
              "    </div>\n",
              "  </div>\n",
              "  "
            ]
          },
          "metadata": {},
          "execution_count": 168
        }
      ]
    },
    {
      "cell_type": "code",
      "source": [
        "y_t"
      ],
      "metadata": {
        "colab": {
          "base_uri": "https://localhost:8080/"
        },
        "id": "djFUra_oFKK1",
        "outputId": "d7d2b84f-975a-4297-a3d4-7dc5d79f7c53"
      },
      "execution_count": 169,
      "outputs": [
        {
          "output_type": "execute_result",
          "data": {
            "text/plain": [
              "52386                    0.00\n",
              "207012                 130.25\n",
              "132679                   0.00\n",
              "273920                   0.00\n",
              "266077                 417.72\n",
              "                 ...         \n",
              "237742                   0.00\n",
              "179741                   0.00\n",
              "158214                 367.64\n",
              "13949                  283.65\n",
              "105356                   0.00\n",
              "Name: plateau_pop, Length: 66514, dtype: float64"
            ]
          },
          "metadata": {},
          "execution_count": 169
        }
      ]
    },
    {
      "cell_type": "code",
      "source": [
        "X_test,X_val, y_test, y_val = train_test_split(X_t, pd.DataFrame(y_t), test_size=0.4, random_state = 3)\n",
        "X_val"
      ],
      "metadata": {
        "colab": {
          "base_uri": "https://localhost:8080/",
          "height": 0
        },
        "id": "8Kzi1lbkxmQm",
        "outputId": "af5841f9-8468-4606-adc4-a7c3ec35343e"
      },
      "execution_count": 170,
      "outputs": [
        {
          "output_type": "execute_result",
          "data": {
            "text/plain": [
              "                          b                    d              death_r  \\\n",
              "108079                 0.95                 0.50                 9.00   \n",
              "88856                  0.75                 0.40                 1.00   \n",
              "184608                 0.75                 0.70                 8.00   \n",
              "142507                 0.35                 0.10                 0.10   \n",
              "56300                  0.75                 0.40                 7.00   \n",
              "...                     ...                  ...                  ...   \n",
              "237398                 0.55                 0.30                10.00   \n",
              "192025                 0.25                 0.10                 1.00   \n",
              "159130                 0.85                 0.20                 5.00   \n",
              "225534                 0.35                 0.20                 7.00   \n",
              "1508                   0.35                 0.20                 3.00   \n",
              "\n",
              "                         dd                 sd_b                 sd_d  \\\n",
              "108079                 0.60                 0.95                 0.80   \n",
              "88856                  0.50                 0.65                 0.95   \n",
              "184608                 0.70                 0.50                 0.95   \n",
              "142507                 0.90                 0.50                 0.95   \n",
              "56300                  0.10                 0.50                 0.95   \n",
              "...                     ...                  ...                  ...   \n",
              "237398                 0.20                 0.50                 0.80   \n",
              "192025                 0.80                 0.95                 0.95   \n",
              "159130                 0.30                 0.80                 0.95   \n",
              "225534                 0.60                 0.95                 0.50   \n",
              "1508                   0.20                 0.95                 0.80   \n",
              "\n",
              "                initial_pop  \n",
              "108079               100.00  \n",
              "88856                100.00  \n",
              "184608                 1.00  \n",
              "142507                 1.00  \n",
              "56300                  1.00  \n",
              "...                     ...  \n",
              "237398               100.00  \n",
              "192025               100.00  \n",
              "159130                50.00  \n",
              "225534               100.00  \n",
              "1508                  50.00  \n",
              "\n",
              "[26606 rows x 7 columns]"
            ],
            "text/html": [
              "\n",
              "  <div id=\"df-2463788c-0247-420f-a45e-b422bb85d6b8\">\n",
              "    <div class=\"colab-df-container\">\n",
              "      <div>\n",
              "<style scoped>\n",
              "    .dataframe tbody tr th:only-of-type {\n",
              "        vertical-align: middle;\n",
              "    }\n",
              "\n",
              "    .dataframe tbody tr th {\n",
              "        vertical-align: top;\n",
              "    }\n",
              "\n",
              "    .dataframe thead th {\n",
              "        text-align: right;\n",
              "    }\n",
              "</style>\n",
              "<table border=\"1\" class=\"dataframe\">\n",
              "  <thead>\n",
              "    <tr style=\"text-align: right;\">\n",
              "      <th></th>\n",
              "      <th>b</th>\n",
              "      <th>d</th>\n",
              "      <th>death_r</th>\n",
              "      <th>dd</th>\n",
              "      <th>sd_b</th>\n",
              "      <th>sd_d</th>\n",
              "      <th>initial_pop</th>\n",
              "    </tr>\n",
              "  </thead>\n",
              "  <tbody>\n",
              "    <tr>\n",
              "      <th>108079</th>\n",
              "      <td>0.95</td>\n",
              "      <td>0.50</td>\n",
              "      <td>9.00</td>\n",
              "      <td>0.60</td>\n",
              "      <td>0.95</td>\n",
              "      <td>0.80</td>\n",
              "      <td>100.00</td>\n",
              "    </tr>\n",
              "    <tr>\n",
              "      <th>88856</th>\n",
              "      <td>0.75</td>\n",
              "      <td>0.40</td>\n",
              "      <td>1.00</td>\n",
              "      <td>0.50</td>\n",
              "      <td>0.65</td>\n",
              "      <td>0.95</td>\n",
              "      <td>100.00</td>\n",
              "    </tr>\n",
              "    <tr>\n",
              "      <th>184608</th>\n",
              "      <td>0.75</td>\n",
              "      <td>0.70</td>\n",
              "      <td>8.00</td>\n",
              "      <td>0.70</td>\n",
              "      <td>0.50</td>\n",
              "      <td>0.95</td>\n",
              "      <td>1.00</td>\n",
              "    </tr>\n",
              "    <tr>\n",
              "      <th>142507</th>\n",
              "      <td>0.35</td>\n",
              "      <td>0.10</td>\n",
              "      <td>0.10</td>\n",
              "      <td>0.90</td>\n",
              "      <td>0.50</td>\n",
              "      <td>0.95</td>\n",
              "      <td>1.00</td>\n",
              "    </tr>\n",
              "    <tr>\n",
              "      <th>56300</th>\n",
              "      <td>0.75</td>\n",
              "      <td>0.40</td>\n",
              "      <td>7.00</td>\n",
              "      <td>0.10</td>\n",
              "      <td>0.50</td>\n",
              "      <td>0.95</td>\n",
              "      <td>1.00</td>\n",
              "    </tr>\n",
              "    <tr>\n",
              "      <th>...</th>\n",
              "      <td>...</td>\n",
              "      <td>...</td>\n",
              "      <td>...</td>\n",
              "      <td>...</td>\n",
              "      <td>...</td>\n",
              "      <td>...</td>\n",
              "      <td>...</td>\n",
              "    </tr>\n",
              "    <tr>\n",
              "      <th>237398</th>\n",
              "      <td>0.55</td>\n",
              "      <td>0.30</td>\n",
              "      <td>10.00</td>\n",
              "      <td>0.20</td>\n",
              "      <td>0.50</td>\n",
              "      <td>0.80</td>\n",
              "      <td>100.00</td>\n",
              "    </tr>\n",
              "    <tr>\n",
              "      <th>192025</th>\n",
              "      <td>0.25</td>\n",
              "      <td>0.10</td>\n",
              "      <td>1.00</td>\n",
              "      <td>0.80</td>\n",
              "      <td>0.95</td>\n",
              "      <td>0.95</td>\n",
              "      <td>100.00</td>\n",
              "    </tr>\n",
              "    <tr>\n",
              "      <th>159130</th>\n",
              "      <td>0.85</td>\n",
              "      <td>0.20</td>\n",
              "      <td>5.00</td>\n",
              "      <td>0.30</td>\n",
              "      <td>0.80</td>\n",
              "      <td>0.95</td>\n",
              "      <td>50.00</td>\n",
              "    </tr>\n",
              "    <tr>\n",
              "      <th>225534</th>\n",
              "      <td>0.35</td>\n",
              "      <td>0.20</td>\n",
              "      <td>7.00</td>\n",
              "      <td>0.60</td>\n",
              "      <td>0.95</td>\n",
              "      <td>0.50</td>\n",
              "      <td>100.00</td>\n",
              "    </tr>\n",
              "    <tr>\n",
              "      <th>1508</th>\n",
              "      <td>0.35</td>\n",
              "      <td>0.20</td>\n",
              "      <td>3.00</td>\n",
              "      <td>0.20</td>\n",
              "      <td>0.95</td>\n",
              "      <td>0.80</td>\n",
              "      <td>50.00</td>\n",
              "    </tr>\n",
              "  </tbody>\n",
              "</table>\n",
              "<p>26606 rows × 7 columns</p>\n",
              "</div>\n",
              "      <button class=\"colab-df-convert\" onclick=\"convertToInteractive('df-2463788c-0247-420f-a45e-b422bb85d6b8')\"\n",
              "              title=\"Convert this dataframe to an interactive table.\"\n",
              "              style=\"display:none;\">\n",
              "        \n",
              "  <svg xmlns=\"http://www.w3.org/2000/svg\" height=\"24px\"viewBox=\"0 0 24 24\"\n",
              "       width=\"24px\">\n",
              "    <path d=\"M0 0h24v24H0V0z\" fill=\"none\"/>\n",
              "    <path d=\"M18.56 5.44l.94 2.06.94-2.06 2.06-.94-2.06-.94-.94-2.06-.94 2.06-2.06.94zm-11 1L8.5 8.5l.94-2.06 2.06-.94-2.06-.94L8.5 2.5l-.94 2.06-2.06.94zm10 10l.94 2.06.94-2.06 2.06-.94-2.06-.94-.94-2.06-.94 2.06-2.06.94z\"/><path d=\"M17.41 7.96l-1.37-1.37c-.4-.4-.92-.59-1.43-.59-.52 0-1.04.2-1.43.59L10.3 9.45l-7.72 7.72c-.78.78-.78 2.05 0 2.83L4 21.41c.39.39.9.59 1.41.59.51 0 1.02-.2 1.41-.59l7.78-7.78 2.81-2.81c.8-.78.8-2.07 0-2.86zM5.41 20L4 18.59l7.72-7.72 1.47 1.35L5.41 20z\"/>\n",
              "  </svg>\n",
              "      </button>\n",
              "      \n",
              "  <style>\n",
              "    .colab-df-container {\n",
              "      display:flex;\n",
              "      flex-wrap:wrap;\n",
              "      gap: 12px;\n",
              "    }\n",
              "\n",
              "    .colab-df-convert {\n",
              "      background-color: #E8F0FE;\n",
              "      border: none;\n",
              "      border-radius: 50%;\n",
              "      cursor: pointer;\n",
              "      display: none;\n",
              "      fill: #1967D2;\n",
              "      height: 32px;\n",
              "      padding: 0 0 0 0;\n",
              "      width: 32px;\n",
              "    }\n",
              "\n",
              "    .colab-df-convert:hover {\n",
              "      background-color: #E2EBFA;\n",
              "      box-shadow: 0px 1px 2px rgba(60, 64, 67, 0.3), 0px 1px 3px 1px rgba(60, 64, 67, 0.15);\n",
              "      fill: #174EA6;\n",
              "    }\n",
              "\n",
              "    [theme=dark] .colab-df-convert {\n",
              "      background-color: #3B4455;\n",
              "      fill: #D2E3FC;\n",
              "    }\n",
              "\n",
              "    [theme=dark] .colab-df-convert:hover {\n",
              "      background-color: #434B5C;\n",
              "      box-shadow: 0px 1px 3px 1px rgba(0, 0, 0, 0.15);\n",
              "      filter: drop-shadow(0px 1px 2px rgba(0, 0, 0, 0.3));\n",
              "      fill: #FFFFFF;\n",
              "    }\n",
              "  </style>\n",
              "\n",
              "      <script>\n",
              "        const buttonEl =\n",
              "          document.querySelector('#df-2463788c-0247-420f-a45e-b422bb85d6b8 button.colab-df-convert');\n",
              "        buttonEl.style.display =\n",
              "          google.colab.kernel.accessAllowed ? 'block' : 'none';\n",
              "\n",
              "        async function convertToInteractive(key) {\n",
              "          const element = document.querySelector('#df-2463788c-0247-420f-a45e-b422bb85d6b8');\n",
              "          const dataTable =\n",
              "            await google.colab.kernel.invokeFunction('convertToInteractive',\n",
              "                                                     [key], {});\n",
              "          if (!dataTable) return;\n",
              "\n",
              "          const docLinkHtml = 'Like what you see? Visit the ' +\n",
              "            '<a target=\"_blank\" href=https://colab.research.google.com/notebooks/data_table.ipynb>data table notebook</a>'\n",
              "            + ' to learn more about interactive tables.';\n",
              "          element.innerHTML = '';\n",
              "          dataTable['output_type'] = 'display_data';\n",
              "          await google.colab.output.renderOutput(dataTable, element);\n",
              "          const docLink = document.createElement('div');\n",
              "          docLink.innerHTML = docLinkHtml;\n",
              "          element.appendChild(docLink);\n",
              "        }\n",
              "      </script>\n",
              "    </div>\n",
              "  </div>\n",
              "  "
            ]
          },
          "metadata": {},
          "execution_count": 170
        }
      ]
    },
    {
      "cell_type": "code",
      "source": [
        "y_test"
      ],
      "metadata": {
        "colab": {
          "base_uri": "https://localhost:8080/",
          "height": 0
        },
        "id": "-_qyfdgIFaTy",
        "outputId": "868483f1-0800-4513-86db-cf70b1ca263f"
      },
      "execution_count": 171,
      "outputs": [
        {
          "output_type": "execute_result",
          "data": {
            "text/plain": [
              "                plateau_pop\n",
              "254659                 0.00\n",
              "240613                 0.00\n",
              "282996                 0.00\n",
              "74306                  0.00\n",
              "223199                 0.00\n",
              "...                     ...\n",
              "244080               492.41\n",
              "97456                  0.00\n",
              "124917                 0.00\n",
              "110641                 0.00\n",
              "164590                 0.00\n",
              "\n",
              "[39908 rows x 1 columns]"
            ],
            "text/html": [
              "\n",
              "  <div id=\"df-fbd60d51-7151-454a-8e3a-2efd870649df\">\n",
              "    <div class=\"colab-df-container\">\n",
              "      <div>\n",
              "<style scoped>\n",
              "    .dataframe tbody tr th:only-of-type {\n",
              "        vertical-align: middle;\n",
              "    }\n",
              "\n",
              "    .dataframe tbody tr th {\n",
              "        vertical-align: top;\n",
              "    }\n",
              "\n",
              "    .dataframe thead th {\n",
              "        text-align: right;\n",
              "    }\n",
              "</style>\n",
              "<table border=\"1\" class=\"dataframe\">\n",
              "  <thead>\n",
              "    <tr style=\"text-align: right;\">\n",
              "      <th></th>\n",
              "      <th>plateau_pop</th>\n",
              "    </tr>\n",
              "  </thead>\n",
              "  <tbody>\n",
              "    <tr>\n",
              "      <th>254659</th>\n",
              "      <td>0.00</td>\n",
              "    </tr>\n",
              "    <tr>\n",
              "      <th>240613</th>\n",
              "      <td>0.00</td>\n",
              "    </tr>\n",
              "    <tr>\n",
              "      <th>282996</th>\n",
              "      <td>0.00</td>\n",
              "    </tr>\n",
              "    <tr>\n",
              "      <th>74306</th>\n",
              "      <td>0.00</td>\n",
              "    </tr>\n",
              "    <tr>\n",
              "      <th>223199</th>\n",
              "      <td>0.00</td>\n",
              "    </tr>\n",
              "    <tr>\n",
              "      <th>...</th>\n",
              "      <td>...</td>\n",
              "    </tr>\n",
              "    <tr>\n",
              "      <th>244080</th>\n",
              "      <td>492.41</td>\n",
              "    </tr>\n",
              "    <tr>\n",
              "      <th>97456</th>\n",
              "      <td>0.00</td>\n",
              "    </tr>\n",
              "    <tr>\n",
              "      <th>124917</th>\n",
              "      <td>0.00</td>\n",
              "    </tr>\n",
              "    <tr>\n",
              "      <th>110641</th>\n",
              "      <td>0.00</td>\n",
              "    </tr>\n",
              "    <tr>\n",
              "      <th>164590</th>\n",
              "      <td>0.00</td>\n",
              "    </tr>\n",
              "  </tbody>\n",
              "</table>\n",
              "<p>39908 rows × 1 columns</p>\n",
              "</div>\n",
              "      <button class=\"colab-df-convert\" onclick=\"convertToInteractive('df-fbd60d51-7151-454a-8e3a-2efd870649df')\"\n",
              "              title=\"Convert this dataframe to an interactive table.\"\n",
              "              style=\"display:none;\">\n",
              "        \n",
              "  <svg xmlns=\"http://www.w3.org/2000/svg\" height=\"24px\"viewBox=\"0 0 24 24\"\n",
              "       width=\"24px\">\n",
              "    <path d=\"M0 0h24v24H0V0z\" fill=\"none\"/>\n",
              "    <path d=\"M18.56 5.44l.94 2.06.94-2.06 2.06-.94-2.06-.94-.94-2.06-.94 2.06-2.06.94zm-11 1L8.5 8.5l.94-2.06 2.06-.94-2.06-.94L8.5 2.5l-.94 2.06-2.06.94zm10 10l.94 2.06.94-2.06 2.06-.94-2.06-.94-.94-2.06-.94 2.06-2.06.94z\"/><path d=\"M17.41 7.96l-1.37-1.37c-.4-.4-.92-.59-1.43-.59-.52 0-1.04.2-1.43.59L10.3 9.45l-7.72 7.72c-.78.78-.78 2.05 0 2.83L4 21.41c.39.39.9.59 1.41.59.51 0 1.02-.2 1.41-.59l7.78-7.78 2.81-2.81c.8-.78.8-2.07 0-2.86zM5.41 20L4 18.59l7.72-7.72 1.47 1.35L5.41 20z\"/>\n",
              "  </svg>\n",
              "      </button>\n",
              "      \n",
              "  <style>\n",
              "    .colab-df-container {\n",
              "      display:flex;\n",
              "      flex-wrap:wrap;\n",
              "      gap: 12px;\n",
              "    }\n",
              "\n",
              "    .colab-df-convert {\n",
              "      background-color: #E8F0FE;\n",
              "      border: none;\n",
              "      border-radius: 50%;\n",
              "      cursor: pointer;\n",
              "      display: none;\n",
              "      fill: #1967D2;\n",
              "      height: 32px;\n",
              "      padding: 0 0 0 0;\n",
              "      width: 32px;\n",
              "    }\n",
              "\n",
              "    .colab-df-convert:hover {\n",
              "      background-color: #E2EBFA;\n",
              "      box-shadow: 0px 1px 2px rgba(60, 64, 67, 0.3), 0px 1px 3px 1px rgba(60, 64, 67, 0.15);\n",
              "      fill: #174EA6;\n",
              "    }\n",
              "\n",
              "    [theme=dark] .colab-df-convert {\n",
              "      background-color: #3B4455;\n",
              "      fill: #D2E3FC;\n",
              "    }\n",
              "\n",
              "    [theme=dark] .colab-df-convert:hover {\n",
              "      background-color: #434B5C;\n",
              "      box-shadow: 0px 1px 3px 1px rgba(0, 0, 0, 0.15);\n",
              "      filter: drop-shadow(0px 1px 2px rgba(0, 0, 0, 0.3));\n",
              "      fill: #FFFFFF;\n",
              "    }\n",
              "  </style>\n",
              "\n",
              "      <script>\n",
              "        const buttonEl =\n",
              "          document.querySelector('#df-fbd60d51-7151-454a-8e3a-2efd870649df button.colab-df-convert');\n",
              "        buttonEl.style.display =\n",
              "          google.colab.kernel.accessAllowed ? 'block' : 'none';\n",
              "\n",
              "        async function convertToInteractive(key) {\n",
              "          const element = document.querySelector('#df-fbd60d51-7151-454a-8e3a-2efd870649df');\n",
              "          const dataTable =\n",
              "            await google.colab.kernel.invokeFunction('convertToInteractive',\n",
              "                                                     [key], {});\n",
              "          if (!dataTable) return;\n",
              "\n",
              "          const docLinkHtml = 'Like what you see? Visit the ' +\n",
              "            '<a target=\"_blank\" href=https://colab.research.google.com/notebooks/data_table.ipynb>data table notebook</a>'\n",
              "            + ' to learn more about interactive tables.';\n",
              "          element.innerHTML = '';\n",
              "          dataTable['output_type'] = 'display_data';\n",
              "          await google.colab.output.renderOutput(dataTable, element);\n",
              "          const docLink = document.createElement('div');\n",
              "          docLink.innerHTML = docLinkHtml;\n",
              "          element.appendChild(docLink);\n",
              "        }\n",
              "      </script>\n",
              "    </div>\n",
              "  </div>\n",
              "  "
            ]
          },
          "metadata": {},
          "execution_count": 171
        }
      ]
    },
    {
      "cell_type": "code",
      "source": [
        "y_test = np.array(y_test)\n",
        "y_test"
      ],
      "metadata": {
        "colab": {
          "base_uri": "https://localhost:8080/"
        },
        "id": "MMhotaxjESv-",
        "outputId": "672b2029-86d2-4e1d-9876-7e53730ee70d"
      },
      "execution_count": 172,
      "outputs": [
        {
          "output_type": "execute_result",
          "data": {
            "text/plain": [
              "array([[8.29650606e-112],\n",
              "       [2.09875125e-091],\n",
              "       [8.29650606e-112],\n",
              "       ...,\n",
              "       [6.84857036e-101],\n",
              "       [2.49950348e-105],\n",
              "       [2.00888470e-109]])"
            ]
          },
          "metadata": {},
          "execution_count": 172
        }
      ]
    },
    {
      "cell_type": "code",
      "source": [
        "y_val = np.array(y_val)\n",
        "y_val"
      ],
      "metadata": {
        "colab": {
          "base_uri": "https://localhost:8080/"
        },
        "id": "aDFNFkEwEuys",
        "outputId": "cb1da0a7-9afc-49df-b0df-14911d347c68"
      },
      "execution_count": 173,
      "outputs": [
        {
          "output_type": "execute_result",
          "data": {
            "text/plain": [
              "array([[9.16964044e-103],\n",
              "       [3.02924846e+002],\n",
              "       [1.21304703e-111],\n",
              "       ...,\n",
              "       [2.03050070e+002],\n",
              "       [2.45024669e-109],\n",
              "       [5.42278710e-056]])"
            ]
          },
          "metadata": {},
          "execution_count": 173
        }
      ]
    },
    {
      "cell_type": "code",
      "source": [
        "y_train = np.array(y_train)\n",
        "y_train"
      ],
      "metadata": {
        "colab": {
          "base_uri": "https://localhost:8080/"
        },
        "id": "0jAhzwsrFiRi",
        "outputId": "4520e2d3-71f9-438b-ec20-0c1297215f1e"
      },
      "execution_count": 174,
      "outputs": [
        {
          "output_type": "execute_result",
          "data": {
            "text/plain": [
              "array([8.96424855e-109, 1.31499617e-097, 6.21268462e+002, ...,\n",
              "       5.21862371e-104, 1.53279122e-076, 4.95610755e-101])"
            ]
          },
          "metadata": {},
          "execution_count": 174
        }
      ]
    },
    {
      "cell_type": "code",
      "source": [
        "y_train"
      ],
      "metadata": {
        "colab": {
          "base_uri": "https://localhost:8080/"
        },
        "id": "Ez4lPuxTEqxM",
        "outputId": "a2b52639-dbff-466e-c97f-697f030b6fbc"
      },
      "execution_count": 175,
      "outputs": [
        {
          "output_type": "execute_result",
          "data": {
            "text/plain": [
              "array([8.96424855e-109, 1.31499617e-097, 6.21268462e+002, ...,\n",
              "       5.21862371e-104, 1.53279122e-076, 4.95610755e-101])"
            ]
          },
          "metadata": {},
          "execution_count": 175
        }
      ]
    },
    {
      "cell_type": "code",
      "source": [
        "print(\"train len\", len(y_train))\n",
        "print(\"test len \", len(y_t))\n",
        "print(\"val len \", len(y_val))\n"
      ],
      "metadata": {
        "colab": {
          "base_uri": "https://localhost:8080/"
        },
        "id": "sJrxZcIhx-r7",
        "outputId": "fd43aff7-ddd1-4795-83a3-5b30ca6fcbaf"
      },
      "execution_count": 176,
      "outputs": [
        {
          "output_type": "stream",
          "name": "stdout",
          "text": [
            "train len 155197\n",
            "test len  66514\n",
            "val len  26606\n"
          ]
        }
      ]
    },
    {
      "cell_type": "code",
      "source": [
        "# нормализация данных\n",
        "scaler = StandardScaler()\n",
        "scaler.fit(X_train)\n",
        "X_train = pd.DataFrame(scaler.transform(X_train), columns = X_train.columns)\n",
        "X_test = pd.DataFrame(scaler.transform(X_test), columns = X_test.columns)\n",
        "X_val = pd.DataFrame(scaler.transform(X_val), columns = X_val.columns)\n",
        "X_train"
      ],
      "metadata": {
        "colab": {
          "base_uri": "https://localhost:8080/",
          "height": 0
        },
        "id": "PMO4-XHayT4x",
        "outputId": "9c18605b-ddd4-46a8-b0ea-6dd50c9f85c3"
      },
      "execution_count": 177,
      "outputs": [
        {
          "output_type": "execute_result",
          "data": {
            "text/plain": [
              "                          b                    d              death_r  \\\n",
              "0                      0.77                 1.98                 0.22   \n",
              "1                     -1.42                -0.73                -0.80   \n",
              "2                      1.21                -0.73                 0.22   \n",
              "3                     -1.42                -0.73                 1.23   \n",
              "4                      0.33                -0.28                 1.23   \n",
              "...                     ...                  ...                  ...   \n",
              "155192                 0.33                 1.07                -1.47   \n",
              "155193                 1.21                -1.19                 0.22   \n",
              "155194                -1.42                -0.73                -1.14   \n",
              "155195                 0.33                -0.73                 0.22   \n",
              "155196                 0.33                 0.62                 0.22   \n",
              "\n",
              "                         dd                 sd_b                 sd_d  \\\n",
              "0                      1.22                 0.45                 0.45   \n",
              "1                     -0.52                 0.45                -1.34   \n",
              "2                     -1.56                -1.34                 1.34   \n",
              "3                     -1.22                 0.45                 1.34   \n",
              "4                      1.22                 1.34                 0.45   \n",
              "...                     ...                  ...                  ...   \n",
              "155192                -0.87                 0.45                 1.34   \n",
              "155193                -1.56                -1.34                 1.34   \n",
              "155194                 0.52                 1.34                 0.45   \n",
              "155195                -0.87                -1.34                -1.34   \n",
              "155196                -1.56                -1.34                -1.34   \n",
              "\n",
              "                initial_pop  \n",
              "0                      1.25  \n",
              "1                      0.02  \n",
              "2                      0.02  \n",
              "3                      0.02  \n",
              "4                      0.02  \n",
              "...                     ...  \n",
              "155192                -1.18  \n",
              "155193                -1.18  \n",
              "155194                 1.25  \n",
              "155195                 0.02  \n",
              "155196                 1.25  \n",
              "\n",
              "[155197 rows x 7 columns]"
            ],
            "text/html": [
              "\n",
              "  <div id=\"df-98bd7103-958b-46aa-88b4-39e825523b87\">\n",
              "    <div class=\"colab-df-container\">\n",
              "      <div>\n",
              "<style scoped>\n",
              "    .dataframe tbody tr th:only-of-type {\n",
              "        vertical-align: middle;\n",
              "    }\n",
              "\n",
              "    .dataframe tbody tr th {\n",
              "        vertical-align: top;\n",
              "    }\n",
              "\n",
              "    .dataframe thead th {\n",
              "        text-align: right;\n",
              "    }\n",
              "</style>\n",
              "<table border=\"1\" class=\"dataframe\">\n",
              "  <thead>\n",
              "    <tr style=\"text-align: right;\">\n",
              "      <th></th>\n",
              "      <th>b</th>\n",
              "      <th>d</th>\n",
              "      <th>death_r</th>\n",
              "      <th>dd</th>\n",
              "      <th>sd_b</th>\n",
              "      <th>sd_d</th>\n",
              "      <th>initial_pop</th>\n",
              "    </tr>\n",
              "  </thead>\n",
              "  <tbody>\n",
              "    <tr>\n",
              "      <th>0</th>\n",
              "      <td>0.77</td>\n",
              "      <td>1.98</td>\n",
              "      <td>0.22</td>\n",
              "      <td>1.22</td>\n",
              "      <td>0.45</td>\n",
              "      <td>0.45</td>\n",
              "      <td>1.25</td>\n",
              "    </tr>\n",
              "    <tr>\n",
              "      <th>1</th>\n",
              "      <td>-1.42</td>\n",
              "      <td>-0.73</td>\n",
              "      <td>-0.80</td>\n",
              "      <td>-0.52</td>\n",
              "      <td>0.45</td>\n",
              "      <td>-1.34</td>\n",
              "      <td>0.02</td>\n",
              "    </tr>\n",
              "    <tr>\n",
              "      <th>2</th>\n",
              "      <td>1.21</td>\n",
              "      <td>-0.73</td>\n",
              "      <td>0.22</td>\n",
              "      <td>-1.56</td>\n",
              "      <td>-1.34</td>\n",
              "      <td>1.34</td>\n",
              "      <td>0.02</td>\n",
              "    </tr>\n",
              "    <tr>\n",
              "      <th>3</th>\n",
              "      <td>-1.42</td>\n",
              "      <td>-0.73</td>\n",
              "      <td>1.23</td>\n",
              "      <td>-1.22</td>\n",
              "      <td>0.45</td>\n",
              "      <td>1.34</td>\n",
              "      <td>0.02</td>\n",
              "    </tr>\n",
              "    <tr>\n",
              "      <th>4</th>\n",
              "      <td>0.33</td>\n",
              "      <td>-0.28</td>\n",
              "      <td>1.23</td>\n",
              "      <td>1.22</td>\n",
              "      <td>1.34</td>\n",
              "      <td>0.45</td>\n",
              "      <td>0.02</td>\n",
              "    </tr>\n",
              "    <tr>\n",
              "      <th>...</th>\n",
              "      <td>...</td>\n",
              "      <td>...</td>\n",
              "      <td>...</td>\n",
              "      <td>...</td>\n",
              "      <td>...</td>\n",
              "      <td>...</td>\n",
              "      <td>...</td>\n",
              "    </tr>\n",
              "    <tr>\n",
              "      <th>155192</th>\n",
              "      <td>0.33</td>\n",
              "      <td>1.07</td>\n",
              "      <td>-1.47</td>\n",
              "      <td>-0.87</td>\n",
              "      <td>0.45</td>\n",
              "      <td>1.34</td>\n",
              "      <td>-1.18</td>\n",
              "    </tr>\n",
              "    <tr>\n",
              "      <th>155193</th>\n",
              "      <td>1.21</td>\n",
              "      <td>-1.19</td>\n",
              "      <td>0.22</td>\n",
              "      <td>-1.56</td>\n",
              "      <td>-1.34</td>\n",
              "      <td>1.34</td>\n",
              "      <td>-1.18</td>\n",
              "    </tr>\n",
              "    <tr>\n",
              "      <th>155194</th>\n",
              "      <td>-1.42</td>\n",
              "      <td>-0.73</td>\n",
              "      <td>-1.14</td>\n",
              "      <td>0.52</td>\n",
              "      <td>1.34</td>\n",
              "      <td>0.45</td>\n",
              "      <td>1.25</td>\n",
              "    </tr>\n",
              "    <tr>\n",
              "      <th>155195</th>\n",
              "      <td>0.33</td>\n",
              "      <td>-0.73</td>\n",
              "      <td>0.22</td>\n",
              "      <td>-0.87</td>\n",
              "      <td>-1.34</td>\n",
              "      <td>-1.34</td>\n",
              "      <td>0.02</td>\n",
              "    </tr>\n",
              "    <tr>\n",
              "      <th>155196</th>\n",
              "      <td>0.33</td>\n",
              "      <td>0.62</td>\n",
              "      <td>0.22</td>\n",
              "      <td>-1.56</td>\n",
              "      <td>-1.34</td>\n",
              "      <td>-1.34</td>\n",
              "      <td>1.25</td>\n",
              "    </tr>\n",
              "  </tbody>\n",
              "</table>\n",
              "<p>155197 rows × 7 columns</p>\n",
              "</div>\n",
              "      <button class=\"colab-df-convert\" onclick=\"convertToInteractive('df-98bd7103-958b-46aa-88b4-39e825523b87')\"\n",
              "              title=\"Convert this dataframe to an interactive table.\"\n",
              "              style=\"display:none;\">\n",
              "        \n",
              "  <svg xmlns=\"http://www.w3.org/2000/svg\" height=\"24px\"viewBox=\"0 0 24 24\"\n",
              "       width=\"24px\">\n",
              "    <path d=\"M0 0h24v24H0V0z\" fill=\"none\"/>\n",
              "    <path d=\"M18.56 5.44l.94 2.06.94-2.06 2.06-.94-2.06-.94-.94-2.06-.94 2.06-2.06.94zm-11 1L8.5 8.5l.94-2.06 2.06-.94-2.06-.94L8.5 2.5l-.94 2.06-2.06.94zm10 10l.94 2.06.94-2.06 2.06-.94-2.06-.94-.94-2.06-.94 2.06-2.06.94z\"/><path d=\"M17.41 7.96l-1.37-1.37c-.4-.4-.92-.59-1.43-.59-.52 0-1.04.2-1.43.59L10.3 9.45l-7.72 7.72c-.78.78-.78 2.05 0 2.83L4 21.41c.39.39.9.59 1.41.59.51 0 1.02-.2 1.41-.59l7.78-7.78 2.81-2.81c.8-.78.8-2.07 0-2.86zM5.41 20L4 18.59l7.72-7.72 1.47 1.35L5.41 20z\"/>\n",
              "  </svg>\n",
              "      </button>\n",
              "      \n",
              "  <style>\n",
              "    .colab-df-container {\n",
              "      display:flex;\n",
              "      flex-wrap:wrap;\n",
              "      gap: 12px;\n",
              "    }\n",
              "\n",
              "    .colab-df-convert {\n",
              "      background-color: #E8F0FE;\n",
              "      border: none;\n",
              "      border-radius: 50%;\n",
              "      cursor: pointer;\n",
              "      display: none;\n",
              "      fill: #1967D2;\n",
              "      height: 32px;\n",
              "      padding: 0 0 0 0;\n",
              "      width: 32px;\n",
              "    }\n",
              "\n",
              "    .colab-df-convert:hover {\n",
              "      background-color: #E2EBFA;\n",
              "      box-shadow: 0px 1px 2px rgba(60, 64, 67, 0.3), 0px 1px 3px 1px rgba(60, 64, 67, 0.15);\n",
              "      fill: #174EA6;\n",
              "    }\n",
              "\n",
              "    [theme=dark] .colab-df-convert {\n",
              "      background-color: #3B4455;\n",
              "      fill: #D2E3FC;\n",
              "    }\n",
              "\n",
              "    [theme=dark] .colab-df-convert:hover {\n",
              "      background-color: #434B5C;\n",
              "      box-shadow: 0px 1px 3px 1px rgba(0, 0, 0, 0.15);\n",
              "      filter: drop-shadow(0px 1px 2px rgba(0, 0, 0, 0.3));\n",
              "      fill: #FFFFFF;\n",
              "    }\n",
              "  </style>\n",
              "\n",
              "      <script>\n",
              "        const buttonEl =\n",
              "          document.querySelector('#df-98bd7103-958b-46aa-88b4-39e825523b87 button.colab-df-convert');\n",
              "        buttonEl.style.display =\n",
              "          google.colab.kernel.accessAllowed ? 'block' : 'none';\n",
              "\n",
              "        async function convertToInteractive(key) {\n",
              "          const element = document.querySelector('#df-98bd7103-958b-46aa-88b4-39e825523b87');\n",
              "          const dataTable =\n",
              "            await google.colab.kernel.invokeFunction('convertToInteractive',\n",
              "                                                     [key], {});\n",
              "          if (!dataTable) return;\n",
              "\n",
              "          const docLinkHtml = 'Like what you see? Visit the ' +\n",
              "            '<a target=\"_blank\" href=https://colab.research.google.com/notebooks/data_table.ipynb>data table notebook</a>'\n",
              "            + ' to learn more about interactive tables.';\n",
              "          element.innerHTML = '';\n",
              "          dataTable['output_type'] = 'display_data';\n",
              "          await google.colab.output.renderOutput(dataTable, element);\n",
              "          const docLink = document.createElement('div');\n",
              "          docLink.innerHTML = docLinkHtml;\n",
              "          element.appendChild(docLink);\n",
              "        }\n",
              "      </script>\n",
              "    </div>\n",
              "  </div>\n",
              "  "
            ]
          },
          "metadata": {},
          "execution_count": 177
        }
      ]
    },
    {
      "cell_type": "code",
      "source": [
        "y_train = np.reshape(y_train, (y_train.shape[0],1 ))\n",
        "y_train"
      ],
      "metadata": {
        "colab": {
          "base_uri": "https://localhost:8080/"
        },
        "id": "46Nso3MfH3Cb",
        "outputId": "531fd5a6-ce30-4249-981c-488f734ed3f4"
      },
      "execution_count": 178,
      "outputs": [
        {
          "output_type": "execute_result",
          "data": {
            "text/plain": [
              "array([[8.96424855e-109],\n",
              "       [1.31499617e-097],\n",
              "       [6.21268462e+002],\n",
              "       ...,\n",
              "       [5.21862371e-104],\n",
              "       [1.53279122e-076],\n",
              "       [4.95610755e-101]])"
            ]
          },
          "metadata": {},
          "execution_count": 178
        }
      ]
    },
    {
      "cell_type": "code",
      "source": [
        "scaler_y = StandardScaler()\n",
        "scaler_y.fit(y_train)\n",
        "y_train = scaler_y.transform(y_train)\n",
        "y_test = scaler_y.transform(y_test)\n",
        "y_val = scaler_y.transform(y_val)\n",
        "y_train"
      ],
      "metadata": {
        "colab": {
          "base_uri": "https://localhost:8080/"
        },
        "id": "fpEOQhC-0YYz",
        "outputId": "cdedc729-8b15-4f06-b6eb-c3c53fc8e7ce"
      },
      "execution_count": 179,
      "outputs": [
        {
          "output_type": "execute_result",
          "data": {
            "text/plain": [
              "array([[-0.17736242],\n",
              "       [-0.17736242],\n",
              "       [ 0.64752227],\n",
              "       ...,\n",
              "       [-0.17736242],\n",
              "       [-0.17736242],\n",
              "       [-0.17736242]])"
            ]
          },
          "metadata": {},
          "execution_count": 179
        }
      ]
    },
    {
      "cell_type": "markdown",
      "source": [
        "## Обучение моделей"
      ],
      "metadata": {
        "id": "bkNUQsl942oJ"
      }
    },
    {
      "cell_type": "markdown",
      "source": [
        "### Линейные регрессии"
      ],
      "metadata": {
        "id": "ctDDy7AB6J2c"
      }
    },
    {
      "cell_type": "code",
      "source": [
        "from sklearn.linear_model import LinearRegression\n",
        "from sklearn.metrics import mean_squared_error\n",
        "model = LinearRegression()\n",
        "model = model.fit(X_train, y_train)\n",
        "print(model.score(X_train, y_train))\n",
        "print(model.score(X_test, y_test))\n",
        "pred_train = model.predict(X_train)\n",
        "pred_test = model.predict(X_test)\n",
        "print(\"MSE на тренировочной выборке:\")\n",
        "print(mean_squared_error(scaler_y.inverse_transform(y_train), scaler_y.inverse_transform(np.reshape(pred_train, (pred_train.shape[0],1 )))))\n",
        "print(\"MSE на тестовой выборке:\")\n",
        "print(mean_squared_error(scaler_y.inverse_transform(y_test), scaler_y.inverse_transform(np.reshape(pred_test, (pred_test.shape[0],1 )))))\n",
        "model.coef_"
      ],
      "metadata": {
        "colab": {
          "base_uri": "https://localhost:8080/"
        },
        "id": "6UbPuIjS40V_",
        "outputId": "20129284-92d7-43dd-ab36-b001aa383d72"
      },
      "execution_count": 180,
      "outputs": [
        {
          "output_type": "stream",
          "name": "stdout",
          "text": [
            "0.09731184782514135\n",
            "0.09932698616161295\n",
            "MSE на тренировочной выборке:\n",
            "512047.05769567395\n",
            "MSE на тестовой выборке:\n",
            "520263.5109154538\n"
          ]
        },
        {
          "output_type": "execute_result",
          "data": {
            "text/plain": [
              "array([[ 0.12849659, -0.18237533, -0.21857941, -0.14586917,  0.00920277,\n",
              "        -0.00915099, -0.05258099]])"
            ]
          },
          "metadata": {},
          "execution_count": 180
        }
      ]
    },
    {
      "cell_type": "code",
      "source": [
        "from sklearn import linear_model\n",
        "clf = linear_model.Lasso(alpha=10)\n",
        "clf.fit(X_train,y_train)\n",
        "print('a:',clf.intercept_)\n",
        "print( \"b: \",pd.DataFrame({\"name\":X_train.columns.values, \"coef\":clf.coef_}))\n",
        "print(clf.score(X_train, y_train))\n",
        "print(clf.score(X_test, y_test))\n"
      ],
      "metadata": {
        "colab": {
          "base_uri": "https://localhost:8080/"
        },
        "id": "h5xiSs0h5ACB",
        "outputId": "6b174adf-43e3-4fb8-a32a-3186e8b9372e"
      },
      "execution_count": 181,
      "outputs": [
        {
          "output_type": "stream",
          "name": "stdout",
          "text": [
            "a: [1.08048535e-17]\n",
            "b:            name                 coef\n",
            "0            b                 0.00\n",
            "1            d                -0.00\n",
            "2      death_r                -0.00\n",
            "3           dd                -0.00\n",
            "4         sd_b                 0.00\n",
            "5         sd_d                -0.00\n",
            "6  initial_pop                -0.00\n",
            "0.0\n",
            "-3.423290443627103e-05\n"
          ]
        }
      ]
    },
    {
      "cell_type": "code",
      "source": [
        "from sklearn.linear_model import Ridge\n",
        "import numpy as np\n",
        "clf1 = Ridge(alpha=10)\n",
        "clf1.fit(X_train,y_train)\n",
        "print('a:',clf1.intercept_)\n",
        "print(clf1.score(X_train, y_train))\n",
        "print(clf1.score(X_test, y_test))\n",
        "print(\"MSE на тренировочной выборке:\")\n",
        "print(mean_squared_error(scaler_y.inverse_transform(y_train), scaler_y.inverse_transform(clf1.predict(X_train))))\n",
        "print(\"MSE на тестовой выборке:\")\n",
        "print(mean_squared_error(scaler_y.inverse_transform(y_test), scaler_y.inverse_transform(clf1.predict(X_test))))\n",
        "clf1.coef_"
      ],
      "metadata": {
        "colab": {
          "base_uri": "https://localhost:8080/"
        },
        "id": "lZ_p4_x95RjT",
        "outputId": "193285f4-6e09-426d-db61-cc4f39152379"
      },
      "execution_count": 182,
      "outputs": [
        {
          "output_type": "stream",
          "name": "stdout",
          "text": [
            "a: [-3.40308811e-17]\n",
            "0.09731184709113061\n",
            "0.09932680093682311\n",
            "MSE на тренировочной выборке:\n",
            "512047.0581120392\n",
            "MSE на тестовой выборке:\n",
            "520263.61790844455\n"
          ]
        },
        {
          "output_type": "execute_result",
          "data": {
            "text/plain": [
              "array([[ 0.1284759 , -0.18235349, -0.21856473, -0.14585975,  0.00920224,\n",
              "        -0.00915045, -0.05257793]])"
            ]
          },
          "metadata": {},
          "execution_count": 182
        }
      ]
    },
    {
      "cell_type": "markdown",
      "source": [
        "### Решающие деревья"
      ],
      "metadata": {
        "id": "y0b_efAf6Nsp"
      }
    },
    {
      "cell_type": "code",
      "source": [
        "X_test,X_val, y_test, y_val = train_test_split(X_t, y_t, test_size=0.4, random_state = 3)\n",
        "X_test,X_val, y_test, y_val = train_test_split(X_t, y_t, test_size=0.4, random_state = 3)\n",
        "y_test = np.array(y_test)\n",
        "y_val = np.array(y_val)\n",
        "y_train = np.array(y_train)\n",
        "y_train = np.reshape(y_train, (y_train.shape[0],1 ))\n"
      ],
      "metadata": {
        "id": "UFjetPVNPPfo"
      },
      "execution_count": 183,
      "outputs": []
    },
    {
      "cell_type": "code",
      "source": [
        "from sklearn.ensemble import RandomForestRegressor\n",
        "rf = RandomForestRegressor(n_estimators = 300, max_features = 'sqrt', max_depth = 10, min_samples_leaf=10, random_state = 18)\n",
        "rf.fit(X_train, y_train)\n",
        "print(rf.score(X_train, y_train))\n",
        "print(rf.score(X_test, y_test))\n",
        "print(\"MSE на тренировочной выборке:\")\n",
        "print(mean_squared_error(y_train, rf.predict(X_train)))\n",
        "print(\"MSE на тестовой выборке:\")\n",
        "print(mean_squared_error(y_test, rf.predict(X_test)))"
      ],
      "metadata": {
        "id": "AiUGbZoj6Vd7",
        "colab": {
          "base_uri": "https://localhost:8080/"
        },
        "outputId": "753c3974-b955-4c9e-c05b-463b5d0c7b07"
      },
      "execution_count": 184,
      "outputs": [
        {
          "output_type": "stream",
          "name": "stderr",
          "text": [
            "<ipython-input-184-1d075720a40a>:3: DataConversionWarning: A column-vector y was passed when a 1d array was expected. Please change the shape of y to (n_samples,), for example using ravel().\n",
            "  rf.fit(X_train, y_train)\n"
          ]
        },
        {
          "output_type": "stream",
          "name": "stdout",
          "text": [
            "0.8572756724092407\n",
            "-0.03306120576049576\n",
            "MSE на тренировочной выборке:\n",
            "0.14272432759075918\n",
            "MSE на тестовой выборке:\n",
            "596736.042538905\n"
          ]
        }
      ]
    },
    {
      "cell_type": "code",
      "source": [
        "from sklearn.ensemble import BaggingRegressor\n",
        "br = BaggingRegressor(n_estimators = 50, random_state = 18)\n",
        "br.fit(X_train, y_train)\n",
        "print(br.score(X_train, y_train))\n",
        "print(br.score(X_test, y_test))\n",
        "print(\"MSE на тренировочной выборке:\")\n",
        "print(mean_squared_error(y_train, br.predict(X_train)))\n",
        "print(\"MSE на тестовой выборке:\")\n",
        "print(mean_squared_error(y_test, br.predict(X_test)))"
      ],
      "metadata": {
        "colab": {
          "base_uri": "https://localhost:8080/"
        },
        "id": "qnt1rEHSTq2E",
        "outputId": "de89766d-cf8a-4559-8195-adea43e91342"
      },
      "execution_count": 185,
      "outputs": [
        {
          "output_type": "stream",
          "name": "stderr",
          "text": [
            "/usr/local/lib/python3.9/dist-packages/sklearn/ensemble/_bagging.py:508: DataConversionWarning: A column-vector y was passed when a 1d array was expected. Please change the shape of y to (n_samples, ), for example using ravel().\n",
            "  return column_or_1d(y, warn=True)\n"
          ]
        },
        {
          "output_type": "stream",
          "name": "stdout",
          "text": [
            "0.9896448666958134\n",
            "-0.033067260497136486\n",
            "MSE на тренировочной выборке:\n",
            "0.010355133304186536\n",
            "MSE на тестовой выборке:\n",
            "596739.5399885832\n"
          ]
        }
      ]
    },
    {
      "cell_type": "markdown",
      "source": [
        "### обучение нейронной модели"
      ],
      "metadata": {
        "id": "7adbBGS3SF84"
      }
    },
    {
      "cell_type": "code",
      "source": [
        "class YourModule(pl.LightningModule):\n",
        "    def __init__(self , learning_rate = 0.0001):\n",
        "        super().__init__()\n",
        "        import torch\n",
        "        torch.cuda.empty_cache()\n",
        "      \n",
        "        self.loss_func = nn.CrossEntropyLoss()\n",
        "        \n",
        "        # YOUR CODE HERE\n",
        "        self.model = nn.Sequential(nn.Linear(in_features=9, out_features=200, bias=True), \n",
        "                                  nn.ReLU(), \n",
        "                                  nn.Linear(in_features=200, out_features=100, bias=True),\n",
        "                                  nn.ReLU(),\n",
        "                                  nn.Linear(in_features=100, out_features=1, bias=True),)\n",
        "        #self.model.heads.head = nn.Identity()\n",
        "        #self.classifier = nn.Linear(in_features=768, out_features=200, bias=True)\n",
        "        self.learning_rate = learning_rate\n",
        "        \n",
        "        self.targets = torch.Tensor()\n",
        "        self.preds = torch.Tensor()\n",
        "        self.accuracy = 0.0\n",
        "        \n",
        "        self.save_hyperparameters()\n",
        "        \n",
        "    def _forward(self, x):\n",
        "        # runs the Neural Network\n",
        "        # YOUR CODE HERE\n",
        "        with torch.no_grad():\n",
        "             res = self.model(x)\n",
        "        return res\n",
        "    \n",
        "    def forward(self, x, target=None):\n",
        "        # images ~ (batch size, num channels, height, width)\n",
        "        # target ~ (batch size)\n",
        "        # output ~ (batch size, num classes)\n",
        "        output = self._forward(x)\n",
        "\n",
        "        # get accuracy score and save it to self.accuracy\n",
        "        if target is not None:\n",
        "            loss = self.loss_func(output, x)\n",
        "\n",
        "            self.targets = torch.cat((self.targets, target.cpu()), 0)\n",
        "            pred = torch.argmax(output, dim=-1)\n",
        "            self.preds = torch.cat((self.preds, pred.cpu()), 0)\n",
        "            #self.accuracy = accuracy(self.preds.long(), self.targets.long())\n",
        "            return loss\n",
        "        return output\n",
        "\n",
        "    #def get_accuracy(self, reset=False):\n",
        "    #    if reset:\n",
        "    #        self.targets = torch.Tensor()\n",
        "    #        self.preds = torch.Tensor()\n",
        "    #    return self.accuracy\n",
        "    \n",
        "    def configure_optimizers(self):\n",
        "        #optimizer = torch.optim.Adam(self.parameters(), lr=self.learning_rate)\n",
        "        optimizer =  torch.optim.SGD(self.classifier.parameters(), lr=self.learning_rate, momentum=0.9)\n",
        "\n",
        "        # Decay LR by a factor of 0.1 every 7 epochs\n",
        "        exp_lr_scheduler = torch.optim.lr_scheduler.StepLR(optimizer, step_size=1, gamma=0.3)\n",
        "        return optimizer\n",
        "\n",
        "    def training_step(self, train_batch, batch_idx):\n",
        "        # YOUR CODE HERE\n",
        "        x, target = train_batch\n",
        "        loss = self.forward(x, target)\n",
        "        self.log(\"train_loss\", loss, prog_bar=True)  # сохраняет логи в папку, но можно несложно добавить wandb\n",
        "        return loss\n",
        "\n",
        "    '''def validation_step(self, val_batch, batch_idx):\n",
        "        # YOUR CODE HERE\n",
        "        images, target = val_batch\n",
        "        loss = self.forward(images, target)\n",
        "        self.log(\"val_loss\", loss, prog_bar=True)\n",
        "        self.log(\"MSE\", self.get_accuracy(True), prog_bar=True)'''"
      ],
      "metadata": {
        "id": "gAy5VzJ8R_m2"
      },
      "execution_count": 213,
      "outputs": []
    },
    {
      "cell_type": "code",
      "source": [
        "batch_size = 32\n",
        "train_dataloader = DataLoader(TensorDataset(torch.tensor(X_train.values.astype(np.float32)), torch.Tensor(y_train)), batch_size=batch_size,\n",
        "    shuffle=True,  \n",
        "    num_workers=1)\n",
        "test_dataloader = DataLoader(TensorDataset(torch.tensor(X_test.values.astype(np.float32)), torch.Tensor(y_test)), batch_size=batch_size,\n",
        "    shuffle= True, \n",
        "    num_workers=1)"
      ],
      "metadata": {
        "id": "Qj0t8G-V--Ng"
      },
      "execution_count": 187,
      "outputs": []
    },
    {
      "cell_type": "code",
      "source": [
        "import wandb\n",
        "\n",
        "wandb.login()"
      ],
      "metadata": {
        "colab": {
          "base_uri": "https://localhost:8080/"
        },
        "id": "tf-CpQ9aNsbu",
        "outputId": "d0f1585c-4c72-44ec-9c80-c14b9e7f3c21"
      },
      "execution_count": 205,
      "outputs": [
        {
          "output_type": "execute_result",
          "data": {
            "text/plain": [
              "True"
            ]
          },
          "metadata": {},
          "execution_count": 205
        }
      ]
    },
    {
      "cell_type": "code",
      "source": [
        "wandb_logger = WandbLogger(log_model='all')\n",
        "# какие возможности дает с pytorch_lightning https://docs.wandb.ai/guides/integrations/lightning"
      ],
      "metadata": {
        "id": "VIKLvk_QPBsU",
        "outputId": "c746d2da-5367-44ea-8cdb-7742461b8479",
        "colab": {
          "base_uri": "https://localhost:8080/",
          "height": 495
        }
      },
      "execution_count": 218,
      "outputs": [
        {
          "output_type": "error",
          "ename": "ModuleNotFoundError",
          "evalue": "ignored",
          "traceback": [
            "\u001b[0;31m---------------------------------------------------------------------------\u001b[0m",
            "\u001b[0;31mModuleNotFoundError\u001b[0m                       Traceback (most recent call last)",
            "\u001b[0;32m<ipython-input-218-42f31d48f830>\u001b[0m in \u001b[0;36m<cell line: 1>\u001b[0;34m()\u001b[0m\n\u001b[0;32m----> 1\u001b[0;31m \u001b[0mwandb_logger\u001b[0m \u001b[0;34m=\u001b[0m \u001b[0mWandbLogger\u001b[0m\u001b[0;34m(\u001b[0m\u001b[0mlog_model\u001b[0m\u001b[0;34m=\u001b[0m\u001b[0;34m'all'\u001b[0m\u001b[0;34m)\u001b[0m\u001b[0;34m\u001b[0m\u001b[0;34m\u001b[0m\u001b[0m\n\u001b[0m\u001b[1;32m      2\u001b[0m \u001b[0;31m# какие возможности дает с pytorch_lightning https://docs.wandb.ai/guides/integrations/lightning\u001b[0m\u001b[0;34m\u001b[0m\u001b[0;34m\u001b[0m\u001b[0m\n",
            "\u001b[0;32m/usr/local/lib/python3.9/dist-packages/pytorch_lightning/loggers/wandb.py\u001b[0m in \u001b[0;36m__init__\u001b[0;34m(self, name, save_dir, version, offline, dir, id, anonymous, project, log_model, experiment, prefix, checkpoint_name, **kwargs)\u001b[0m\n\u001b[1;32m    304\u001b[0m     ) -> None:\n\u001b[1;32m    305\u001b[0m         \u001b[0;32mif\u001b[0m \u001b[0mwandb\u001b[0m \u001b[0;32mis\u001b[0m \u001b[0;32mNone\u001b[0m\u001b[0;34m:\u001b[0m\u001b[0;34m\u001b[0m\u001b[0;34m\u001b[0m\u001b[0m\n\u001b[0;32m--> 306\u001b[0;31m             raise ModuleNotFoundError(\n\u001b[0m\u001b[1;32m    307\u001b[0m                 \u001b[0;34m\"You want to use `wandb` logger which is not installed yet,\"\u001b[0m\u001b[0;34m\u001b[0m\u001b[0;34m\u001b[0m\u001b[0m\n\u001b[1;32m    308\u001b[0m                 \u001b[0;34m\" install it with `pip install wandb`.\"\u001b[0m  \u001b[0;31m# pragma: no-cover\u001b[0m\u001b[0;34m\u001b[0m\u001b[0;34m\u001b[0m\u001b[0m\n",
            "\u001b[0;31mModuleNotFoundError\u001b[0m: You want to use `wandb` logger which is not installed yet, install it with `pip install wandb`.",
            "",
            "\u001b[0;31m---------------------------------------------------------------------------\u001b[0;32m\nNOTE: If your import is failing due to a missing package, you can\nmanually install dependencies using either !pip or !apt.\n\nTo view examples of installing some common dependencies, click the\n\"Open Examples\" button below.\n\u001b[0;31m---------------------------------------------------------------------------\u001b[0m\n"
          ],
          "errorDetails": {
            "actions": [
              {
                "action": "open_url",
                "actionText": "Open Examples",
                "url": "/notebooks/snippets/importing_libraries.ipynb"
              }
            ]
          }
        }
      ]
    },
    {
      "cell_type": "code",
      "source": [
        "device = \"cuda:0\" if torch.cuda.is_available() else \"cpu\"\n",
        "\n",
        "module = YourModule(model)"
      ],
      "metadata": {
        "colab": {
          "base_uri": "https://localhost:8080/",
          "height": 533
        },
        "id": "nh95UXro-iUW",
        "outputId": "8e864559-4ff3-41c3-8dde-75b432e4c759"
      },
      "execution_count": 216,
      "outputs": [
        {
          "output_type": "error",
          "ename": "ModuleNotFoundError",
          "evalue": "ignored",
          "traceback": [
            "\u001b[0;31m---------------------------------------------------------------------------\u001b[0m",
            "\u001b[0;31mModuleNotFoundError\u001b[0m                       Traceback (most recent call last)",
            "\u001b[0;32m<ipython-input-216-8bed80e199a4>\u001b[0m in \u001b[0;36m<cell line: 1>\u001b[0;34m()\u001b[0m\n\u001b[0;32m----> 1\u001b[0;31m \u001b[0mwandb_logger\u001b[0m \u001b[0;34m=\u001b[0m \u001b[0mWandbLogger\u001b[0m\u001b[0;34m(\u001b[0m\u001b[0mlog_model\u001b[0m\u001b[0;34m=\u001b[0m\u001b[0;34m'all'\u001b[0m\u001b[0;34m)\u001b[0m \u001b[0;31m# какие возможности дает с pytorch_lightning https://docs.wandb.ai/guides/integrations/lightning\u001b[0m\u001b[0;34m\u001b[0m\u001b[0;34m\u001b[0m\u001b[0m\n\u001b[0m\u001b[1;32m      2\u001b[0m \u001b[0mdevice\u001b[0m \u001b[0;34m=\u001b[0m \u001b[0;34m\"cuda:0\"\u001b[0m \u001b[0;32mif\u001b[0m \u001b[0mtorch\u001b[0m\u001b[0;34m.\u001b[0m\u001b[0mcuda\u001b[0m\u001b[0;34m.\u001b[0m\u001b[0mis_available\u001b[0m\u001b[0;34m(\u001b[0m\u001b[0;34m)\u001b[0m \u001b[0;32melse\u001b[0m \u001b[0;34m\"cpu\"\u001b[0m\u001b[0;34m\u001b[0m\u001b[0;34m\u001b[0m\u001b[0m\n\u001b[1;32m      3\u001b[0m \u001b[0;34m\u001b[0m\u001b[0m\n\u001b[1;32m      4\u001b[0m \u001b[0mmodule\u001b[0m \u001b[0;34m=\u001b[0m \u001b[0mYourModule\u001b[0m\u001b[0;34m(\u001b[0m\u001b[0mmodel\u001b[0m\u001b[0;34m)\u001b[0m\u001b[0;34m\u001b[0m\u001b[0;34m\u001b[0m\u001b[0m\n",
            "\u001b[0;32m/usr/local/lib/python3.9/dist-packages/pytorch_lightning/loggers/wandb.py\u001b[0m in \u001b[0;36m__init__\u001b[0;34m(self, name, save_dir, version, offline, dir, id, anonymous, project, log_model, experiment, prefix, checkpoint_name, **kwargs)\u001b[0m\n\u001b[1;32m    304\u001b[0m     ) -> None:\n\u001b[1;32m    305\u001b[0m         \u001b[0;32mif\u001b[0m \u001b[0mwandb\u001b[0m \u001b[0;32mis\u001b[0m \u001b[0;32mNone\u001b[0m\u001b[0;34m:\u001b[0m\u001b[0;34m\u001b[0m\u001b[0;34m\u001b[0m\u001b[0m\n\u001b[0;32m--> 306\u001b[0;31m             raise ModuleNotFoundError(\n\u001b[0m\u001b[1;32m    307\u001b[0m                 \u001b[0;34m\"You want to use `wandb` logger which is not installed yet,\"\u001b[0m\u001b[0;34m\u001b[0m\u001b[0;34m\u001b[0m\u001b[0m\n\u001b[1;32m    308\u001b[0m                 \u001b[0;34m\" install it with `pip install wandb`.\"\u001b[0m  \u001b[0;31m# pragma: no-cover\u001b[0m\u001b[0;34m\u001b[0m\u001b[0;34m\u001b[0m\u001b[0m\n",
            "\u001b[0;31mModuleNotFoundError\u001b[0m: You want to use `wandb` logger which is not installed yet, install it with `pip install wandb`.",
            "",
            "\u001b[0;31m---------------------------------------------------------------------------\u001b[0;32m\nNOTE: If your import is failing due to a missing package, you can\nmanually install dependencies using either !pip or !apt.\n\nTo view examples of installing some common dependencies, click the\n\"Open Examples\" button below.\n\u001b[0;31m---------------------------------------------------------------------------\u001b[0m\n"
          ],
          "errorDetails": {
            "actions": [
              {
                "action": "open_url",
                "actionText": "Open Examples",
                "url": "/notebooks/snippets/importing_libraries.ipynb"
              }
            ]
          }
        }
      ]
    },
    {
      "cell_type": "code",
      "source": [
        "f = pl.Trainer(logger=wandb_logger, accelerator=\"gpu\", max_epochs=10, auto_lr_find=True)  # YOUR CODE HERE\n",
        "\n",
        "f.tune(module, train_dataloader, test_dataloader)\n",
        "\n",
        "f.fit(module, train_dataloader, test_dataloader)"
      ],
      "metadata": {
        "colab": {
          "base_uri": "https://localhost:8080/",
          "height": 250
        },
        "id": "w0eZWvMc-hw0",
        "outputId": "ccc1d04c-763e-44e8-8ad9-81af88e470f6"
      },
      "execution_count": 215,
      "outputs": [
        {
          "output_type": "error",
          "ename": "NameError",
          "evalue": "ignored",
          "traceback": [
            "\u001b[0;31m---------------------------------------------------------------------------\u001b[0m",
            "\u001b[0;31mNameError\u001b[0m                                 Traceback (most recent call last)",
            "\u001b[0;32m<ipython-input-215-5f28ba0cf9ce>\u001b[0m in \u001b[0;36m<cell line: 1>\u001b[0;34m()\u001b[0m\n\u001b[0;32m----> 1\u001b[0;31m \u001b[0mf\u001b[0m \u001b[0;34m=\u001b[0m \u001b[0mpl\u001b[0m\u001b[0;34m.\u001b[0m\u001b[0mTrainer\u001b[0m\u001b[0;34m(\u001b[0m\u001b[0mlogger\u001b[0m\u001b[0;34m=\u001b[0m\u001b[0mwandb_logger\u001b[0m\u001b[0;34m,\u001b[0m \u001b[0maccelerator\u001b[0m\u001b[0;34m=\u001b[0m\u001b[0;34m\"gpu\"\u001b[0m\u001b[0;34m,\u001b[0m \u001b[0mmax_epochs\u001b[0m\u001b[0;34m=\u001b[0m\u001b[0;36m10\u001b[0m\u001b[0;34m,\u001b[0m \u001b[0mauto_lr_find\u001b[0m\u001b[0;34m=\u001b[0m\u001b[0;32mTrue\u001b[0m\u001b[0;34m)\u001b[0m  \u001b[0;31m# YOUR CODE HERE\u001b[0m\u001b[0;34m\u001b[0m\u001b[0;34m\u001b[0m\u001b[0m\n\u001b[0m\u001b[1;32m      2\u001b[0m \u001b[0;34m\u001b[0m\u001b[0m\n\u001b[1;32m      3\u001b[0m \u001b[0mf\u001b[0m\u001b[0;34m.\u001b[0m\u001b[0mtune\u001b[0m\u001b[0;34m(\u001b[0m\u001b[0mmodule\u001b[0m\u001b[0;34m,\u001b[0m \u001b[0mtrain_dataloader\u001b[0m\u001b[0;34m,\u001b[0m \u001b[0mtest_dataloader\u001b[0m\u001b[0;34m)\u001b[0m\u001b[0;34m\u001b[0m\u001b[0;34m\u001b[0m\u001b[0m\n\u001b[1;32m      4\u001b[0m \u001b[0;34m\u001b[0m\u001b[0m\n\u001b[1;32m      5\u001b[0m \u001b[0mf\u001b[0m\u001b[0;34m.\u001b[0m\u001b[0mfit\u001b[0m\u001b[0;34m(\u001b[0m\u001b[0mmodule\u001b[0m\u001b[0;34m,\u001b[0m \u001b[0mtrain_dataloader\u001b[0m\u001b[0;34m,\u001b[0m \u001b[0mtest_dataloader\u001b[0m\u001b[0;34m)\u001b[0m\u001b[0;34m\u001b[0m\u001b[0;34m\u001b[0m\u001b[0m\n",
            "\u001b[0;31mNameError\u001b[0m: name 'wandb_logger' is not defined"
          ]
        }
      ]
    }
  ]
}